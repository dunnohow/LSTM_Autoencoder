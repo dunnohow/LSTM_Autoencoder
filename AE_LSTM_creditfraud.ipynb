{
  "nbformat": 4,
  "nbformat_minor": 0,
  "metadata": {
    "colab": {
      "name": "AE_LSTM_creditfraud.ipynb",
      "provenance": [],
      "collapsed_sections": [],
      "machine_shape": "hm",
      "authorship_tag": "ABX9TyP6V4Me6tcu1EF5Mk2CaJlG",
      "include_colab_link": true
    },
    "kernelspec": {
      "name": "python3",
      "display_name": "Python 3"
    },
    "accelerator": "GPU"
  },
  "cells": [
    {
      "cell_type": "markdown",
      "metadata": {
        "id": "view-in-github",
        "colab_type": "text"
      },
      "source": [
        "<a href=\"https://colab.research.google.com/github/dunnohow/LSTM_Autoencoder/blob/master/AE_LSTM_creditfraud.ipynb\" target=\"_parent\"><img src=\"https://colab.research.google.com/assets/colab-badge.svg\" alt=\"Open In Colab\"/></a>"
      ]
    },
    {
      "cell_type": "markdown",
      "metadata": {
        "id": "SwdLYL4SHlAc",
        "colab_type": "text"
      },
      "source": [
        "<br>\n",
        "\n",
        "#**Initialize**"
      ]
    },
    {
      "cell_type": "code",
      "metadata": {
        "id": "3BUA8SAyBALT",
        "colab_type": "code",
        "colab": {
          "base_uri": "https://localhost:8080/",
          "height": 49
        },
        "outputId": "d44ac15d-3b4d-4440-f453-7fa3078b2bc7"
      },
      "source": [
        "!pip install -qq arff2pandas"
      ],
      "execution_count": 1,
      "outputs": [
        {
          "output_type": "stream",
          "text": [
            "  Building wheel for arff2pandas (setup.py) ... \u001b[?25l\u001b[?25hdone\n",
            "  Building wheel for liac-arff (setup.py) ... \u001b[?25l\u001b[?25hdone\n"
          ],
          "name": "stdout"
        }
      ]
    },
    {
      "cell_type": "code",
      "metadata": {
        "id": "TDf0FHvuBBLo",
        "colab_type": "code",
        "colab": {
          "base_uri": "https://localhost:8080/",
          "height": 345
        },
        "outputId": "a65c50a2-647c-4d10-c4ef-bdcbfe000c5c"
      },
      "source": [
        "!nvidia-smi"
      ],
      "execution_count": 2,
      "outputs": [
        {
          "output_type": "stream",
          "text": [
            "Tue Jul 21 00:12:20 2020       \n",
            "+-----------------------------------------------------------------------------+\n",
            "| NVIDIA-SMI 450.51.05    Driver Version: 418.67       CUDA Version: 10.1     |\n",
            "|-------------------------------+----------------------+----------------------+\n",
            "| GPU  Name        Persistence-M| Bus-Id        Disp.A | Volatile Uncorr. ECC |\n",
            "| Fan  Temp  Perf  Pwr:Usage/Cap|         Memory-Usage | GPU-Util  Compute M. |\n",
            "|                               |                      |               MIG M. |\n",
            "|===============================+======================+======================|\n",
            "|   0  Tesla P100-PCIE...  Off  | 00000000:00:04.0 Off |                    0 |\n",
            "| N/A   40C    P0    28W / 250W |      0MiB / 16280MiB |      0%      Default |\n",
            "|                               |                      |                 ERR! |\n",
            "+-------------------------------+----------------------+----------------------+\n",
            "                                                                               \n",
            "+-----------------------------------------------------------------------------+\n",
            "| Processes:                                                                  |\n",
            "|  GPU   GI   CI        PID   Type   Process name                  GPU Memory |\n",
            "|        ID   ID                                                   Usage      |\n",
            "|=============================================================================|\n",
            "|  No running processes found                                                 |\n",
            "+-----------------------------------------------------------------------------+\n"
          ],
          "name": "stdout"
        }
      ]
    },
    {
      "cell_type": "code",
      "metadata": {
        "id": "edbKD66QBBRR",
        "colab_type": "code",
        "colab": {}
      },
      "source": [
        "!pip install -q -U watermark"
      ],
      "execution_count": 3,
      "outputs": []
    },
    {
      "cell_type": "code",
      "metadata": {
        "id": "YhrggehKBBXC",
        "colab_type": "code",
        "colab": {}
      },
      "source": [
        "!pip install -qq -U pandas"
      ],
      "execution_count": 4,
      "outputs": []
    },
    {
      "cell_type": "code",
      "metadata": {
        "id": "WtIVL14EBGjP",
        "colab_type": "code",
        "colab": {
          "base_uri": "https://localhost:8080/",
          "height": 131
        },
        "outputId": "f9436ef6-ddc1-4620-c107-59f50ed24687"
      },
      "source": [
        "%reload_ext watermark\n",
        "%watermark -v -p numpy,pandas,torch,arff2pandas"
      ],
      "execution_count": 5,
      "outputs": [
        {
          "output_type": "stream",
          "text": [
            "CPython 3.6.9\n",
            "IPython 5.5.0\n",
            "\n",
            "numpy 1.18.5\n",
            "pandas 1.0.5\n",
            "torch 1.5.1+cu101\n",
            "arff2pandas 1.0.1\n"
          ],
          "name": "stdout"
        }
      ]
    },
    {
      "cell_type": "code",
      "metadata": {
        "id": "PuBH7djMb9YP",
        "colab_type": "code",
        "colab": {
          "base_uri": "https://localhost:8080/",
          "height": 85
        },
        "outputId": "11df6725-3231-490c-c379-1e56c1f27bb5"
      },
      "source": [
        "import torch\n",
        "\n",
        "import copy\n",
        "import numpy as np\n",
        "import pandas as pd\n",
        "import seaborn as sns\n",
        "from pylab import rcParams\n",
        "import matplotlib.pyplot as plt\n",
        "from matplotlib import rc\n",
        "from sklearn.model_selection import train_test_split\n",
        "from sklearn.preprocessing import StandardScaler\n",
        "from tqdm.notebook import tqdm\n",
        "\n",
        "from torch import nn, optim\n",
        "from torch.utils.data import DataLoader\n",
        "import torch.nn.functional as F\n",
        "from arff2pandas import a2p\n",
        "\n",
        "\n",
        "%matplotlib inline\n",
        "%config InlineBackend.figure_format='retina'\n",
        "\n",
        "sns.set(style='whitegrid', palette='muted', font_scale=1.2)\n",
        "\n",
        "HAPPY_COLORS_PALETTE = [\"#01BEFE\", \"#FFDD00\", \"#FF7D00\", \"#FF006D\", \"#ADFF02\", \"#8F00FF\"]\n",
        "\n",
        "sns.set_palette(sns.color_palette(HAPPY_COLORS_PALETTE))\n",
        "\n",
        "rcParams['figure.figsize'] = 12, 8\n",
        "\n",
        "RANDOM_SEED = 42\n",
        "np.random.seed(RANDOM_SEED)\n",
        "torch.manual_seed(RANDOM_SEED)"
      ],
      "execution_count": 6,
      "outputs": [
        {
          "output_type": "stream",
          "text": [
            "/usr/local/lib/python3.6/dist-packages/statsmodels/tools/_testing.py:19: FutureWarning: pandas.util.testing is deprecated. Use the functions in the public API at pandas.testing instead.\n",
            "  import pandas.util.testing as tm\n"
          ],
          "name": "stderr"
        },
        {
          "output_type": "execute_result",
          "data": {
            "text/plain": [
              "<torch._C.Generator at 0x7f90f2751670>"
            ]
          },
          "metadata": {
            "tags": []
          },
          "execution_count": 6
        }
      ]
    },
    {
      "cell_type": "code",
      "metadata": {
        "id": "S4SoimP-cOzC",
        "colab_type": "code",
        "colab": {
          "base_uri": "https://localhost:8080/"
        },
        "outputId": "a0b8c085-5af9-49ca-c0db-0f38856276c9"
      },
      "source": [
        "# 디바이스 설정\n",
        "if torch.cuda.is_available():    \n",
        "    device = torch.device(\"cuda\")\n",
        "    print('There are %d GPU(s) available.' % torch.cuda.device_count())\n",
        "    print('We will use the GPU:', torch.cuda.get_device_name(0))\n",
        "else:\n",
        "    device = torch.device(\"cpu\")\n",
        "    print('No GPU available, using the CPU instead.')"
      ],
      "execution_count": 7,
      "outputs": [
        {
          "output_type": "stream",
          "text": [
            "There are 1 GPU(s) available.\n",
            "We will use the GPU: Tesla P100-PCIE-16GB\n"
          ],
          "name": "stdout"
        }
      ]
    },
    {
      "cell_type": "markdown",
      "metadata": {
        "id": "VSY1opGWHu-c",
        "colab_type": "text"
      },
      "source": [
        "<br>\n",
        "<br>\n",
        "\n",
        "#**Load Data**"
      ]
    },
    {
      "cell_type": "code",
      "metadata": {
        "id": "6SIq8OglcaXd",
        "colab_type": "code",
        "colab": {
          "base_uri": "https://localhost:8080/",
          "height": 118
        },
        "outputId": "f83cd86a-ceb9-47d1-bc27-0189a68b3cd2"
      },
      "source": [
        "import os\n",
        "from google.colab import drive\n",
        "drive.mount('/content/drive/')"
      ],
      "execution_count": 9,
      "outputs": [
        {
          "output_type": "stream",
          "text": [
            "Go to this URL in a browser: https://accounts.google.com/o/oauth2/auth?client_id=947318989803-6bn6qk8qdgf4n4g3pfee6491hc0brc4i.apps.googleusercontent.com&redirect_uri=urn%3aietf%3awg%3aoauth%3a2.0%3aoob&response_type=code&scope=email%20https%3a%2f%2fwww.googleapis.com%2fauth%2fdocs.test%20https%3a%2f%2fwww.googleapis.com%2fauth%2fdrive%20https%3a%2f%2fwww.googleapis.com%2fauth%2fdrive.photos.readonly%20https%3a%2f%2fwww.googleapis.com%2fauth%2fpeopleapi.readonly\n",
            "\n",
            "Enter your authorization code:\n",
            "··········\n",
            "Mounted at /content/drive/\n"
          ],
          "name": "stdout"
        }
      ]
    },
    {
      "cell_type": "code",
      "metadata": {
        "id": "HWCsYNPhclHz",
        "colab_type": "code",
        "colab": {
          "base_uri": "https://localhost:8080/",
          "height": 32
        },
        "outputId": "dea429ef-03d3-43c3-9ebb-318d66b10597"
      },
      "source": [
        "path = \"/content/drive/My Drive/LSTM_prac/credit_fraud/\"\n",
        "os.listdir(path)"
      ],
      "execution_count": 10,
      "outputs": [
        {
          "output_type": "execute_result",
          "data": {
            "text/plain": [
              "['creditcard.csv', 'LSTM_creditfraud.ipynb']"
            ]
          },
          "metadata": {
            "tags": []
          },
          "execution_count": 10
        }
      ]
    },
    {
      "cell_type": "code",
      "metadata": {
        "id": "zWIsqufD0SlC",
        "colab_type": "code",
        "colab": {}
      },
      "source": [
        "device = torch.device(\"cuda\")"
      ],
      "execution_count": 11,
      "outputs": []
    },
    {
      "cell_type": "code",
      "metadata": {
        "id": "Wk13Q0fqqUIl",
        "colab_type": "code",
        "colab": {}
      },
      "source": [
        "learning_rate = 0.01"
      ],
      "execution_count": 12,
      "outputs": []
    },
    {
      "cell_type": "code",
      "metadata": {
        "id": "NF2vrppDcy6l",
        "colab_type": "code",
        "colab": {
          "base_uri": "https://localhost:8080/",
          "height": 32
        },
        "outputId": "5abf329e-225e-41a0-bd05-8b8b56d28865"
      },
      "source": [
        "train = pd.read_csv(path + 'creditcard.csv')\n",
        "train.pop('Time')\n",
        "train.shape"
      ],
      "execution_count": 13,
      "outputs": [
        {
          "output_type": "execute_result",
          "data": {
            "text/plain": [
              "(284807, 30)"
            ]
          },
          "metadata": {
            "tags": []
          },
          "execution_count": 13
        }
      ]
    },
    {
      "cell_type": "code",
      "metadata": {
        "id": "kYe7ZTQDc3I7",
        "colab_type": "code",
        "colab": {
          "base_uri": "https://localhost:8080/",
          "height": 221
        },
        "outputId": "0c0af0ec-03f3-4782-f8b9-2b9586771f93"
      },
      "source": [
        "train.head()"
      ],
      "execution_count": 14,
      "outputs": [
        {
          "output_type": "execute_result",
          "data": {
            "text/html": [
              "<div>\n",
              "<style scoped>\n",
              "    .dataframe tbody tr th:only-of-type {\n",
              "        vertical-align: middle;\n",
              "    }\n",
              "\n",
              "    .dataframe tbody tr th {\n",
              "        vertical-align: top;\n",
              "    }\n",
              "\n",
              "    .dataframe thead th {\n",
              "        text-align: right;\n",
              "    }\n",
              "</style>\n",
              "<table border=\"1\" class=\"dataframe\">\n",
              "  <thead>\n",
              "    <tr style=\"text-align: right;\">\n",
              "      <th></th>\n",
              "      <th>V1</th>\n",
              "      <th>V2</th>\n",
              "      <th>V3</th>\n",
              "      <th>V4</th>\n",
              "      <th>V5</th>\n",
              "      <th>V6</th>\n",
              "      <th>V7</th>\n",
              "      <th>V8</th>\n",
              "      <th>V9</th>\n",
              "      <th>V10</th>\n",
              "      <th>V11</th>\n",
              "      <th>V12</th>\n",
              "      <th>V13</th>\n",
              "      <th>V14</th>\n",
              "      <th>V15</th>\n",
              "      <th>V16</th>\n",
              "      <th>V17</th>\n",
              "      <th>V18</th>\n",
              "      <th>V19</th>\n",
              "      <th>V20</th>\n",
              "      <th>V21</th>\n",
              "      <th>V22</th>\n",
              "      <th>V23</th>\n",
              "      <th>V24</th>\n",
              "      <th>V25</th>\n",
              "      <th>V26</th>\n",
              "      <th>V27</th>\n",
              "      <th>V28</th>\n",
              "      <th>Amount</th>\n",
              "      <th>Class</th>\n",
              "    </tr>\n",
              "  </thead>\n",
              "  <tbody>\n",
              "    <tr>\n",
              "      <th>0</th>\n",
              "      <td>-1.359807</td>\n",
              "      <td>-0.072781</td>\n",
              "      <td>2.536347</td>\n",
              "      <td>1.378155</td>\n",
              "      <td>-0.338321</td>\n",
              "      <td>0.462388</td>\n",
              "      <td>0.239599</td>\n",
              "      <td>0.098698</td>\n",
              "      <td>0.363787</td>\n",
              "      <td>0.090794</td>\n",
              "      <td>-0.551600</td>\n",
              "      <td>-0.617801</td>\n",
              "      <td>-0.991390</td>\n",
              "      <td>-0.311169</td>\n",
              "      <td>1.468177</td>\n",
              "      <td>-0.470401</td>\n",
              "      <td>0.207971</td>\n",
              "      <td>0.025791</td>\n",
              "      <td>0.403993</td>\n",
              "      <td>0.251412</td>\n",
              "      <td>-0.018307</td>\n",
              "      <td>0.277838</td>\n",
              "      <td>-0.110474</td>\n",
              "      <td>0.066928</td>\n",
              "      <td>0.128539</td>\n",
              "      <td>-0.189115</td>\n",
              "      <td>0.133558</td>\n",
              "      <td>-0.021053</td>\n",
              "      <td>149.62</td>\n",
              "      <td>0</td>\n",
              "    </tr>\n",
              "    <tr>\n",
              "      <th>1</th>\n",
              "      <td>1.191857</td>\n",
              "      <td>0.266151</td>\n",
              "      <td>0.166480</td>\n",
              "      <td>0.448154</td>\n",
              "      <td>0.060018</td>\n",
              "      <td>-0.082361</td>\n",
              "      <td>-0.078803</td>\n",
              "      <td>0.085102</td>\n",
              "      <td>-0.255425</td>\n",
              "      <td>-0.166974</td>\n",
              "      <td>1.612727</td>\n",
              "      <td>1.065235</td>\n",
              "      <td>0.489095</td>\n",
              "      <td>-0.143772</td>\n",
              "      <td>0.635558</td>\n",
              "      <td>0.463917</td>\n",
              "      <td>-0.114805</td>\n",
              "      <td>-0.183361</td>\n",
              "      <td>-0.145783</td>\n",
              "      <td>-0.069083</td>\n",
              "      <td>-0.225775</td>\n",
              "      <td>-0.638672</td>\n",
              "      <td>0.101288</td>\n",
              "      <td>-0.339846</td>\n",
              "      <td>0.167170</td>\n",
              "      <td>0.125895</td>\n",
              "      <td>-0.008983</td>\n",
              "      <td>0.014724</td>\n",
              "      <td>2.69</td>\n",
              "      <td>0</td>\n",
              "    </tr>\n",
              "    <tr>\n",
              "      <th>2</th>\n",
              "      <td>-1.358354</td>\n",
              "      <td>-1.340163</td>\n",
              "      <td>1.773209</td>\n",
              "      <td>0.379780</td>\n",
              "      <td>-0.503198</td>\n",
              "      <td>1.800499</td>\n",
              "      <td>0.791461</td>\n",
              "      <td>0.247676</td>\n",
              "      <td>-1.514654</td>\n",
              "      <td>0.207643</td>\n",
              "      <td>0.624501</td>\n",
              "      <td>0.066084</td>\n",
              "      <td>0.717293</td>\n",
              "      <td>-0.165946</td>\n",
              "      <td>2.345865</td>\n",
              "      <td>-2.890083</td>\n",
              "      <td>1.109969</td>\n",
              "      <td>-0.121359</td>\n",
              "      <td>-2.261857</td>\n",
              "      <td>0.524980</td>\n",
              "      <td>0.247998</td>\n",
              "      <td>0.771679</td>\n",
              "      <td>0.909412</td>\n",
              "      <td>-0.689281</td>\n",
              "      <td>-0.327642</td>\n",
              "      <td>-0.139097</td>\n",
              "      <td>-0.055353</td>\n",
              "      <td>-0.059752</td>\n",
              "      <td>378.66</td>\n",
              "      <td>0</td>\n",
              "    </tr>\n",
              "    <tr>\n",
              "      <th>3</th>\n",
              "      <td>-0.966272</td>\n",
              "      <td>-0.185226</td>\n",
              "      <td>1.792993</td>\n",
              "      <td>-0.863291</td>\n",
              "      <td>-0.010309</td>\n",
              "      <td>1.247203</td>\n",
              "      <td>0.237609</td>\n",
              "      <td>0.377436</td>\n",
              "      <td>-1.387024</td>\n",
              "      <td>-0.054952</td>\n",
              "      <td>-0.226487</td>\n",
              "      <td>0.178228</td>\n",
              "      <td>0.507757</td>\n",
              "      <td>-0.287924</td>\n",
              "      <td>-0.631418</td>\n",
              "      <td>-1.059647</td>\n",
              "      <td>-0.684093</td>\n",
              "      <td>1.965775</td>\n",
              "      <td>-1.232622</td>\n",
              "      <td>-0.208038</td>\n",
              "      <td>-0.108300</td>\n",
              "      <td>0.005274</td>\n",
              "      <td>-0.190321</td>\n",
              "      <td>-1.175575</td>\n",
              "      <td>0.647376</td>\n",
              "      <td>-0.221929</td>\n",
              "      <td>0.062723</td>\n",
              "      <td>0.061458</td>\n",
              "      <td>123.50</td>\n",
              "      <td>0</td>\n",
              "    </tr>\n",
              "    <tr>\n",
              "      <th>4</th>\n",
              "      <td>-1.158233</td>\n",
              "      <td>0.877737</td>\n",
              "      <td>1.548718</td>\n",
              "      <td>0.403034</td>\n",
              "      <td>-0.407193</td>\n",
              "      <td>0.095921</td>\n",
              "      <td>0.592941</td>\n",
              "      <td>-0.270533</td>\n",
              "      <td>0.817739</td>\n",
              "      <td>0.753074</td>\n",
              "      <td>-0.822843</td>\n",
              "      <td>0.538196</td>\n",
              "      <td>1.345852</td>\n",
              "      <td>-1.119670</td>\n",
              "      <td>0.175121</td>\n",
              "      <td>-0.451449</td>\n",
              "      <td>-0.237033</td>\n",
              "      <td>-0.038195</td>\n",
              "      <td>0.803487</td>\n",
              "      <td>0.408542</td>\n",
              "      <td>-0.009431</td>\n",
              "      <td>0.798278</td>\n",
              "      <td>-0.137458</td>\n",
              "      <td>0.141267</td>\n",
              "      <td>-0.206010</td>\n",
              "      <td>0.502292</td>\n",
              "      <td>0.219422</td>\n",
              "      <td>0.215153</td>\n",
              "      <td>69.99</td>\n",
              "      <td>0</td>\n",
              "    </tr>\n",
              "  </tbody>\n",
              "</table>\n",
              "</div>"
            ],
            "text/plain": [
              "         V1        V2        V3        V4  ...       V27       V28  Amount  Class\n",
              "0 -1.359807 -0.072781  2.536347  1.378155  ...  0.133558 -0.021053  149.62      0\n",
              "1  1.191857  0.266151  0.166480  0.448154  ... -0.008983  0.014724    2.69      0\n",
              "2 -1.358354 -1.340163  1.773209  0.379780  ... -0.055353 -0.059752  378.66      0\n",
              "3 -0.966272 -0.185226  1.792993 -0.863291  ...  0.062723  0.061458  123.50      0\n",
              "4 -1.158233  0.877737  1.548718  0.403034  ...  0.219422  0.215153   69.99      0\n",
              "\n",
              "[5 rows x 30 columns]"
            ]
          },
          "metadata": {
            "tags": []
          },
          "execution_count": 14
        }
      ]
    },
    {
      "cell_type": "code",
      "metadata": {
        "id": "vEFk9rltc7ko",
        "colab_type": "code",
        "colab": {
          "base_uri": "https://localhost:8080/",
          "height": 65
        },
        "outputId": "7d028b8c-bbe6-4d15-992f-1b2861be88e2"
      },
      "source": [
        "train.Class.value_counts()"
      ],
      "execution_count": 15,
      "outputs": [
        {
          "output_type": "execute_result",
          "data": {
            "text/plain": [
              "0    284315\n",
              "1       492\n",
              "Name: Class, dtype: int64"
            ]
          },
          "metadata": {
            "tags": []
          },
          "execution_count": 15
        }
      ]
    },
    {
      "cell_type": "code",
      "metadata": {
        "id": "5POL3oZ_eggf",
        "colab_type": "code",
        "colab": {}
      },
      "source": [
        "train = train.iloc[:10000,:]"
      ],
      "execution_count": 16,
      "outputs": []
    },
    {
      "cell_type": "code",
      "metadata": {
        "id": "LYyfWmoquGrZ",
        "colab_type": "code",
        "colab": {}
      },
      "source": [
        "scaler = StandardScaler()"
      ],
      "execution_count": 21,
      "outputs": []
    },
    {
      "cell_type": "code",
      "metadata": {
        "id": "JH7Wn40cuDdc",
        "colab_type": "code",
        "colab": {
          "base_uri": "https://localhost:8080/",
          "height": 221
        },
        "outputId": "2c0fecf5-9756-4975-f480-69f8a70edd31"
      },
      "source": [
        "train_scaled = pd.DataFrame(scaler.fit_transform(train.iloc[:,:29]), columns=train.iloc[:,:29].columns)\n",
        "train_scaled = pd.concat([train_scaled, train['Class']], axis=1, sort=False)\n",
        "train_scaled.head()"
      ],
      "execution_count": 31,
      "outputs": [
        {
          "output_type": "execute_result",
          "data": {
            "text/html": [
              "<div>\n",
              "<style scoped>\n",
              "    .dataframe tbody tr th:only-of-type {\n",
              "        vertical-align: middle;\n",
              "    }\n",
              "\n",
              "    .dataframe tbody tr th {\n",
              "        vertical-align: top;\n",
              "    }\n",
              "\n",
              "    .dataframe thead th {\n",
              "        text-align: right;\n",
              "    }\n",
              "</style>\n",
              "<table border=\"1\" class=\"dataframe\">\n",
              "  <thead>\n",
              "    <tr style=\"text-align: right;\">\n",
              "      <th></th>\n",
              "      <th>V1</th>\n",
              "      <th>V2</th>\n",
              "      <th>V3</th>\n",
              "      <th>V4</th>\n",
              "      <th>V5</th>\n",
              "      <th>V6</th>\n",
              "      <th>V7</th>\n",
              "      <th>V8</th>\n",
              "      <th>V9</th>\n",
              "      <th>V10</th>\n",
              "      <th>V11</th>\n",
              "      <th>V12</th>\n",
              "      <th>V13</th>\n",
              "      <th>V14</th>\n",
              "      <th>V15</th>\n",
              "      <th>V16</th>\n",
              "      <th>V17</th>\n",
              "      <th>V18</th>\n",
              "      <th>V19</th>\n",
              "      <th>V20</th>\n",
              "      <th>V21</th>\n",
              "      <th>V22</th>\n",
              "      <th>V23</th>\n",
              "      <th>V24</th>\n",
              "      <th>V25</th>\n",
              "      <th>V26</th>\n",
              "      <th>V27</th>\n",
              "      <th>V28</th>\n",
              "      <th>Amount</th>\n",
              "      <th>Class</th>\n",
              "    </tr>\n",
              "  </thead>\n",
              "  <tbody>\n",
              "    <tr>\n",
              "      <th>0</th>\n",
              "      <td>-0.734715</td>\n",
              "      <td>-0.271185</td>\n",
              "      <td>1.406335</td>\n",
              "      <td>0.772992</td>\n",
              "      <td>-0.246790</td>\n",
              "      <td>0.251889</td>\n",
              "      <td>0.288932</td>\n",
              "      <td>0.129846</td>\n",
              "      <td>-0.379553</td>\n",
              "      <td>0.286963</td>\n",
              "      <td>-1.127616</td>\n",
              "      <td>0.428593</td>\n",
              "      <td>-1.519216</td>\n",
              "      <td>-0.816449</td>\n",
              "      <td>1.637899</td>\n",
              "      <td>-0.524532</td>\n",
              "      <td>-0.114887</td>\n",
              "      <td>0.052711</td>\n",
              "      <td>0.586897</td>\n",
              "      <td>0.379517</td>\n",
              "      <td>0.036862</td>\n",
              "      <td>0.682209</td>\n",
              "      <td>-0.158276</td>\n",
              "      <td>0.076705</td>\n",
              "      <td>0.096681</td>\n",
              "      <td>-0.528205</td>\n",
              "      <td>0.311650</td>\n",
              "      <td>-0.090025</td>\n",
              "      <td>0.469380</td>\n",
              "      <td>0</td>\n",
              "    </tr>\n",
              "    <tr>\n",
              "      <th>1</th>\n",
              "      <td>0.942243</td>\n",
              "      <td>-0.012077</td>\n",
              "      <td>-0.638247</td>\n",
              "      <td>0.127679</td>\n",
              "      <td>0.089964</td>\n",
              "      <td>-0.164826</td>\n",
              "      <td>-0.006603</td>\n",
              "      <td>0.119046</td>\n",
              "      <td>-0.915602</td>\n",
              "      <td>0.051234</td>\n",
              "      <td>0.724544</td>\n",
              "      <td>1.530357</td>\n",
              "      <td>-0.298694</td>\n",
              "      <td>-0.681367</td>\n",
              "      <td>0.784390</td>\n",
              "      <td>0.534769</td>\n",
              "      <td>-0.448904</td>\n",
              "      <td>-0.210631</td>\n",
              "      <td>-0.093239</td>\n",
              "      <td>-0.163728</td>\n",
              "      <td>-0.190186</td>\n",
              "      <td>-0.770144</td>\n",
              "      <td>0.275850</td>\n",
              "      <td>-0.607640</td>\n",
              "      <td>0.186909</td>\n",
              "      <td>0.031549</td>\n",
              "      <td>-0.035295</td>\n",
              "      <td>0.044357</td>\n",
              "      <td>-0.327088</td>\n",
              "      <td>0</td>\n",
              "    </tr>\n",
              "    <tr>\n",
              "      <th>2</th>\n",
              "      <td>-0.733760</td>\n",
              "      <td>-1.240077</td>\n",
              "      <td>0.747945</td>\n",
              "      <td>0.080235</td>\n",
              "      <td>-0.386177</td>\n",
              "      <td>1.275500</td>\n",
              "      <td>0.801160</td>\n",
              "      <td>0.248176</td>\n",
              "      <td>-2.005712</td>\n",
              "      <td>0.393821</td>\n",
              "      <td>-0.121147</td>\n",
              "      <td>0.876284</td>\n",
              "      <td>-0.110567</td>\n",
              "      <td>-0.699260</td>\n",
              "      <td>2.537608</td>\n",
              "      <td>-3.267895</td>\n",
              "      <td>0.818527</td>\n",
              "      <td>-0.132565</td>\n",
              "      <td>-2.711063</td>\n",
              "      <td>0.843219</td>\n",
              "      <td>0.328299</td>\n",
              "      <td>1.464779</td>\n",
              "      <td>1.932557</td>\n",
              "      <td>-1.195518</td>\n",
              "      <td>-0.968790</td>\n",
              "      <td>-0.439325</td>\n",
              "      <td>-0.148159</td>\n",
              "      <td>-0.235381</td>\n",
              "      <td>1.710945</td>\n",
              "      <td>0</td>\n",
              "    </tr>\n",
              "    <tr>\n",
              "      <th>3</th>\n",
              "      <td>-0.476083</td>\n",
              "      <td>-0.357147</td>\n",
              "      <td>0.765013</td>\n",
              "      <td>-0.782312</td>\n",
              "      <td>0.030510</td>\n",
              "      <td>0.852247</td>\n",
              "      <td>0.287085</td>\n",
              "      <td>0.351242</td>\n",
              "      <td>-1.895223</td>\n",
              "      <td>0.153678</td>\n",
              "      <td>-0.849395</td>\n",
              "      <td>0.949697</td>\n",
              "      <td>-0.283309</td>\n",
              "      <td>-0.797691</td>\n",
              "      <td>-0.514373</td>\n",
              "      <td>-1.192602</td>\n",
              "      <td>-1.038020</td>\n",
              "      <td>2.495341</td>\n",
              "      <td>-1.437782</td>\n",
              "      <td>-0.399259</td>\n",
              "      <td>-0.061625</td>\n",
              "      <td>0.250288</td>\n",
              "      <td>-0.321967</td>\n",
              "      <td>-2.013644</td>\n",
              "      <td>1.308492</td>\n",
              "      <td>-0.586513</td>\n",
              "      <td>0.139236</td>\n",
              "      <td>0.219893</td>\n",
              "      <td>0.327791</td>\n",
              "      <td>0</td>\n",
              "    </tr>\n",
              "    <tr>\n",
              "      <th>4</th>\n",
              "      <td>-0.602240</td>\n",
              "      <td>0.455470</td>\n",
              "      <td>0.554267</td>\n",
              "      <td>0.096371</td>\n",
              "      <td>-0.305015</td>\n",
              "      <td>-0.028446</td>\n",
              "      <td>0.616897</td>\n",
              "      <td>-0.163427</td>\n",
              "      <td>0.013432</td>\n",
              "      <td>0.892619</td>\n",
              "      <td>-1.359737</td>\n",
              "      <td>1.185341</td>\n",
              "      <td>0.407621</td>\n",
              "      <td>-1.468871</td>\n",
              "      <td>0.312401</td>\n",
              "      <td>-0.503045</td>\n",
              "      <td>-0.575390</td>\n",
              "      <td>-0.027853</td>\n",
              "      <td>1.081116</td>\n",
              "      <td>0.645855</td>\n",
              "      <td>0.046576</td>\n",
              "      <td>1.506929</td>\n",
              "      <td>-0.213596</td>\n",
              "      <td>0.201770</td>\n",
              "      <td>-0.684702</td>\n",
              "      <td>0.700385</td>\n",
              "      <td>0.520642</td>\n",
              "      <td>0.797187</td>\n",
              "      <td>0.037727</td>\n",
              "      <td>0</td>\n",
              "    </tr>\n",
              "  </tbody>\n",
              "</table>\n",
              "</div>"
            ],
            "text/plain": [
              "         V1        V2        V3        V4  ...       V27       V28    Amount  Class\n",
              "0 -0.734715 -0.271185  1.406335  0.772992  ...  0.311650 -0.090025  0.469380      0\n",
              "1  0.942243 -0.012077 -0.638247  0.127679  ... -0.035295  0.044357 -0.327088      0\n",
              "2 -0.733760 -1.240077  0.747945  0.080235  ... -0.148159 -0.235381  1.710945      0\n",
              "3 -0.476083 -0.357147  0.765013 -0.782312  ...  0.139236  0.219893  0.327791      0\n",
              "4 -0.602240  0.455470  0.554267  0.096371  ...  0.520642  0.797187  0.037727      0\n",
              "\n",
              "[5 rows x 30 columns]"
            ]
          },
          "metadata": {
            "tags": []
          },
          "execution_count": 31
        }
      ]
    },
    {
      "cell_type": "code",
      "metadata": {
        "id": "esBwOZAxfjOO",
        "colab_type": "code",
        "colab": {
          "base_uri": "https://localhost:8080/",
          "height": 32
        },
        "outputId": "f47355fd-3bd4-44bd-d1c9-5856deb692ae"
      },
      "source": [
        "non_fraud = train_scaled[train_scaled.Class != 1].drop(labels = 'Class', axis = 1)\n",
        "non_fraud = non_fraud.iloc[:10000,:]\n",
        "non_fraud.shape"
      ],
      "execution_count": 32,
      "outputs": [
        {
          "output_type": "execute_result",
          "data": {
            "text/plain": [
              "(9962, 29)"
            ]
          },
          "metadata": {
            "tags": []
          },
          "execution_count": 32
        }
      ]
    },
    {
      "cell_type": "code",
      "metadata": {
        "id": "h2-XH9IehblA",
        "colab_type": "code",
        "colab": {
          "base_uri": "https://localhost:8080/",
          "height": 32
        },
        "outputId": "94a31f3c-1ef3-4ca1-f9d8-d05f480f1bad"
      },
      "source": [
        "fraud = train_scaled[train_scaled.Class == 1].drop(labels = 'Class', axis = 1)\n",
        "fraud.shape"
      ],
      "execution_count": 33,
      "outputs": [
        {
          "output_type": "execute_result",
          "data": {
            "text/plain": [
              "(38, 29)"
            ]
          },
          "metadata": {
            "tags": []
          },
          "execution_count": 33
        }
      ]
    },
    {
      "cell_type": "code",
      "metadata": {
        "id": "A33stzqehl58",
        "colab_type": "code",
        "colab": {}
      },
      "source": [
        "train_df, val_df = train_test_split(\n",
        "    non_fraud,\n",
        "    test_size=0.2,\n",
        "    random_state=RANDOM_SEED\n",
        ")\n",
        "\n",
        "val_df, test_df = train_test_split(\n",
        "    val_df,\n",
        "    test_size=0.3,\n",
        "    random_state=RANDOM_SEED\n",
        ")"
      ],
      "execution_count": 34,
      "outputs": []
    },
    {
      "cell_type": "code",
      "metadata": {
        "id": "Ei2Ec2EQyciF",
        "colab_type": "code",
        "colab": {
          "base_uri": "https://localhost:8080/",
          "height": 65
        },
        "outputId": "4fa9ce13-cca5-4f3c-824f-68c2e3a490c9"
      },
      "source": [
        "print(train_df.shape)\n",
        "print(val_df.shape)\n",
        "print(test_df.shape)"
      ],
      "execution_count": 35,
      "outputs": [
        {
          "output_type": "stream",
          "text": [
            "(7969, 29)\n",
            "(1395, 29)\n",
            "(598, 29)\n"
          ],
          "name": "stdout"
        }
      ]
    },
    {
      "cell_type": "code",
      "metadata": {
        "id": "VP2oJlgnigWk",
        "colab_type": "code",
        "colab": {}
      },
      "source": [
        "def create_dataset(df):\n",
        "    dataset = torch.tensor(df.values)\n",
        "    dataset = dataset.unsqueeze(1)\n",
        "    n_seq, seq_len, n_features = dataset.shape\n",
        "    #n_seq, seq_len, n_features = torch.stack(dataset).shape\n",
        "    return dataset, seq_len, n_features"
      ],
      "execution_count": 36,
      "outputs": []
    },
    {
      "cell_type": "code",
      "metadata": {
        "id": "-GR0U1MfjEBD",
        "colab_type": "code",
        "colab": {}
      },
      "source": [
        "train_dataset, seq_len, n_features = create_dataset(train_df)\n",
        "val_dataset, _, _ = create_dataset(val_df)\n",
        "test_normal_dataset, _, _ = create_dataset(test_df)\n",
        "test_anomaly_dataset, _, _ = create_dataset(fraud)"
      ],
      "execution_count": 37,
      "outputs": []
    },
    {
      "cell_type": "code",
      "metadata": {
        "id": "0uAWW3NEzReS",
        "colab_type": "code",
        "colab": {
          "base_uri": "https://localhost:8080/",
          "height": 82
        },
        "outputId": "19840227-c532-483b-e4c0-81a58401e9bf"
      },
      "source": [
        "print(train_dataset.shape)\n",
        "print(val_dataset.shape)\n",
        "print(test_normal_dataset.shape)\n",
        "print(test_anomaly_dataset.shape)"
      ],
      "execution_count": 38,
      "outputs": [
        {
          "output_type": "stream",
          "text": [
            "torch.Size([7969, 1, 29])\n",
            "torch.Size([1395, 1, 29])\n",
            "torch.Size([598, 1, 29])\n",
            "torch.Size([38, 1, 29])\n"
          ],
          "name": "stdout"
        }
      ]
    },
    {
      "cell_type": "code",
      "metadata": {
        "id": "D03pI9iPlveO",
        "colab_type": "code",
        "colab": {}
      },
      "source": [
        "train_loader = DataLoader(train_dataset, batch_size = 1, shuffle = False)\n",
        "val_loader = DataLoader(val_dataset, batch_size = 1, shuffle = False)\n",
        "test_loader = DataLoader(test_normal_dataset, batch_size = 1, shuffle = False)\n",
        "anomaly_loader = DataLoader(test_anomaly_dataset, batch_size = 1, shuffle = False)"
      ],
      "execution_count": 39,
      "outputs": []
    },
    {
      "cell_type": "code",
      "metadata": {
        "id": "M5WfAH6S3YFW",
        "colab_type": "code",
        "colab": {
          "base_uri": "https://localhost:8080/",
          "height": 32
        },
        "outputId": "6c95ff1c-e6ce-40f0-f995-cdfd4e3e2573"
      },
      "source": [
        "next(iter(train_loader)).shape"
      ],
      "execution_count": 40,
      "outputs": [
        {
          "output_type": "execute_result",
          "data": {
            "text/plain": [
              "torch.Size([1, 1, 29])"
            ]
          },
          "metadata": {
            "tags": []
          },
          "execution_count": 40
        }
      ]
    },
    {
      "cell_type": "markdown",
      "metadata": {
        "id": "dbfgvZRtH3WJ",
        "colab_type": "text"
      },
      "source": [
        "<br>\n",
        "\n",
        "#**Modeling**"
      ]
    },
    {
      "cell_type": "code",
      "metadata": {
        "id": "peUP0pFHjIoZ",
        "colab_type": "code",
        "colab": {}
      },
      "source": [
        "class Encoder(nn.Module):\n",
        "\n",
        "  def __init__(self, input_size, layer_node):\n",
        "    super(Encoder, self).__init__()\n",
        "\n",
        "    self.input_size = input_size\n",
        "    self.layer_node = layer_node\n",
        "    self.act = nn.GELU()\n",
        "\n",
        "    for i in range(len(layer_node)):\n",
        "        if i == 0:\n",
        "            self.rnn1 = nn.LSTM(input_size=input_size, hidden_size=layer_node[i], batch_first = True)\n",
        "        elif i != len(layer_node)-1:\n",
        "            self.rnn2 = nn.LSTM(input_size=layer_node[i-1], hidden_size=layer_node[i], batch_first = True)\n",
        "        else:\n",
        "            self.rnn3 = nn.LSTM(input_size=layer_node[i-1], hidden_size=layer_node[i], batch_first = True)\n",
        "\n",
        "  def forward(self, x):\n",
        "    x, (_, _) = self.rnn1(x)\n",
        "    x, (_, _) = self.rnn2(x)\n",
        "    x, (_, _) = self.rnn3(x)\n",
        "\n",
        "    return x"
      ],
      "execution_count": 41,
      "outputs": []
    },
    {
      "cell_type": "code",
      "metadata": {
        "id": "SBTk4hkmvdkO",
        "colab_type": "code",
        "colab": {}
      },
      "source": [
        "class Decoder(nn.Module):\n",
        "    def __init__(self, input_size, layer_node):\n",
        "        super(Decoder, self).__init__()\n",
        "        self.input_size = input_size\n",
        "        self.layer_node = layer_node\n",
        "        self.act = nn.GELU()\n",
        "\n",
        "        for j in range(len(layer_node)):\n",
        "            if j == 0:\n",
        "                self.rnn1 = nn.LSTM(input_size = layer_node[::-1][j], hidden_size = layer_node[::-1][j+1], batch_first = True)\n",
        "            elif j != len(layer_node)-1:\n",
        "                self.rnn2 = nn.LSTM(input_size = layer_node[::-1][j], hidden_size = layer_node[::-1][j+1], batch_first = True)\n",
        "            else:\n",
        "                self.rnn3 = nn.LSTM(input_size = layer_node[::-1][j], hidden_size = input_size, batch_first = True)\n",
        "\n",
        "        self.output_layer = nn.Linear(input_size, input_size)\n",
        "\n",
        "    def forward(self, x):\n",
        "\n",
        "        x, (hidden_n, cell_n) = self.rnn1(x)\n",
        "        x, (hidden_n, cell_n) = self.rnn2(x)\n",
        "        x, (hidden_n, cell_n) = self.rnn3(x)\n",
        "        x = self.output_layer(x)\n",
        "        return x"
      ],
      "execution_count": 42,
      "outputs": []
    },
    {
      "cell_type": "code",
      "metadata": {
        "id": "YOz44RPckqyO",
        "colab_type": "code",
        "colab": {}
      },
      "source": [
        "class RecurrentAutoencoder(nn.Module):\n",
        "\n",
        "  def __init__(self, input_size, layer_node):\n",
        "    super(RecurrentAutoencoder, self).__init__()\n",
        "\n",
        "    self.encoder = Encoder(input_size, layer_node).to(device)\n",
        "    self.decoder = Decoder(input_size, layer_node).to(device)\n",
        "\n",
        "  def forward(self, x):\n",
        "    x = self.encoder(x)\n",
        "    x = self.decoder(x)\n",
        "\n",
        "    return x"
      ],
      "execution_count": 43,
      "outputs": []
    },
    {
      "cell_type": "code",
      "metadata": {
        "id": "V6JraiJqxsav",
        "colab_type": "code",
        "colab": {}
      },
      "source": [
        "layer_node = (20,10,5)\n",
        "input_size = 29"
      ],
      "execution_count": 44,
      "outputs": []
    },
    {
      "cell_type": "code",
      "metadata": {
        "id": "Rr7gv9tUkvjw",
        "colab_type": "code",
        "colab": {}
      },
      "source": [
        "model = RecurrentAutoencoder(input_size, layer_node)\n",
        "model = model.cuda()"
      ],
      "execution_count": 45,
      "outputs": []
    },
    {
      "cell_type": "code",
      "metadata": {
        "id": "wwnLpF7Y6vsj",
        "colab_type": "code",
        "colab": {
          "base_uri": "https://localhost:8080/",
          "height": 263
        },
        "outputId": "05b8605b-dc02-4e26-f403-a67266fb5594"
      },
      "source": [
        "model"
      ],
      "execution_count": 46,
      "outputs": [
        {
          "output_type": "execute_result",
          "data": {
            "text/plain": [
              "RecurrentAutoencoder(\n",
              "  (encoder): Encoder(\n",
              "    (act): GELU()\n",
              "    (rnn1): LSTM(29, 20, batch_first=True)\n",
              "    (rnn2): LSTM(20, 10, batch_first=True)\n",
              "    (rnn3): LSTM(10, 5, batch_first=True)\n",
              "  )\n",
              "  (decoder): Decoder(\n",
              "    (act): GELU()\n",
              "    (rnn1): LSTM(5, 10, batch_first=True)\n",
              "    (rnn2): LSTM(10, 20, batch_first=True)\n",
              "    (rnn3): LSTM(20, 29, batch_first=True)\n",
              "    (output_layer): Linear(in_features=29, out_features=29, bias=True)\n",
              "  )\n",
              ")"
            ]
          },
          "metadata": {
            "tags": []
          },
          "execution_count": 46
        }
      ]
    },
    {
      "cell_type": "code",
      "metadata": {
        "id": "o4U-wH_wkyqb",
        "colab_type": "code",
        "colab": {}
      },
      "source": [
        "def train_model(model, train_dataset, val_dataset, n_epochs):\n",
        "  optimizer = torch.optim.Adam(model.parameters(), lr=1e-3)\n",
        "  criterion = nn.L1Loss(reduction='sum').cuda()\n",
        "  history = dict(train=[], val=[])\n",
        "\n",
        "  best_model_wts = copy.deepcopy(model.state_dict())\n",
        "  best_loss = 10000.0\n",
        "\n",
        "  for epoch in range(1, n_epochs + 1):\n",
        "    model = model.train().double()\n",
        "\n",
        "    train_losses = []\n",
        "    for seq_true in train_dataset:\n",
        "      optimizer.zero_grad()\n",
        "\n",
        "      seq_true = seq_true.cuda()\n",
        "      seq_pred = model(seq_true)\n",
        "\n",
        "      loss = criterion(seq_pred, seq_true)\n",
        "\n",
        "      loss.backward()\n",
        "      optimizer.step()\n",
        "\n",
        "      train_losses.append(loss.item())\n",
        "\n",
        "    val_losses = []\n",
        "    model = model.eval()\n",
        "    with torch.no_grad():\n",
        "      for seq_true in val_dataset:\n",
        "\n",
        "        seq_true = seq_true.cuda()\n",
        "        seq_pred = model(seq_true)\n",
        "\n",
        "        loss = criterion(seq_pred, seq_true)\n",
        "        val_losses.append(loss.item())\n",
        "\n",
        "    train_loss = np.mean(train_losses)\n",
        "    val_loss = np.mean(val_losses)\n",
        "\n",
        "    history['train'].append(train_loss)\n",
        "    history['val'].append(val_loss)\n",
        "\n",
        "    if val_loss < best_loss:\n",
        "      best_loss = val_loss\n",
        "      best_model_wts = copy.deepcopy(model.state_dict())\n",
        "\n",
        "    print(f'Epoch {epoch}: train loss {train_loss} val loss {val_loss}')\n",
        "\n",
        "  model.load_state_dict(best_model_wts)\n",
        "  return model.eval(), history"
      ],
      "execution_count": 47,
      "outputs": []
    },
    {
      "cell_type": "code",
      "metadata": {
        "id": "nvzsJd3jlP0M",
        "colab_type": "code",
        "colab": {
          "base_uri": "https://localhost:8080/",
          "height": 345
        },
        "outputId": "8e6d4252-4bac-4b59-b1d6-490e491e4d74"
      },
      "source": [
        "model, history = train_model(\n",
        "  model,\n",
        "  train_loader,\n",
        "  val_loader,\n",
        "  n_epochs=20\n",
        ")"
      ],
      "execution_count": 48,
      "outputs": [
        {
          "output_type": "stream",
          "text": [
            "Epoch 1: train loss 16.931236759827307 val loss 16.483683215587217\n",
            "Epoch 2: train loss 15.867979507066272 val loss 15.625429484046695\n",
            "Epoch 3: train loss 15.263401699813171 val loss 15.297490099202099\n",
            "Epoch 4: train loss 14.921690473146674 val loss 14.96043277691247\n",
            "Epoch 5: train loss 14.683016236514488 val loss 14.75643122808382\n",
            "Epoch 6: train loss 14.460756514358126 val loss 14.540988045167497\n",
            "Epoch 7: train loss 14.321076461071767 val loss 14.454300642131624\n",
            "Epoch 8: train loss 14.249560804933953 val loss 14.395473339913627\n",
            "Epoch 9: train loss 14.181475848739105 val loss 14.360240955892811\n",
            "Epoch 10: train loss 14.118691413614517 val loss 14.22772861013267\n",
            "Epoch 11: train loss 14.045390038925209 val loss 14.229308269441642\n",
            "Epoch 12: train loss 13.984698594877665 val loss 14.126905665430634\n",
            "Epoch 13: train loss 13.942510171457029 val loss 14.095863945825746\n",
            "Epoch 14: train loss 13.902449922960777 val loss 14.069418586588636\n",
            "Epoch 15: train loss 13.850399939638718 val loss 14.001924458429041\n",
            "Epoch 16: train loss 13.80515190021749 val loss 13.960389620452139\n",
            "Epoch 17: train loss 13.754464195508666 val loss 13.929581686067538\n",
            "Epoch 18: train loss 13.72506265258722 val loss 13.902420895908165\n",
            "Epoch 19: train loss 13.695244071982886 val loss 13.881873860751794\n",
            "Epoch 20: train loss 13.661862346758118 val loss 13.921013922643256\n"
          ],
          "name": "stdout"
        }
      ]
    },
    {
      "cell_type": "code",
      "metadata": {
        "id": "NuCl_J18HB0o",
        "colab_type": "code",
        "colab": {
          "base_uri": "https://localhost:8080/",
          "height": 522
        },
        "outputId": "c09403ec-e92c-4456-cd54-da6802bae905"
      },
      "source": [
        "ax = plt.figure().gca()\n",
        "\n",
        "ax.plot(history['train'])\n",
        "ax.plot(history['val'])\n",
        "plt.ylabel('Loss')\n",
        "plt.xlabel('Epoch')\n",
        "plt.legend(['train', 'test'])\n",
        "plt.title('Loss over training epochs')\n",
        "plt.show();"
      ],
      "execution_count": 49,
      "outputs": [
        {
          "output_type": "display_data",
          "data": {
            "image/png": "[encoded data removed]",
            "text/plain": [
              "<Figure size 864x576 with 1 Axes>"
            ]
          },
          "metadata": {
            "tags": [],
            "image/png": {
              "width": 740,
              "height": 506
            }
          }
        }
      ]
    },
    {
      "cell_type": "code",
      "metadata": {
        "id": "6zIYyl6WHBuq",
        "colab_type": "code",
        "colab": {
          "base_uri": "https://localhost:8080/"
        },
        "outputId": "784c6689-009b-468e-9582-1f3ab5ea791d"
      },
      "source": [
        "MODEL_PATH = 'model.pth'\n",
        "\n",
        "torch.save(model, MODEL_PATH)"
      ],
      "execution_count": 50,
      "outputs": [
        {
          "output_type": "stream",
          "text": [
            "/usr/local/lib/python3.6/dist-packages/torch/serialization.py:402: UserWarning: Couldn't retrieve source code for container of type RecurrentAutoencoder. It won't be checked for correctness upon loading.\n",
            "  \"type \" + obj.__name__ + \". It won't be checked \"\n",
            "/usr/local/lib/python3.6/dist-packages/torch/serialization.py:402: UserWarning: Couldn't retrieve source code for container of type Encoder. It won't be checked for correctness upon loading.\n",
            "  \"type \" + obj.__name__ + \". It won't be checked \"\n",
            "/usr/local/lib/python3.6/dist-packages/torch/serialization.py:402: UserWarning: Couldn't retrieve source code for container of type Decoder. It won't be checked for correctness upon loading.\n",
            "  \"type \" + obj.__name__ + \". It won't be checked \"\n"
          ],
          "name": "stderr"
        }
      ]
    },
    {
      "cell_type": "code",
      "metadata": {
        "id": "wLIyFe4yHBnC",
        "colab_type": "code",
        "colab": {}
      },
      "source": [
        "# !gdown --id 1jEYx5wGsb7Ix8cZAw3l5p5pOwHs3_I9A\n",
        "# model = torch.load('model.pth')\n",
        "# model = model.to(device)"
      ],
      "execution_count": 31,
      "outputs": []
    },
    {
      "cell_type": "code",
      "metadata": {
        "id": "gjt7LZ-7HBhD",
        "colab_type": "code",
        "colab": {}
      },
      "source": [
        "def predict(model, dataset):\n",
        "  predictions, losses = [], []\n",
        "  criterion = nn.L1Loss(reduction='sum').to(device)\n",
        "  with torch.no_grad():\n",
        "    model = model.eval()\n",
        "    for seq_true in dataset:\n",
        "      seq_true = seq_true.to(device)\n",
        "      seq_pred = model(seq_true)\n",
        "\n",
        "      loss = criterion(seq_pred, seq_true)\n",
        "\n",
        "      predictions.append(seq_pred.cpu().numpy().flatten())\n",
        "      losses.append(loss.item())\n",
        "  return predictions, losses"
      ],
      "execution_count": 51,
      "outputs": []
    },
    {
      "cell_type": "code",
      "metadata": {
        "id": "6QryfJBOHBYx",
        "colab_type": "code",
        "colab": {
          "base_uri": "https://localhost:8080/",
          "height": 487
        },
        "outputId": "463d921d-993c-476b-adc8-5a582ae9b880"
      },
      "source": [
        "_, losses = predict(model, train_loader)\n",
        "\n",
        "sns.distplot(losses, bins=50, kde=True);"
      ],
      "execution_count": 59,
      "outputs": [
        {
          "output_type": "display_data",
          "data": {
            "image/png": "[encoded data removed]",
            "text/plain": [
              "<Figure size 864x576 with 1 Axes>"
            ]
          },
          "metadata": {
            "tags": [],
            "image/png": {
              "width": 726,
              "height": 471
            }
          }
        }
      ]
    },
    {
      "cell_type": "code",
      "metadata": {
        "id": "qPJUoFOvHBR6",
        "colab_type": "code",
        "colab": {}
      },
      "source": [
        "THRESHOLD = 26"
      ],
      "execution_count": 53,
      "outputs": []
    },
    {
      "cell_type": "code",
      "metadata": {
        "id": "ag377xPhHBLc",
        "colab_type": "code",
        "colab": {
          "base_uri": "https://localhost:8080/",
          "height": 489
        },
        "outputId": "d4f8be84-b31b-4525-8814-3bd8838181b4"
      },
      "source": [
        "predictions, pred_losses = predict(model, test_loader)\n",
        "sns.distplot(pred_losses, bins=50, kde=True);"
      ],
      "execution_count": 60,
      "outputs": [
        {
          "output_type": "display_data",
          "data": {
            "image/png": "[encoded data removed]",
            "text/plain": [
              "<Figure size 864x576 with 1 Axes>"
            ]
          },
          "metadata": {
            "tags": [],
            "image/png": {
              "width": 722,
              "height": 474
            }
          }
        }
      ]
    },
    {
      "cell_type": "code",
      "metadata": {
        "id": "xZxcvVzMHBIK",
        "colab_type": "code",
        "colab": {
          "base_uri": "https://localhost:8080/",
          "height": 32
        },
        "outputId": "67e2f344-ba50-488b-9b6d-6e358ee64361"
      },
      "source": [
        "correct = sum(l <= THRESHOLD for l in pred_losses)\n",
        "print(f'Correct normal predictions: {correct}/{len(test_loader)}')"
      ],
      "execution_count": 61,
      "outputs": [
        {
          "output_type": "stream",
          "text": [
            "Correct normal predictions: 570/598\n"
          ],
          "name": "stdout"
        }
      ]
    },
    {
      "cell_type": "code",
      "metadata": {
        "id": "iHdbeP5fHTJm",
        "colab_type": "code",
        "colab": {}
      },
      "source": [
        "anomaly_dataset = test_anomaly_dataset[:len(test_normal_dataset)]"
      ],
      "execution_count": null,
      "outputs": []
    },
    {
      "cell_type": "code",
      "metadata": {
        "id": "2anfAvWrHTBW",
        "colab_type": "code",
        "colab": {
          "base_uri": "https://localhost:8080/",
          "height": 487
        },
        "outputId": "19099cb6-83aa-4fbf-8481-cb9d5529114f"
      },
      "source": [
        "predictions, pred_losses = predict(model, anomaly_loader)\n",
        "sns.distplot(pred_losses, bins=50, kde=True);"
      ],
      "execution_count": 62,
      "outputs": [
        {
          "output_type": "display_data",
          "data": {
            "image/png": "[encoded data removed]",
            "text/plain": [
              "<Figure size 864x576 with 1 Axes>"
            ]
          },
          "metadata": {
            "tags": [],
            "image/png": {
              "width": 722,
              "height": 471
            }
          }
        }
      ]
    },
    {
      "cell_type": "code",
      "metadata": {
        "id": "-dyvcwe4HS6n",
        "colab_type": "code",
        "colab": {
          "base_uri": "https://localhost:8080/"
        },
        "outputId": "f2adf904-a656-49ea-e361-23b4bf477f36"
      },
      "source": [
        "correct = sum(l > THRESHOLD for l in pred_losses)\n",
        "print(f'Correct anomaly predictions: {correct}/{len(anomaly_loader)}')"
      ],
      "execution_count": 57,
      "outputs": [
        {
          "output_type": "stream",
          "text": [
            "Correct anomaly predictions: 38/38\n"
          ],
          "name": "stdout"
        }
      ]
    },
    {
      "cell_type": "code",
      "metadata": {
        "id": "dn8lURTUHSuH",
        "colab_type": "code",
        "colab": {}
      },
      "source": [
        "def plot_prediction(data, model, title, ax):\n",
        "  predictions, pred_losses = predict(model, [data])\n",
        "\n",
        "  ax.plot(data, label='true')\n",
        "  ax.plot(predictions[0], label='reconstructed')\n",
        "  ax.set_title(f'{title} (loss: {np.around(pred_losses[0], 2)})')\n",
        "  ax.legend()"
      ],
      "execution_count": 58,
      "outputs": []
    },
    {
      "cell_type": "code",
      "metadata": {
        "id": "iaaSfqigHSsz",
        "colab_type": "code",
        "colab": {}
      },
      "source": [
        "fig, axs = plt.subplots(\n",
        "  nrows=2,\n",
        "  ncols=6,\n",
        "  sharey=True,\n",
        "  sharex=True,\n",
        "  figsize=(22, 8)\n",
        ")\n",
        "\n",
        "for i, data in enumerate(test_loader[:6]):\n",
        "  plot_prediction(data, model, title='Normal', ax=axs[0, i])\n",
        "\n",
        "for i, data in enumerate(anomaly_loader[:6]):\n",
        "  plot_prediction(data, model, title='Anomaly', ax=axs[1, i])\n",
        "\n",
        "fig.tight_layout();"
      ],
      "execution_count": null,
      "outputs": []
    },
    {
      "cell_type": "code",
      "metadata": {
        "id": "B-CwRv7THSlZ",
        "colab_type": "code",
        "colab": {}
      },
      "source": [
        ""
      ],
      "execution_count": 41,
      "outputs": []
    },
    {
      "cell_type": "code",
      "metadata": {
        "id": "agpX1Ks2HSd1",
        "colab_type": "code",
        "colab": {}
      },
      "source": [
        ""
      ],
      "execution_count": 41,
      "outputs": []
    },
    {
      "cell_type": "code",
      "metadata": {
        "id": "86prHbkbHSWN",
        "colab_type": "code",
        "colab": {}
      },
      "source": [
        ""
      ],
      "execution_count": 41,
      "outputs": []
    },
    {
      "cell_type": "code",
      "metadata": {
        "id": "mPNyqWiZHSSv",
        "colab_type": "code",
        "colab": {}
      },
      "source": [
        ""
      ],
      "execution_count": 41,
      "outputs": []
    }
  ]
}