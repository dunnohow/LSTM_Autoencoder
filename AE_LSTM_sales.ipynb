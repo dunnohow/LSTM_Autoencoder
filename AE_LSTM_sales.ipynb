{
  "nbformat": 4,
  "nbformat_minor": 0,
  "metadata": {
    "colab": {
      "name": "AE_LSTM_sales.ipynb",
      "provenance": [],
      "collapsed_sections": [],
      "machine_shape": "hm",
      "authorship_tag": "ABX9TyM+P94orBwdB4iJ0kyk/XTP",
      "include_colab_link": true
    },
    "kernelspec": {
      "name": "python3",
      "display_name": "Python 3"
    },
    "accelerator": "GPU"
  },
  "cells": [
    {
      "cell_type": "markdown",
      "metadata": {
        "id": "view-in-github",
        "colab_type": "text"
      },
      "source": [
        "<a href=\"https://colab.research.google.com/github/dunnohow/LSTM_Autoencoder/blob/master/AE_LSTM_sales.ipynb\" target=\"_parent\"><img src=\"https://colab.research.google.com/assets/colab-badge.svg\" alt=\"Open In Colab\"/></a>"
      ]
    },
    {
      "cell_type": "code",
      "metadata": {
        "id": "zPWRC-H12CCj",
        "colab_type": "code",
        "colab": {}
      },
      "source": [
        "!pip install -qq arff2pandas"
      ],
      "execution_count": 1,
      "outputs": []
    },
    {
      "cell_type": "code",
      "metadata": {
        "id": "RnGemoP917vw",
        "colab_type": "code",
        "colab": {
          "base_uri": "https://localhost:8080/",
          "height": 85
        },
        "outputId": "8ab88713-9a25-4720-900d-eefcc8320a21"
      },
      "source": [
        "import copy\n",
        "import time\n",
        "import numpy as np\n",
        "import pandas as pd\n",
        "import seaborn as sns\n",
        "from pylab import rcParams\n",
        "import matplotlib.pyplot as plt\n",
        "from matplotlib import rc\n",
        "from sklearn.model_selection import train_test_split\n",
        "from sklearn.preprocessing import StandardScaler\n",
        "\n",
        "from tqdm.notebook import tqdm\n",
        "import torch\n",
        "from torch import nn, optim, Tensor\n",
        "from torch.utils.data import DataLoader\n",
        "import torch.nn.functional as F\n",
        "from arff2pandas import a2p\n",
        "import argparse\n",
        "from copy import deepcopy\n",
        "\n",
        "%matplotlib inline\n",
        "%config InlineBackend.figure_format='retina'\n",
        "\n",
        "sns.set(style='whitegrid', palette='muted', font_scale=1.2)\n",
        "\n",
        "HAPPY_COLORS_PALETTE = [\"#01BEFE\", \"#FFDD00\", \"#FF7D00\", \"#FF006D\", \"#ADFF02\", \"#8F00FF\"]\n",
        "\n",
        "sns.set_palette(sns.color_palette(HAPPY_COLORS_PALETTE))\n",
        "\n",
        "rcParams['figure.figsize'] = 12, 8\n",
        "\n",
        "RANDOM_SEED = 42\n",
        "np.random.seed(RANDOM_SEED)\n",
        "torch.manual_seed(RANDOM_SEED)"
      ],
      "execution_count": 2,
      "outputs": [
        {
          "output_type": "stream",
          "text": [
            "/usr/local/lib/python3.6/dist-packages/statsmodels/tools/_testing.py:19: FutureWarning: pandas.util.testing is deprecated. Use the functions in the public API at pandas.testing instead.\n",
            "  import pandas.util.testing as tm\n"
          ],
          "name": "stderr"
        },
        {
          "output_type": "execute_result",
          "data": {
            "text/plain": [
              "<torch._C.Generator at 0x7f489cea99b0>"
            ]
          },
          "metadata": {
            "tags": []
          },
          "execution_count": 2
        }
      ]
    },
    {
      "cell_type": "code",
      "metadata": {
        "id": "9Xq48NRP2HSY",
        "colab_type": "code",
        "colab": {
          "base_uri": "https://localhost:8080/",
          "height": 49
        },
        "outputId": "a7f48499-38c7-446d-c230-b4e2e370ebb9"
      },
      "source": [
        "# 디바이스 설정\n",
        "if torch.cuda.is_available():    \n",
        "    device = torch.device(\"cuda\")\n",
        "    print('There are %d GPU(s) available.' % torch.cuda.device_count())\n",
        "    print('We will use the GPU:', torch.cuda.get_device_name(0))\n",
        "else:\n",
        "    device = torch.device(\"cpu\")\n",
        "    print('No GPU available, using the CPU instead.')"
      ],
      "execution_count": 3,
      "outputs": [
        {
          "output_type": "stream",
          "text": [
            "There are 1 GPU(s) available.\n",
            "We will use the GPU: Tesla P100-PCIE-16GB\n"
          ],
          "name": "stdout"
        }
      ]
    },
    {
      "cell_type": "markdown",
      "metadata": {
        "id": "2Z41rdBJlbM0",
        "colab_type": "text"
      },
      "source": [
        "<br>\n",
        "\n",
        "#**Load Data**"
      ]
    },
    {
      "cell_type": "code",
      "metadata": {
        "id": "yFG2-X3n2TVo",
        "colab_type": "code",
        "colab": {
          "base_uri": "https://localhost:8080/",
          "height": 52
        },
        "outputId": "1ee0044e-571e-44a9-c48e-1a8ebc6d6df0"
      },
      "source": [
        "import os\n",
        "from google.colab import drive\n",
        "drive.mount('/content/drive/')"
      ],
      "execution_count": 4,
      "outputs": [
        {
          "output_type": "stream",
          "text": [
            "Drive already mounted at /content/drive/; to attempt to forcibly remount, call drive.mount(\"/content/drive/\", force_remount=True).\n"
          ],
          "name": "stdout"
        }
      ]
    },
    {
      "cell_type": "code",
      "metadata": {
        "id": "UVYW0th622go",
        "colab_type": "code",
        "colab": {
          "base_uri": "https://localhost:8080/",
          "height": 32
        },
        "outputId": "d4427f75-01f7-461e-cb45-39879e302ec5"
      },
      "source": [
        "path = \"/content/drive/My Drive/LSTM_prac/sales/\"\n",
        "os.listdir(path)"
      ],
      "execution_count": 5,
      "outputs": [
        {
          "output_type": "execute_result",
          "data": {
            "text/plain": [
              "['sales_train.csv', 'AE_LSTM_sales.ipynb']"
            ]
          },
          "metadata": {
            "tags": []
          },
          "execution_count": 5
        }
      ]
    },
    {
      "cell_type": "code",
      "metadata": {
        "id": "psl2Rd_Q22dL",
        "colab_type": "code",
        "colab": {}
      },
      "source": [
        "device = torch.device(\"cuda\")"
      ],
      "execution_count": 6,
      "outputs": []
    },
    {
      "cell_type": "code",
      "metadata": {
        "id": "mKnVjk8I22Z4",
        "colab_type": "code",
        "colab": {
          "base_uri": "https://localhost:8080/",
          "height": 32
        },
        "outputId": "1af36c6f-0de2-42ba-9c09-3a3c76251068"
      },
      "source": [
        "train = pd.read_csv(path + 'sales_train.csv')\n",
        "train['date'] = pd.to_datetime(train['date'])\n",
        "train.shape"
      ],
      "execution_count": 7,
      "outputs": [
        {
          "output_type": "execute_result",
          "data": {
            "text/plain": [
              "(2935849, 6)"
            ]
          },
          "metadata": {
            "tags": []
          },
          "execution_count": 7
        }
      ]
    },
    {
      "cell_type": "code",
      "metadata": {
        "id": "51B1hI3b3Tdz",
        "colab_type": "code",
        "colab": {
          "base_uri": "https://localhost:8080/",
          "height": 201
        },
        "outputId": "ac64ddc0-c85e-4ea7-a148-ffc4dd4fdad7"
      },
      "source": [
        "train.head()"
      ],
      "execution_count": 8,
      "outputs": [
        {
          "output_type": "execute_result",
          "data": {
            "text/html": [
              "<div>\n",
              "<style scoped>\n",
              "    .dataframe tbody tr th:only-of-type {\n",
              "        vertical-align: middle;\n",
              "    }\n",
              "\n",
              "    .dataframe tbody tr th {\n",
              "        vertical-align: top;\n",
              "    }\n",
              "\n",
              "    .dataframe thead th {\n",
              "        text-align: right;\n",
              "    }\n",
              "</style>\n",
              "<table border=\"1\" class=\"dataframe\">\n",
              "  <thead>\n",
              "    <tr style=\"text-align: right;\">\n",
              "      <th></th>\n",
              "      <th>date</th>\n",
              "      <th>date_block_num</th>\n",
              "      <th>shop_id</th>\n",
              "      <th>item_id</th>\n",
              "      <th>item_price</th>\n",
              "      <th>item_cnt_day</th>\n",
              "    </tr>\n",
              "  </thead>\n",
              "  <tbody>\n",
              "    <tr>\n",
              "      <th>0</th>\n",
              "      <td>2013-02-01</td>\n",
              "      <td>0</td>\n",
              "      <td>59</td>\n",
              "      <td>22154</td>\n",
              "      <td>999.00</td>\n",
              "      <td>1.0</td>\n",
              "    </tr>\n",
              "    <tr>\n",
              "      <th>1</th>\n",
              "      <td>2013-03-01</td>\n",
              "      <td>0</td>\n",
              "      <td>25</td>\n",
              "      <td>2552</td>\n",
              "      <td>899.00</td>\n",
              "      <td>1.0</td>\n",
              "    </tr>\n",
              "    <tr>\n",
              "      <th>2</th>\n",
              "      <td>2013-05-01</td>\n",
              "      <td>0</td>\n",
              "      <td>25</td>\n",
              "      <td>2552</td>\n",
              "      <td>899.00</td>\n",
              "      <td>-1.0</td>\n",
              "    </tr>\n",
              "    <tr>\n",
              "      <th>3</th>\n",
              "      <td>2013-06-01</td>\n",
              "      <td>0</td>\n",
              "      <td>25</td>\n",
              "      <td>2554</td>\n",
              "      <td>1709.05</td>\n",
              "      <td>1.0</td>\n",
              "    </tr>\n",
              "    <tr>\n",
              "      <th>4</th>\n",
              "      <td>2013-01-15</td>\n",
              "      <td>0</td>\n",
              "      <td>25</td>\n",
              "      <td>2555</td>\n",
              "      <td>1099.00</td>\n",
              "      <td>1.0</td>\n",
              "    </tr>\n",
              "  </tbody>\n",
              "</table>\n",
              "</div>"
            ],
            "text/plain": [
              "        date  date_block_num  shop_id  item_id  item_price  item_cnt_day\n",
              "0 2013-02-01               0       59    22154      999.00           1.0\n",
              "1 2013-03-01               0       25     2552      899.00           1.0\n",
              "2 2013-05-01               0       25     2552      899.00          -1.0\n",
              "3 2013-06-01               0       25     2554     1709.05           1.0\n",
              "4 2013-01-15               0       25     2555     1099.00           1.0"
            ]
          },
          "metadata": {
            "tags": []
          },
          "execution_count": 8
        }
      ]
    },
    {
      "cell_type": "code",
      "metadata": {
        "id": "un5P6fAf7fmZ",
        "colab_type": "code",
        "colab": {}
      },
      "source": [
        "train['item_sales_total'] = train['item_price'] * train['item_cnt_day']"
      ],
      "execution_count": 9,
      "outputs": []
    },
    {
      "cell_type": "code",
      "metadata": {
        "id": "xO_0z5MeBHeW",
        "colab_type": "code",
        "colab": {}
      },
      "source": [
        "train = train.drop(columns=['item_id', 'item_price', 'item_cnt_day','date_block_num'])"
      ],
      "execution_count": 10,
      "outputs": []
    },
    {
      "cell_type": "code",
      "metadata": {
        "id": "kiGQRxDNA_MB",
        "colab_type": "code",
        "colab": {}
      },
      "source": [
        "train = train.pivot_table(index='date',columns='shop_id',aggfunc=sum)"
      ],
      "execution_count": 11,
      "outputs": []
    },
    {
      "cell_type": "code",
      "metadata": {
        "id": "iX4JTWlU3UpB",
        "colab_type": "code",
        "colab": {}
      },
      "source": [
        "train = train.fillna(0)"
      ],
      "execution_count": 12,
      "outputs": []
    },
    {
      "cell_type": "code",
      "metadata": {
        "id": "Vc55IdyPG6of",
        "colab_type": "code",
        "colab": {}
      },
      "source": [
        "scaler = StandardScaler()"
      ],
      "execution_count": 13,
      "outputs": []
    },
    {
      "cell_type": "code",
      "metadata": {
        "id": "W0xYxzy_CUSV",
        "colab_type": "code",
        "colab": {}
      },
      "source": [
        "train = pd.DataFrame(scaler.fit_transform(train), columns=train.columns)"
      ],
      "execution_count": 14,
      "outputs": []
    },
    {
      "cell_type": "code",
      "metadata": {
        "id": "kP6V9nXgHRGa",
        "colab_type": "code",
        "colab": {
          "base_uri": "https://localhost:8080/",
          "height": 462
        },
        "outputId": "d8250681-871c-4b66-c36d-bd632e2e20b2"
      },
      "source": [
        "train"
      ],
      "execution_count": 15,
      "outputs": [
        {
          "output_type": "execute_result",
          "data": {
            "text/html": [
              "<div>\n",
              "<style scoped>\n",
              "    .dataframe tbody tr th:only-of-type {\n",
              "        vertical-align: middle;\n",
              "    }\n",
              "\n",
              "    .dataframe tbody tr th {\n",
              "        vertical-align: top;\n",
              "    }\n",
              "\n",
              "    .dataframe thead tr th {\n",
              "        text-align: left;\n",
              "    }\n",
              "</style>\n",
              "<table border=\"1\" class=\"dataframe\">\n",
              "  <thead>\n",
              "    <tr>\n",
              "      <th></th>\n",
              "      <th colspan=\"60\" halign=\"left\">item_sales_total</th>\n",
              "    </tr>\n",
              "    <tr>\n",
              "      <th>shop_id</th>\n",
              "      <th>0</th>\n",
              "      <th>1</th>\n",
              "      <th>2</th>\n",
              "      <th>3</th>\n",
              "      <th>4</th>\n",
              "      <th>5</th>\n",
              "      <th>6</th>\n",
              "      <th>7</th>\n",
              "      <th>8</th>\n",
              "      <th>9</th>\n",
              "      <th>10</th>\n",
              "      <th>11</th>\n",
              "      <th>12</th>\n",
              "      <th>13</th>\n",
              "      <th>14</th>\n",
              "      <th>15</th>\n",
              "      <th>16</th>\n",
              "      <th>17</th>\n",
              "      <th>18</th>\n",
              "      <th>19</th>\n",
              "      <th>20</th>\n",
              "      <th>21</th>\n",
              "      <th>22</th>\n",
              "      <th>23</th>\n",
              "      <th>24</th>\n",
              "      <th>25</th>\n",
              "      <th>26</th>\n",
              "      <th>27</th>\n",
              "      <th>28</th>\n",
              "      <th>29</th>\n",
              "      <th>30</th>\n",
              "      <th>31</th>\n",
              "      <th>32</th>\n",
              "      <th>33</th>\n",
              "      <th>34</th>\n",
              "      <th>35</th>\n",
              "      <th>36</th>\n",
              "      <th>37</th>\n",
              "      <th>38</th>\n",
              "      <th>39</th>\n",
              "      <th>40</th>\n",
              "      <th>41</th>\n",
              "      <th>42</th>\n",
              "      <th>43</th>\n",
              "      <th>44</th>\n",
              "      <th>45</th>\n",
              "      <th>46</th>\n",
              "      <th>47</th>\n",
              "      <th>48</th>\n",
              "      <th>49</th>\n",
              "      <th>50</th>\n",
              "      <th>51</th>\n",
              "      <th>52</th>\n",
              "      <th>53</th>\n",
              "      <th>54</th>\n",
              "      <th>55</th>\n",
              "      <th>56</th>\n",
              "      <th>57</th>\n",
              "      <th>58</th>\n",
              "      <th>59</th>\n",
              "    </tr>\n",
              "  </thead>\n",
              "  <tbody>\n",
              "    <tr>\n",
              "      <th>0</th>\n",
              "      <td>-0.217333</td>\n",
              "      <td>-0.208191</td>\n",
              "      <td>-0.240069</td>\n",
              "      <td>-1.143163</td>\n",
              "      <td>-1.235563</td>\n",
              "      <td>-1.134007</td>\n",
              "      <td>-1.144248</td>\n",
              "      <td>-0.085285</td>\n",
              "      <td>4.265490</td>\n",
              "      <td>-0.098814</td>\n",
              "      <td>-1.004668</td>\n",
              "      <td>-0.132415</td>\n",
              "      <td>-0.474275</td>\n",
              "      <td>0.024343</td>\n",
              "      <td>0.081901</td>\n",
              "      <td>0.238593</td>\n",
              "      <td>-1.310147</td>\n",
              "      <td>-0.693448</td>\n",
              "      <td>-0.322755</td>\n",
              "      <td>-0.017156</td>\n",
              "      <td>-0.080643</td>\n",
              "      <td>-1.229787</td>\n",
              "      <td>-0.919476</td>\n",
              "      <td>-0.321479</td>\n",
              "      <td>-1.243896</td>\n",
              "      <td>-1.313583</td>\n",
              "      <td>-0.977972</td>\n",
              "      <td>0.062409</td>\n",
              "      <td>-0.017955</td>\n",
              "      <td>-1.092821</td>\n",
              "      <td>-0.899482</td>\n",
              "      <td>-1.549419</td>\n",
              "      <td>-0.406839</td>\n",
              "      <td>-0.335175</td>\n",
              "      <td>-0.577325</td>\n",
              "      <td>-1.164157</td>\n",
              "      <td>-0.103426</td>\n",
              "      <td>-0.082385</td>\n",
              "      <td>-0.678491</td>\n",
              "      <td>-0.681726</td>\n",
              "      <td>-0.451624</td>\n",
              "      <td>0.198235</td>\n",
              "      <td>-0.159480</td>\n",
              "      <td>-0.693803</td>\n",
              "      <td>-1.292252</td>\n",
              "      <td>-1.078771</td>\n",
              "      <td>0.099018</td>\n",
              "      <td>-1.303922</td>\n",
              "      <td>-0.702001</td>\n",
              "      <td>-0.739477</td>\n",
              "      <td>-1.133829</td>\n",
              "      <td>0.880321</td>\n",
              "      <td>-1.026071</td>\n",
              "      <td>-1.370942</td>\n",
              "      <td>1.449713</td>\n",
              "      <td>-0.475138</td>\n",
              "      <td>-1.314119</td>\n",
              "      <td>-1.181296</td>\n",
              "      <td>-1.085661</td>\n",
              "      <td>-1.097596</td>\n",
              "    </tr>\n",
              "    <tr>\n",
              "      <th>1</th>\n",
              "      <td>4.836933</td>\n",
              "      <td>4.311707</td>\n",
              "      <td>-0.954461</td>\n",
              "      <td>-0.767936</td>\n",
              "      <td>0.261075</td>\n",
              "      <td>-1.134007</td>\n",
              "      <td>-0.361624</td>\n",
              "      <td>-0.435381</td>\n",
              "      <td>1.669779</td>\n",
              "      <td>-0.098814</td>\n",
              "      <td>-0.640950</td>\n",
              "      <td>-0.132415</td>\n",
              "      <td>-0.244247</td>\n",
              "      <td>0.360526</td>\n",
              "      <td>-0.400965</td>\n",
              "      <td>-0.383055</td>\n",
              "      <td>-0.354139</td>\n",
              "      <td>-0.693448</td>\n",
              "      <td>-0.376557</td>\n",
              "      <td>0.059553</td>\n",
              "      <td>-0.080643</td>\n",
              "      <td>-0.500757</td>\n",
              "      <td>1.107770</td>\n",
              "      <td>1.684083</td>\n",
              "      <td>-0.629677</td>\n",
              "      <td>-0.055572</td>\n",
              "      <td>-0.305995</td>\n",
              "      <td>-0.097298</td>\n",
              "      <td>-0.389192</td>\n",
              "      <td>0.050941</td>\n",
              "      <td>-0.004596</td>\n",
              "      <td>-0.116768</td>\n",
              "      <td>1.500121</td>\n",
              "      <td>-0.335175</td>\n",
              "      <td>-0.577325</td>\n",
              "      <td>-0.658433</td>\n",
              "      <td>-0.103426</td>\n",
              "      <td>-0.370786</td>\n",
              "      <td>-0.761533</td>\n",
              "      <td>-0.681726</td>\n",
              "      <td>-0.451624</td>\n",
              "      <td>-0.219241</td>\n",
              "      <td>-0.413136</td>\n",
              "      <td>-0.110286</td>\n",
              "      <td>-0.340349</td>\n",
              "      <td>0.015451</td>\n",
              "      <td>-0.403915</td>\n",
              "      <td>0.014839</td>\n",
              "      <td>-0.702001</td>\n",
              "      <td>-0.739477</td>\n",
              "      <td>-0.172109</td>\n",
              "      <td>-0.205596</td>\n",
              "      <td>-0.418521</td>\n",
              "      <td>-0.789131</td>\n",
              "      <td>0.062793</td>\n",
              "      <td>-0.475138</td>\n",
              "      <td>-0.462961</td>\n",
              "      <td>-1.181296</td>\n",
              "      <td>-1.085661</td>\n",
              "      <td>-0.273259</td>\n",
              "    </tr>\n",
              "    <tr>\n",
              "      <th>2</th>\n",
              "      <td>-0.217333</td>\n",
              "      <td>-0.208191</td>\n",
              "      <td>-0.489790</td>\n",
              "      <td>-0.556478</td>\n",
              "      <td>-0.367506</td>\n",
              "      <td>-0.729238</td>\n",
              "      <td>-0.230167</td>\n",
              "      <td>-0.619275</td>\n",
              "      <td>1.172386</td>\n",
              "      <td>-0.098814</td>\n",
              "      <td>0.079742</td>\n",
              "      <td>-0.132415</td>\n",
              "      <td>-0.329162</td>\n",
              "      <td>-0.286698</td>\n",
              "      <td>-0.146315</td>\n",
              "      <td>-0.068460</td>\n",
              "      <td>-0.170263</td>\n",
              "      <td>-0.693448</td>\n",
              "      <td>-0.112602</td>\n",
              "      <td>-0.020385</td>\n",
              "      <td>-0.080643</td>\n",
              "      <td>-0.493076</td>\n",
              "      <td>0.380939</td>\n",
              "      <td>1.816893</td>\n",
              "      <td>-0.558463</td>\n",
              "      <td>-0.142282</td>\n",
              "      <td>0.125448</td>\n",
              "      <td>-0.365294</td>\n",
              "      <td>-0.216893</td>\n",
              "      <td>-0.153574</td>\n",
              "      <td>0.203950</td>\n",
              "      <td>-0.066275</td>\n",
              "      <td>1.185392</td>\n",
              "      <td>-0.335175</td>\n",
              "      <td>-0.577325</td>\n",
              "      <td>-0.772815</td>\n",
              "      <td>-0.103426</td>\n",
              "      <td>0.481930</td>\n",
              "      <td>-0.536346</td>\n",
              "      <td>-0.681726</td>\n",
              "      <td>-0.451624</td>\n",
              "      <td>-0.235013</td>\n",
              "      <td>-0.410809</td>\n",
              "      <td>0.191959</td>\n",
              "      <td>0.134645</td>\n",
              "      <td>-0.575788</td>\n",
              "      <td>-0.512824</td>\n",
              "      <td>-0.994433</td>\n",
              "      <td>-0.702001</td>\n",
              "      <td>-0.739477</td>\n",
              "      <td>-0.027424</td>\n",
              "      <td>-0.453773</td>\n",
              "      <td>-0.677436</td>\n",
              "      <td>-0.759907</td>\n",
              "      <td>-0.106327</td>\n",
              "      <td>-0.475138</td>\n",
              "      <td>-0.525701</td>\n",
              "      <td>0.156238</td>\n",
              "      <td>0.097410</td>\n",
              "      <td>0.220214</td>\n",
              "    </tr>\n",
              "    <tr>\n",
              "      <th>3</th>\n",
              "      <td>-0.217333</td>\n",
              "      <td>-0.208191</td>\n",
              "      <td>-0.318642</td>\n",
              "      <td>-0.838095</td>\n",
              "      <td>-0.708489</td>\n",
              "      <td>-0.516605</td>\n",
              "      <td>-0.510273</td>\n",
              "      <td>-0.073145</td>\n",
              "      <td>-0.289904</td>\n",
              "      <td>-0.098814</td>\n",
              "      <td>-0.236343</td>\n",
              "      <td>-0.132415</td>\n",
              "      <td>-0.293067</td>\n",
              "      <td>-0.167850</td>\n",
              "      <td>-0.630147</td>\n",
              "      <td>-0.139147</td>\n",
              "      <td>-0.337417</td>\n",
              "      <td>-0.693448</td>\n",
              "      <td>-0.256663</td>\n",
              "      <td>-0.613416</td>\n",
              "      <td>-0.080643</td>\n",
              "      <td>-0.754584</td>\n",
              "      <td>-0.135575</td>\n",
              "      <td>2.609077</td>\n",
              "      <td>-0.729901</td>\n",
              "      <td>-0.619110</td>\n",
              "      <td>-0.478866</td>\n",
              "      <td>-0.592095</td>\n",
              "      <td>-0.974904</td>\n",
              "      <td>-0.461554</td>\n",
              "      <td>-0.171103</td>\n",
              "      <td>-0.730418</td>\n",
              "      <td>2.632390</td>\n",
              "      <td>-0.335175</td>\n",
              "      <td>-0.577325</td>\n",
              "      <td>-0.625427</td>\n",
              "      <td>-0.103426</td>\n",
              "      <td>-0.454927</td>\n",
              "      <td>-0.365682</td>\n",
              "      <td>-0.681726</td>\n",
              "      <td>-0.451624</td>\n",
              "      <td>-0.462465</td>\n",
              "      <td>-0.557512</td>\n",
              "      <td>-0.245641</td>\n",
              "      <td>0.406148</td>\n",
              "      <td>0.363702</td>\n",
              "      <td>-0.687859</td>\n",
              "      <td>-1.045081</td>\n",
              "      <td>-0.702001</td>\n",
              "      <td>-0.739477</td>\n",
              "      <td>-0.669588</td>\n",
              "      <td>-0.337973</td>\n",
              "      <td>-0.054533</td>\n",
              "      <td>-0.882094</td>\n",
              "      <td>-0.373711</td>\n",
              "      <td>-0.475138</td>\n",
              "      <td>-0.419234</td>\n",
              "      <td>-0.543487</td>\n",
              "      <td>-0.575537</td>\n",
              "      <td>-0.278002</td>\n",
              "    </tr>\n",
              "    <tr>\n",
              "      <th>4</th>\n",
              "      <td>-0.217333</td>\n",
              "      <td>-0.208191</td>\n",
              "      <td>-0.434025</td>\n",
              "      <td>-0.590440</td>\n",
              "      <td>0.112675</td>\n",
              "      <td>-0.142594</td>\n",
              "      <td>-0.278209</td>\n",
              "      <td>-0.627673</td>\n",
              "      <td>-0.229421</td>\n",
              "      <td>-0.098814</td>\n",
              "      <td>0.362592</td>\n",
              "      <td>-0.132415</td>\n",
              "      <td>-0.286970</td>\n",
              "      <td>-0.259479</td>\n",
              "      <td>-0.445054</td>\n",
              "      <td>-0.227148</td>\n",
              "      <td>-0.272579</td>\n",
              "      <td>-0.693448</td>\n",
              "      <td>0.397786</td>\n",
              "      <td>-0.313274</td>\n",
              "      <td>-0.080643</td>\n",
              "      <td>-0.662091</td>\n",
              "      <td>-0.794607</td>\n",
              "      <td>-0.321479</td>\n",
              "      <td>-0.741321</td>\n",
              "      <td>-0.221004</td>\n",
              "      <td>-0.191222</td>\n",
              "      <td>0.297479</td>\n",
              "      <td>0.129057</td>\n",
              "      <td>-0.091110</td>\n",
              "      <td>0.501715</td>\n",
              "      <td>-0.075533</td>\n",
              "      <td>0.778918</td>\n",
              "      <td>-0.335175</td>\n",
              "      <td>-0.577325</td>\n",
              "      <td>-0.283996</td>\n",
              "      <td>-0.103426</td>\n",
              "      <td>1.131747</td>\n",
              "      <td>-0.067787</td>\n",
              "      <td>-0.681726</td>\n",
              "      <td>-0.451624</td>\n",
              "      <td>-0.267009</td>\n",
              "      <td>-0.319080</td>\n",
              "      <td>-0.394290</td>\n",
              "      <td>-0.194792</td>\n",
              "      <td>-0.343430</td>\n",
              "      <td>-0.386381</td>\n",
              "      <td>0.160950</td>\n",
              "      <td>-0.702001</td>\n",
              "      <td>-0.739477</td>\n",
              "      <td>0.247673</td>\n",
              "      <td>1.436972</td>\n",
              "      <td>-0.396550</td>\n",
              "      <td>0.200329</td>\n",
              "      <td>0.489335</td>\n",
              "      <td>-0.261974</td>\n",
              "      <td>-0.462057</td>\n",
              "      <td>-0.225518</td>\n",
              "      <td>-1.085661</td>\n",
              "      <td>0.075472</td>\n",
              "    </tr>\n",
              "    <tr>\n",
              "      <th>...</th>\n",
              "      <td>...</td>\n",
              "      <td>...</td>\n",
              "      <td>...</td>\n",
              "      <td>...</td>\n",
              "      <td>...</td>\n",
              "      <td>...</td>\n",
              "      <td>...</td>\n",
              "      <td>...</td>\n",
              "      <td>...</td>\n",
              "      <td>...</td>\n",
              "      <td>...</td>\n",
              "      <td>...</td>\n",
              "      <td>...</td>\n",
              "      <td>...</td>\n",
              "      <td>...</td>\n",
              "      <td>...</td>\n",
              "      <td>...</td>\n",
              "      <td>...</td>\n",
              "      <td>...</td>\n",
              "      <td>...</td>\n",
              "      <td>...</td>\n",
              "      <td>...</td>\n",
              "      <td>...</td>\n",
              "      <td>...</td>\n",
              "      <td>...</td>\n",
              "      <td>...</td>\n",
              "      <td>...</td>\n",
              "      <td>...</td>\n",
              "      <td>...</td>\n",
              "      <td>...</td>\n",
              "      <td>...</td>\n",
              "      <td>...</td>\n",
              "      <td>...</td>\n",
              "      <td>...</td>\n",
              "      <td>...</td>\n",
              "      <td>...</td>\n",
              "      <td>...</td>\n",
              "      <td>...</td>\n",
              "      <td>...</td>\n",
              "      <td>...</td>\n",
              "      <td>...</td>\n",
              "      <td>...</td>\n",
              "      <td>...</td>\n",
              "      <td>...</td>\n",
              "      <td>...</td>\n",
              "      <td>...</td>\n",
              "      <td>...</td>\n",
              "      <td>...</td>\n",
              "      <td>...</td>\n",
              "      <td>...</td>\n",
              "      <td>...</td>\n",
              "      <td>...</td>\n",
              "      <td>...</td>\n",
              "      <td>...</td>\n",
              "      <td>...</td>\n",
              "      <td>...</td>\n",
              "      <td>...</td>\n",
              "      <td>...</td>\n",
              "      <td>...</td>\n",
              "      <td>...</td>\n",
              "    </tr>\n",
              "    <tr>\n",
              "      <th>1029</th>\n",
              "      <td>-0.217333</td>\n",
              "      <td>-0.208191</td>\n",
              "      <td>-0.448476</td>\n",
              "      <td>-0.046384</td>\n",
              "      <td>-0.539920</td>\n",
              "      <td>0.944105</td>\n",
              "      <td>0.180466</td>\n",
              "      <td>-0.338833</td>\n",
              "      <td>-0.229421</td>\n",
              "      <td>-0.098814</td>\n",
              "      <td>-0.460992</td>\n",
              "      <td>-0.132415</td>\n",
              "      <td>-0.470341</td>\n",
              "      <td>-0.603453</td>\n",
              "      <td>-0.080395</td>\n",
              "      <td>-0.437287</td>\n",
              "      <td>-0.494216</td>\n",
              "      <td>-0.693448</td>\n",
              "      <td>-0.529470</td>\n",
              "      <td>-0.558661</td>\n",
              "      <td>-0.080643</td>\n",
              "      <td>-0.253940</td>\n",
              "      <td>-0.492722</td>\n",
              "      <td>-0.321479</td>\n",
              "      <td>-0.846554</td>\n",
              "      <td>-0.402000</td>\n",
              "      <td>-0.292807</td>\n",
              "      <td>0.291760</td>\n",
              "      <td>1.138068</td>\n",
              "      <td>-1.092821</td>\n",
              "      <td>-0.899482</td>\n",
              "      <td>-0.166367</td>\n",
              "      <td>-0.406839</td>\n",
              "      <td>-0.335175</td>\n",
              "      <td>0.961518</td>\n",
              "      <td>-0.487760</td>\n",
              "      <td>-0.103426</td>\n",
              "      <td>-0.453641</td>\n",
              "      <td>0.470662</td>\n",
              "      <td>0.236023</td>\n",
              "      <td>-0.451624</td>\n",
              "      <td>-0.013231</td>\n",
              "      <td>-0.248349</td>\n",
              "      <td>-0.693803</td>\n",
              "      <td>-0.385938</td>\n",
              "      <td>-0.272046</td>\n",
              "      <td>-0.546556</td>\n",
              "      <td>0.471555</td>\n",
              "      <td>1.448464</td>\n",
              "      <td>2.840327</td>\n",
              "      <td>-0.330165</td>\n",
              "      <td>-0.440499</td>\n",
              "      <td>-0.431849</td>\n",
              "      <td>-0.176892</td>\n",
              "      <td>-1.109999</td>\n",
              "      <td>-0.101489</td>\n",
              "      <td>0.594662</td>\n",
              "      <td>-0.254844</td>\n",
              "      <td>0.186954</td>\n",
              "      <td>-0.618928</td>\n",
              "    </tr>\n",
              "    <tr>\n",
              "      <th>1030</th>\n",
              "      <td>-0.217333</td>\n",
              "      <td>-0.208191</td>\n",
              "      <td>0.568108</td>\n",
              "      <td>-0.163407</td>\n",
              "      <td>-0.351686</td>\n",
              "      <td>-0.331412</td>\n",
              "      <td>0.076143</td>\n",
              "      <td>-0.270987</td>\n",
              "      <td>-0.229421</td>\n",
              "      <td>-0.098814</td>\n",
              "      <td>-0.191543</td>\n",
              "      <td>-0.132415</td>\n",
              "      <td>-0.470341</td>\n",
              "      <td>-0.603453</td>\n",
              "      <td>-0.239523</td>\n",
              "      <td>-0.393808</td>\n",
              "      <td>0.122249</td>\n",
              "      <td>-0.693448</td>\n",
              "      <td>-0.406460</td>\n",
              "      <td>-0.319386</td>\n",
              "      <td>-0.080643</td>\n",
              "      <td>-0.597618</td>\n",
              "      <td>-0.765490</td>\n",
              "      <td>-0.321479</td>\n",
              "      <td>-0.640275</td>\n",
              "      <td>-0.733181</td>\n",
              "      <td>-0.682829</td>\n",
              "      <td>0.028495</td>\n",
              "      <td>0.172018</td>\n",
              "      <td>-1.092821</td>\n",
              "      <td>-0.899482</td>\n",
              "      <td>-0.616338</td>\n",
              "      <td>-0.406839</td>\n",
              "      <td>-0.335175</td>\n",
              "      <td>0.850930</td>\n",
              "      <td>0.345060</td>\n",
              "      <td>-0.103426</td>\n",
              "      <td>-0.470109</td>\n",
              "      <td>-0.059176</td>\n",
              "      <td>-0.170878</td>\n",
              "      <td>-0.451624</td>\n",
              "      <td>-0.713051</td>\n",
              "      <td>-0.274718</td>\n",
              "      <td>-0.693803</td>\n",
              "      <td>-1.082120</td>\n",
              "      <td>-0.638858</td>\n",
              "      <td>0.025508</td>\n",
              "      <td>0.221825</td>\n",
              "      <td>0.063231</td>\n",
              "      <td>0.505535</td>\n",
              "      <td>-0.633733</td>\n",
              "      <td>-0.553343</td>\n",
              "      <td>-0.579498</td>\n",
              "      <td>-0.548319</td>\n",
              "      <td>-1.109999</td>\n",
              "      <td>-0.073408</td>\n",
              "      <td>-0.348402</td>\n",
              "      <td>-0.643961</td>\n",
              "      <td>-0.369044</td>\n",
              "      <td>-0.065682</td>\n",
              "    </tr>\n",
              "    <tr>\n",
              "      <th>1031</th>\n",
              "      <td>-0.217333</td>\n",
              "      <td>-0.208191</td>\n",
              "      <td>-0.662037</td>\n",
              "      <td>-0.597460</td>\n",
              "      <td>-0.478625</td>\n",
              "      <td>-0.388411</td>\n",
              "      <td>-0.691436</td>\n",
              "      <td>-0.397994</td>\n",
              "      <td>-0.229421</td>\n",
              "      <td>-0.098814</td>\n",
              "      <td>-0.226359</td>\n",
              "      <td>-0.132415</td>\n",
              "      <td>-0.106177</td>\n",
              "      <td>-0.603453</td>\n",
              "      <td>-0.840394</td>\n",
              "      <td>-0.654785</td>\n",
              "      <td>-0.602334</td>\n",
              "      <td>-0.693448</td>\n",
              "      <td>-0.728681</td>\n",
              "      <td>-0.681688</td>\n",
              "      <td>-0.080643</td>\n",
              "      <td>-0.768380</td>\n",
              "      <td>-0.492549</td>\n",
              "      <td>-0.321479</td>\n",
              "      <td>-0.446875</td>\n",
              "      <td>-0.525241</td>\n",
              "      <td>-0.686960</td>\n",
              "      <td>-1.074200</td>\n",
              "      <td>-0.673793</td>\n",
              "      <td>-1.092821</td>\n",
              "      <td>-0.899482</td>\n",
              "      <td>-0.767083</td>\n",
              "      <td>-0.406839</td>\n",
              "      <td>-0.335175</td>\n",
              "      <td>-0.293900</td>\n",
              "      <td>-0.508713</td>\n",
              "      <td>-0.103426</td>\n",
              "      <td>-0.300416</td>\n",
              "      <td>-0.305766</td>\n",
              "      <td>-0.477652</td>\n",
              "      <td>-0.451624</td>\n",
              "      <td>-0.616276</td>\n",
              "      <td>-0.535644</td>\n",
              "      <td>-0.693803</td>\n",
              "      <td>-1.091300</td>\n",
              "      <td>-0.782307</td>\n",
              "      <td>-0.402285</td>\n",
              "      <td>-0.757343</td>\n",
              "      <td>-0.050387</td>\n",
              "      <td>0.235273</td>\n",
              "      <td>-0.831810</td>\n",
              "      <td>-0.473148</td>\n",
              "      <td>-0.512950</td>\n",
              "      <td>-0.753135</td>\n",
              "      <td>-1.109999</td>\n",
              "      <td>-0.131415</td>\n",
              "      <td>-0.753010</td>\n",
              "      <td>-0.461141</td>\n",
              "      <td>-0.252047</td>\n",
              "      <td>-0.753382</td>\n",
              "    </tr>\n",
              "    <tr>\n",
              "      <th>1032</th>\n",
              "      <td>-0.217333</td>\n",
              "      <td>-0.208191</td>\n",
              "      <td>0.156066</td>\n",
              "      <td>0.451474</td>\n",
              "      <td>0.024561</td>\n",
              "      <td>0.081039</td>\n",
              "      <td>-0.019120</td>\n",
              "      <td>0.050836</td>\n",
              "      <td>-0.229421</td>\n",
              "      <td>-0.098814</td>\n",
              "      <td>0.326141</td>\n",
              "      <td>-0.132415</td>\n",
              "      <td>-0.365885</td>\n",
              "      <td>-0.603453</td>\n",
              "      <td>0.437172</td>\n",
              "      <td>0.852761</td>\n",
              "      <td>1.156562</td>\n",
              "      <td>-0.693448</td>\n",
              "      <td>-0.268042</td>\n",
              "      <td>0.273925</td>\n",
              "      <td>-0.080643</td>\n",
              "      <td>-0.168376</td>\n",
              "      <td>-0.580121</td>\n",
              "      <td>-0.321479</td>\n",
              "      <td>-0.276895</td>\n",
              "      <td>0.181267</td>\n",
              "      <td>-0.463132</td>\n",
              "      <td>-1.074200</td>\n",
              "      <td>0.304253</td>\n",
              "      <td>-1.092821</td>\n",
              "      <td>-0.899482</td>\n",
              "      <td>0.662918</td>\n",
              "      <td>-0.406839</td>\n",
              "      <td>-0.335175</td>\n",
              "      <td>2.623816</td>\n",
              "      <td>0.913419</td>\n",
              "      <td>-0.103426</td>\n",
              "      <td>0.903059</td>\n",
              "      <td>0.258326</td>\n",
              "      <td>-0.285694</td>\n",
              "      <td>-0.451624</td>\n",
              "      <td>0.298583</td>\n",
              "      <td>0.296043</td>\n",
              "      <td>-0.693803</td>\n",
              "      <td>-0.293979</td>\n",
              "      <td>0.037392</td>\n",
              "      <td>0.160032</td>\n",
              "      <td>1.142837</td>\n",
              "      <td>1.035663</td>\n",
              "      <td>-0.173859</td>\n",
              "      <td>-0.284248</td>\n",
              "      <td>-0.620753</td>\n",
              "      <td>-0.320489</td>\n",
              "      <td>-0.590010</td>\n",
              "      <td>-1.109999</td>\n",
              "      <td>1.638390</td>\n",
              "      <td>-0.449954</td>\n",
              "      <td>-0.127520</td>\n",
              "      <td>-0.393215</td>\n",
              "      <td>-0.349118</td>\n",
              "    </tr>\n",
              "    <tr>\n",
              "      <th>1033</th>\n",
              "      <td>-0.217333</td>\n",
              "      <td>-0.208191</td>\n",
              "      <td>-0.662888</td>\n",
              "      <td>-1.005472</td>\n",
              "      <td>-0.709435</td>\n",
              "      <td>-0.299733</td>\n",
              "      <td>-0.366257</td>\n",
              "      <td>-0.444710</td>\n",
              "      <td>-0.229421</td>\n",
              "      <td>-0.098814</td>\n",
              "      <td>-0.647533</td>\n",
              "      <td>-0.132415</td>\n",
              "      <td>-0.149314</td>\n",
              "      <td>-0.603453</td>\n",
              "      <td>-0.273797</td>\n",
              "      <td>-0.741355</td>\n",
              "      <td>0.090856</td>\n",
              "      <td>-0.693448</td>\n",
              "      <td>-0.832116</td>\n",
              "      <td>-0.655063</td>\n",
              "      <td>-0.080643</td>\n",
              "      <td>0.010452</td>\n",
              "      <td>-0.401343</td>\n",
              "      <td>-0.321479</td>\n",
              "      <td>-0.633228</td>\n",
              "      <td>-0.344606</td>\n",
              "      <td>-0.672784</td>\n",
              "      <td>-1.074200</td>\n",
              "      <td>-0.984800</td>\n",
              "      <td>-1.092821</td>\n",
              "      <td>-0.899482</td>\n",
              "      <td>-0.579374</td>\n",
              "      <td>-0.406839</td>\n",
              "      <td>-0.335175</td>\n",
              "      <td>0.191783</td>\n",
              "      <td>-0.580778</td>\n",
              "      <td>-0.103426</td>\n",
              "      <td>-0.881347</td>\n",
              "      <td>-0.941735</td>\n",
              "      <td>0.024235</td>\n",
              "      <td>-0.451624</td>\n",
              "      <td>-0.736137</td>\n",
              "      <td>0.020585</td>\n",
              "      <td>-0.693803</td>\n",
              "      <td>-0.631307</td>\n",
              "      <td>-0.704954</td>\n",
              "      <td>0.152263</td>\n",
              "      <td>-0.990724</td>\n",
              "      <td>-0.382205</td>\n",
              "      <td>-0.165925</td>\n",
              "      <td>-0.969862</td>\n",
              "      <td>-1.144758</td>\n",
              "      <td>0.047032</td>\n",
              "      <td>-0.733268</td>\n",
              "      <td>-1.109999</td>\n",
              "      <td>0.045469</td>\n",
              "      <td>-0.395932</td>\n",
              "      <td>-0.927783</td>\n",
              "      <td>-0.049359</td>\n",
              "      <td>-0.723721</td>\n",
              "    </tr>\n",
              "  </tbody>\n",
              "</table>\n",
              "<p>1034 rows × 60 columns</p>\n",
              "</div>"
            ],
            "text/plain": [
              "        item_sales_total                      ...                              \n",
              "shop_id               0         1         2   ...        57        58        59\n",
              "0              -0.217333 -0.208191 -0.240069  ... -1.181296 -1.085661 -1.097596\n",
              "1               4.836933  4.311707 -0.954461  ... -1.181296 -1.085661 -0.273259\n",
              "2              -0.217333 -0.208191 -0.489790  ...  0.156238  0.097410  0.220214\n",
              "3              -0.217333 -0.208191 -0.318642  ... -0.543487 -0.575537 -0.278002\n",
              "4              -0.217333 -0.208191 -0.434025  ... -0.225518 -1.085661  0.075472\n",
              "...                  ...       ...       ...  ...       ...       ...       ...\n",
              "1029           -0.217333 -0.208191 -0.448476  ... -0.254844  0.186954 -0.618928\n",
              "1030           -0.217333 -0.208191  0.568108  ... -0.643961 -0.369044 -0.065682\n",
              "1031           -0.217333 -0.208191 -0.662037  ... -0.461141 -0.252047 -0.753382\n",
              "1032           -0.217333 -0.208191  0.156066  ... -0.127520 -0.393215 -0.349118\n",
              "1033           -0.217333 -0.208191 -0.662888  ... -0.927783 -0.049359 -0.723721\n",
              "\n",
              "[1034 rows x 60 columns]"
            ]
          },
          "metadata": {
            "tags": []
          },
          "execution_count": 15
        }
      ]
    },
    {
      "cell_type": "code",
      "metadata": {
        "id": "aChdgQ11Cta4",
        "colab_type": "code",
        "colab": {
          "base_uri": "https://localhost:8080/",
          "height": 503
        },
        "outputId": "f50cdd9e-3e76-497c-835c-ea2e49b73a99"
      },
      "source": [
        "plt.plot(train.index,train['item_sales_total',  3])"
      ],
      "execution_count": 16,
      "outputs": [
        {
          "output_type": "execute_result",
          "data": {
            "text/plain": [
              "[<matplotlib.lines.Line2D at 0x7f48929bcc88>]"
            ]
          },
          "metadata": {
            "tags": []
          },
          "execution_count": 16
        },
        {
          "output_type": "display_data",
          "data": {
            "image/png": "[encoded data removed]",
            "text/plain": [
              "<Figure size 864x576 with 1 Axes>"
            ]
          },
          "metadata": {
            "tags": [],
            "image/png": {
              "width": 712,
              "height": 471
            }
          }
        }
      ]
    },
    {
      "cell_type": "code",
      "metadata": {
        "id": "xweZqBRUCwEW",
        "colab_type": "code",
        "colab": {
          "base_uri": "https://localhost:8080/",
          "height": 32
        },
        "outputId": "4c453ed7-a584-423e-f8ed-79b8ef8b8b32"
      },
      "source": [
        "train.shape"
      ],
      "execution_count": 17,
      "outputs": [
        {
          "output_type": "execute_result",
          "data": {
            "text/plain": [
              "(1034, 60)"
            ]
          },
          "metadata": {
            "tags": []
          },
          "execution_count": 17
        }
      ]
    },
    {
      "cell_type": "code",
      "metadata": {
        "id": "rZGp_zRjmXig",
        "colab_type": "code",
        "colab": {}
      },
      "source": [
        "# ====== Random Seed Initialization ====== #\n",
        "seed = 123\n",
        "np.random.seed(seed)\n",
        "torch.manual_seed(seed)\n",
        "\n",
        "parser = argparse.ArgumentParser()\n",
        "args = parser.parse_args(\"\")\n",
        "args.exp_name = \"LSTM AE time data\"\n",
        "\n",
        "# ====== Model Capacity ====== #\n",
        "args.input_size = 60\n",
        "args.out_dim = 5\n",
        "args.layer_node = (30,15,5)\n",
        "args.actv_fn = 'relu'\n",
        "args.out_actv_fn = 'relu'\n",
        "args.loss_fn = 'mse'\n",
        "args.early_stopping = False\n",
        "args.stopping_rounds = 10\n",
        "args.stopping_tolerance = 1e-5\n",
        "args.method = 'basic'\n",
        "args.noise_weight = 0.2\n",
        "args.batch_norm = False\n",
        "\n",
        "# ====== Regularization ======= #\n",
        "args.dropout = 0.2\n",
        "args.use_bn = True\n",
        "args.l2 = 0.00001\n",
        "args.use_xavier = True\n",
        "args.vae = True\n",
        "\n",
        "# ====== Optimizer & Training ====== #\n",
        "args.optimizer = 'adam' #'RMSprop' #SGD, RMSprop, ADAM...\n",
        "args.lr = 2e-5\n",
        "args.num_epochs = 50\n",
        "\n",
        "#args.train_batch_size = 256\n",
        "#args.test_batch_size = 1024\n",
        "\n",
        "# ====== Experiment Variable ====== #\n",
        "#name_var1 = 'n_layer'\n",
        "#name_var2 = 'hid_dim'\n",
        "#list_var1 = [1, 2, 3]\n",
        "#list_var2 = [500, 300]\n",
        "\n",
        "model_data_dir = os.path.join(os.getcwd(),'/content/drive/My Drive/LSTM_prac/sales')"
      ],
      "execution_count": 164,
      "outputs": []
    },
    {
      "cell_type": "code",
      "metadata": {
        "id": "gcQsBxTyr2UO",
        "colab_type": "code",
        "colab": {}
      },
      "source": [
        "train_df, val_df = train_test_split(\n",
        "    train,\n",
        "    test_size=0.2,\n",
        "    random_state=seed\n",
        ")\n",
        "\n",
        "val_df, test_df = train_test_split(\n",
        "    val_df,\n",
        "    test_size=0.3,\n",
        "    random_state=seed\n",
        ")"
      ],
      "execution_count": 19,
      "outputs": []
    },
    {
      "cell_type": "code",
      "metadata": {
        "id": "xz4aMJDGr2Ox",
        "colab_type": "code",
        "colab": {
          "base_uri": "https://localhost:8080/",
          "height": 65
        },
        "outputId": "413a308a-0610-41f6-d476-0657bff0029b"
      },
      "source": [
        "print(train_df.shape)\n",
        "print(val_df.shape)\n",
        "print(test_df.shape)"
      ],
      "execution_count": 20,
      "outputs": [
        {
          "output_type": "stream",
          "text": [
            "(827, 60)\n",
            "(144, 60)\n",
            "(63, 60)\n"
          ],
          "name": "stdout"
        }
      ]
    },
    {
      "cell_type": "code",
      "metadata": {
        "id": "gK5yLp_pr2Hc",
        "colab_type": "code",
        "colab": {}
      },
      "source": [
        "def create_dataset(df):\n",
        "    dataset = torch.tensor(df.values)\n",
        "    dataset = dataset.unsqueeze(1)\n",
        "    n_seq, seq_len, n_features = dataset.shape\n",
        "    #n_seq, seq_len, n_features = torch.stack(dataset).shape\n",
        "    return dataset, seq_len, n_features"
      ],
      "execution_count": 21,
      "outputs": []
    },
    {
      "cell_type": "code",
      "metadata": {
        "id": "mMD50jnis6x9",
        "colab_type": "code",
        "colab": {}
      },
      "source": [
        "train_dataset, seq_len, n_features = create_dataset(train_df)\n",
        "val_dataset, _, _ = create_dataset(val_df)\n",
        "test_normal_dataset, _, _ = create_dataset(test_df)"
      ],
      "execution_count": 22,
      "outputs": []
    },
    {
      "cell_type": "code",
      "metadata": {
        "id": "og3R8eCfs6sX",
        "colab_type": "code",
        "colab": {
          "base_uri": "https://localhost:8080/",
          "height": 65
        },
        "outputId": "546b235b-3b2e-4c76-fb2f-c247d429089c"
      },
      "source": [
        "print(train_dataset.shape)\n",
        "print(val_dataset.shape)\n",
        "print(test_normal_dataset.shape)"
      ],
      "execution_count": 23,
      "outputs": [
        {
          "output_type": "stream",
          "text": [
            "torch.Size([827, 1, 60])\n",
            "torch.Size([144, 1, 60])\n",
            "torch.Size([63, 1, 60])\n"
          ],
          "name": "stdout"
        }
      ]
    },
    {
      "cell_type": "code",
      "metadata": {
        "id": "1eKHUaAMs6lS",
        "colab_type": "code",
        "colab": {}
      },
      "source": [
        "train_loader = DataLoader(train_dataset, batch_size = 1, shuffle = False)\n",
        "val_loader = DataLoader(val_dataset, batch_size = 1, shuffle = False)\n",
        "test_loader = DataLoader(test_normal_dataset, batch_size = 1, shuffle = False)"
      ],
      "execution_count": 24,
      "outputs": []
    },
    {
      "cell_type": "code",
      "metadata": {
        "id": "ItXo2nY8HwMX",
        "colab_type": "code",
        "colab": {
          "base_uri": "https://localhost:8080/",
          "height": 32
        },
        "outputId": "fe8b7793-f129-4587-f9ff-b6e5474ae756"
      },
      "source": [
        "next(iter(train_loader)).shape"
      ],
      "execution_count": 49,
      "outputs": [
        {
          "output_type": "execute_result",
          "data": {
            "text/plain": [
              "torch.Size([1, 1, 60])"
            ]
          },
          "metadata": {
            "tags": []
          },
          "execution_count": 49
        }
      ]
    },
    {
      "cell_type": "markdown",
      "metadata": {
        "id": "e-REKIitli6Z",
        "colab_type": "text"
      },
      "source": [
        "<br>\n",
        "\n",
        "#**LSTM Auto Encoder Modeling**"
      ]
    },
    {
      "cell_type": "code",
      "metadata": {
        "id": "xv3MaBKSjDRx",
        "colab_type": "code",
        "colab": {}
      },
      "source": [
        "class AutoEncoder(nn.Module):\n",
        "    def __init__(self, layer_node, input_size, actv_fn, out_actv_fn, batch_norm, vae, dropout):\n",
        "        super(AutoEncoder, self).__init__()\n",
        "        \n",
        "        self.vae = vae\n",
        "        self.dropout = nn.Dropout(dropout)\n",
        "\n",
        "        self.encoder = nn.Sequential()\n",
        "        self.decoder = nn.Sequential()\n",
        "        \n",
        "        \n",
        "        ## Activation Function 지정\n",
        "        if actv_fn == 'relu':\n",
        "            activation = nn.ReLU\n",
        "        elif actv_fn == 'elu':\n",
        "            activation = nn.ELU\n",
        "        elif actv_fn == 'gelu':\n",
        "            activation = nn.GELU\n",
        "        elif actv_fn == 'tanh':\n",
        "            activation = nn.Tanh\n",
        "        elif actv_fn == 'sigmoid':\n",
        "            activation = nn.Sigmoid\n",
        "        else :\n",
        "            print(\"actv_fn must be one of [relu, elu, tanh, sigmoid]\")\n",
        "            \n",
        "        ## Activation Function 지정\n",
        "        if out_actv_fn == 'relu':\n",
        "            out_activation = nn.ReLU\n",
        "        elif out_actv_fn == 'elu':\n",
        "            out_activation = nn.ELU\n",
        "        elif out_actv_fn == 'gelu':\n",
        "            activation = nn.GELU\n",
        "        elif out_actv_fn == 'tanh':\n",
        "            out_activation = nn.Tanh\n",
        "        elif out_actv_fn == 'sigmoid':\n",
        "            out_activation = nn.Sigmoid\n",
        "        else :\n",
        "            print(\"out_actv_fn must be one of [relu, elu, tanh, sigmoid]\")\n",
        "        \n",
        "        \n",
        "        # Batch Normalization 지정\n",
        "        if batch_norm:\n",
        "            batch_norm = nn.BatchNorm1d\n",
        "        else :\n",
        "            batch_norm = []\n",
        "            \n",
        "        # nn.Sequential Layer 추가\n",
        "        for i in range(len(layer_node)):\n",
        "            if i == 0:\n",
        "                self.encoder.add_module('h'+str(i+1), nn.LSTM(input_size, layer_node[i], batch_first = True))\n",
        "                self.encoder.add_module('a'+str(i+1), activation())\n",
        "#                 self.encoder.add_module('bn'+str(i+1), nn.BatchNorm2d(layer_node[i]))\n",
        "            elif i != len(layer_node)-1:\n",
        "                self.encoder.add_module('h'+str(i+1), nn.LSTM(layer_node[i-1], layer_node[i], batch_first = True))\n",
        "                self.encoder.add_module('a'+str(i+1), activation())\n",
        "            else :\n",
        "                self.encoder.add_module('h'+str(i+1), nn.LSTM(layer_node[i-1], layer_node[i], batch_first = True))\n",
        "        \n",
        "        for j in range(len(layer_node)):\n",
        "            if j != len(layer_node)-1:\n",
        "                self.decoder.add_module('h'+str(j+1), nn.LSTM(layer_node[::-1][j], layer_node[::-1][j+1], batch_first = True))\n",
        "                self.decoder.add_module('a'+str(j+1), activation())\n",
        "            else :\n",
        "                self.decoder.add_module('h'+str(j+1), nn.LSTM(layer_node[::-1][j], input_size, batch_first = True))\n",
        "                self.decoder.add_module('a'+str(j+1), out_activation())\n",
        "\n",
        "        self.output_layer = nn.Linear(input_size, input_size)     \n",
        "           \n",
        "        for encoder_w in self.encoder.modules():\n",
        "            if isinstance(encoder_w, nn.Linear):\n",
        "                nn.init.xavier_uniform_(encoder_w.weight)\n",
        "        for decoder_w in self.encoder.modules():\n",
        "            if isinstance(decoder_w, nn.Linear):\n",
        "                nn.init.xavier_uniform_(decoder_w.weight)\n",
        "\n",
        "    def forward(self, x):\n",
        "        if self.vae:\n",
        "            x = self.dropout(x)\n",
        "            mu = self.encoder(x)\n",
        "            logvar = self.encoder(x)\n",
        "            repa_encoded_x = self.reparameterize(mu, logvar)\n",
        "            decoded_x = self.decoder(repa_encoded_x)\n",
        "            decoded_x = self.output_layer(decoded_x)\n",
        "            return decoded_x, mu, logvar\n",
        "        else :\n",
        "            encoded_x = self.encoder(x)\n",
        "            decoded_x = self.decoder(encoded_x)\n",
        "            decoded_x = self.output_layer(decoded_x)\n",
        "            return decoded_x\n",
        "    \n",
        "    def reparameterize(self, mu, logvar):\n",
        "        std = torch.exp(0.5 * logvar)\n",
        "        eps = torch.rand_like(std)\n",
        "        return mu + std * eps"
      ],
      "execution_count": 42,
      "outputs": []
    },
    {
      "cell_type": "code",
      "metadata": {
        "id": "IlQahtH1IauZ",
        "colab_type": "code",
        "colab": {}
      },
      "source": [
        "class Encoder(nn.Module):\n",
        "\n",
        "    def __init__(self, input_size, layer_node, actv_fn):\n",
        "      super(Encoder, self).__init__()\n",
        "\n",
        "      self.input_size = input_size\n",
        "      self.layer_node = layer_node\n",
        "          \n",
        "      ## Activation Function 지정\n",
        "      if actv_fn == 'relu':\n",
        "          self.activation = nn.ReLU\n",
        "      elif actv_fn == 'elu':\n",
        "          self.activation = nn.ELU\n",
        "      elif actv_fn == 'gelu':\n",
        "          self.activation = nn.GELU\n",
        "      elif actv_fn == 'tanh':\n",
        "          self.activation = nn.Tanh\n",
        "      elif actv_fn == 'sigmoid':\n",
        "          self.activation = nn.Sigmoid\n",
        "      else :\n",
        "          print(\"actv_fn must be one of [relu, elu, tanh, sigmoid]\")\n",
        "\n",
        "      for i in range(len(layer_node)):\n",
        "        if i == 0:\n",
        "            self.rnn1 = nn.LSTM(input_size=input_size, hidden_size=layer_node[i], batch_first = True)\n",
        "        elif i != len(layer_node)-1:\n",
        "            self.rnn2 = nn.LSTM(input_size=layer_node[i-1], hidden_size=layer_node[i], batch_first = True)\n",
        "        else:\n",
        "            self.rnn3 = nn.LSTM(input_size=layer_node[i-1], hidden_size=layer_node[i], batch_first = True)\n",
        "\n",
        "    def forward(self, x):\n",
        "      x, (_, _) = self.rnn1(x)\n",
        "      x, (_, _) = self.rnn2(x)\n",
        "      x, (_, _) = self.rnn3(x)\n",
        "\n",
        "      return x"
      ],
      "execution_count": 76,
      "outputs": []
    },
    {
      "cell_type": "code",
      "metadata": {
        "id": "DmY8UcPVIhd3",
        "colab_type": "code",
        "colab": {}
      },
      "source": [
        "class Decoder(nn.Module):\n",
        "    def __init__(self, input_size, layer_node, actv_fn, out_actv_fn):\n",
        "        super(Decoder, self).__init__()\n",
        "        self.input_size = input_size\n",
        "        self.layer_node = layer_node\n",
        "        ## Activation Function 지정\n",
        "        if actv_fn == 'relu':\n",
        "            self.activation = nn.ReLU\n",
        "        elif actv_fn == 'elu':\n",
        "            activation = nn.ELU\n",
        "        elif actv_fn == 'gelu':\n",
        "            activation = nn.GELU\n",
        "        elif actv_fn == 'tanh':\n",
        "            activation = nn.Tanh\n",
        "        elif actv_fn == 'sigmoid':\n",
        "            activation = nn.Sigmoid\n",
        "        else :\n",
        "            print(\"actv_fn must be one of [relu, elu, tanh, sigmoid]\")\n",
        "            \n",
        "        ## Activation Function 지정\n",
        "        if out_actv_fn == 'relu':\n",
        "            self.out_activation = nn.ReLU\n",
        "        elif out_actv_fn == 'elu':\n",
        "            out_activation = nn.ELU\n",
        "        elif out_actv_fn == 'gelu':\n",
        "            activation = nn.GELU\n",
        "        elif out_actv_fn == 'tanh':\n",
        "            out_activation = nn.Tanh\n",
        "        elif out_actv_fn == 'sigmoid':\n",
        "            out_activation = nn.Sigmoid\n",
        "        else :\n",
        "            print(\"out_actv_fn must be one of [relu, elu, tanh, sigmoid]\")\n",
        "\n",
        "        for j in range(len(layer_node)):\n",
        "            if j == 0:\n",
        "                self.rnn1 = nn.LSTM(input_size = layer_node[::-1][j], hidden_size = layer_node[::-1][j+1], batch_first = True)\n",
        "            elif j != len(layer_node)-1:\n",
        "                self.rnn2 = nn.LSTM(input_size = layer_node[::-1][j], hidden_size = layer_node[::-1][j+1], batch_first = True)\n",
        "            else:\n",
        "                self.rnn3 = nn.LSTM(input_size = layer_node[::-1][j], hidden_size = input_size, batch_first = True)\n",
        "\n",
        "        self.output_layer = nn.Linear(input_size, input_size)\n",
        "\n",
        "    def forward(self, x):\n",
        "\n",
        "        x, (hidden_n, cell_n) = self.rnn1(x)\n",
        "        x, (hidden_n, cell_n) = self.rnn2(x)\n",
        "        x, (hidden_n, cell_n) = self.rnn3(x)\n",
        "        x = self.output_layer(x)\n",
        "        return x"
      ],
      "execution_count": 77,
      "outputs": []
    },
    {
      "cell_type": "code",
      "metadata": {
        "id": "lE1a37zAIhWs",
        "colab_type": "code",
        "colab": {}
      },
      "source": [
        "class AutoEncoder(nn.Module):\n",
        "\n",
        "  def __init__(self, layer_node, input_size, actv_fn, out_actv_fn, batch_norm, vae, dropout):\n",
        "    super(AutoEncoder, self).__init__()\n",
        "\n",
        "    self.vae = vae\n",
        "    self.dropout = nn.Dropout(dropout)\n",
        "    self.encoder = Encoder(input_size, layer_node, actv_fn).to(device)\n",
        "    self.decoder = Decoder(input_size, layer_node, actv_fn, out_actv_fn).to(device)\n",
        "\n",
        "    self.output_layer = nn.Linear(input_size, input_size)\n",
        "\n",
        "    for encoder_w in self.encoder.modules():\n",
        "      if isinstance(encoder_w, nn.Linear):\n",
        "        nn.init.xavier_uniform_(encoder_w.weight)\n",
        "    for decoder_w in self.encoder.modules():\n",
        "      if isinstance(decoder_w, nn.Linear):\n",
        "        nn.init.xavier_uniform_(decoder_w.weight)\n",
        "\n",
        "  def forward(self, x):\n",
        "    if self.vae:\n",
        "            x = self.dropout(x)\n",
        "            mu = self.encoder(x)\n",
        "            logvar = self.encoder(x)\n",
        "            repa_encoded_x = self.reparameterize(mu, logvar)\n",
        "            decoded_x = self.decoder(repa_encoded_x)\n",
        "            decoded_x = self.output_layer(decoded_x)\n",
        "            return decoded_x, mu, logvar\n",
        "    else :\n",
        "            encoded_x = self.encoder(x)\n",
        "            decoded_x = self.decoder(encoded_x)\n",
        "            decoded_x = self.output_layer(decoded_x)\n",
        "            return decoded_x\n",
        "\n",
        "  def reparameterize(self, mu, logvar):\n",
        "    std = torch.exp(0.5 * logvar)\n",
        "    eps = torch.rand_like(std)\n",
        "    return mu + std * eps"
      ],
      "execution_count": 105,
      "outputs": []
    },
    {
      "cell_type": "code",
      "metadata": {
        "id": "sMb2qf1f-aek",
        "colab_type": "code",
        "colab": {
          "base_uri": "https://localhost:8080/",
          "height": 263
        },
        "outputId": "870e7be4-4d62-4c82-dd0d-1beef301331d"
      },
      "source": [
        "model = AutoEncoder(args.layer_node, args.input_size, args.actv_fn, args.out_actv_fn, args.batch_norm, args.vae, args.dropout)\n",
        "model = model.cuda()\n",
        "model"
      ],
      "execution_count": 106,
      "outputs": [
        {
          "output_type": "execute_result",
          "data": {
            "text/plain": [
              "AutoEncoder(\n",
              "  (dropout): Dropout(p=0.2, inplace=False)\n",
              "  (encoder): Encoder(\n",
              "    (rnn1): LSTM(60, 30, batch_first=True)\n",
              "    (rnn2): LSTM(30, 15, batch_first=True)\n",
              "    (rnn3): LSTM(15, 5, batch_first=True)\n",
              "  )\n",
              "  (decoder): Decoder(\n",
              "    (rnn1): LSTM(5, 15, batch_first=True)\n",
              "    (rnn2): LSTM(15, 30, batch_first=True)\n",
              "    (rnn3): LSTM(30, 60, batch_first=True)\n",
              "    (output_layer): Linear(in_features=60, out_features=60, bias=True)\n",
              "  )\n",
              "  (output_layer): Linear(in_features=60, out_features=60, bias=True)\n",
              ")"
            ]
          },
          "metadata": {
            "tags": []
          },
          "execution_count": 106
        }
      ]
    },
    {
      "cell_type": "code",
      "metadata": {
        "id": "LLamRa_AvJvY",
        "colab_type": "code",
        "colab": {}
      },
      "source": [
        "def train_model(train_loader, valid_loader, args):\n",
        "\n",
        "    model = AutoEncoder(args.layer_node, args.input_size, args.actv_fn, args.out_actv_fn, args.batch_norm, args.vae, args.dropout)\n",
        "    model = model.cuda()\n",
        "    history = dict(train=[], val=[])\n",
        "\n",
        "    ## Loss Function 지정 (MAE 존재하지 않음)\n",
        "    if args.loss_fn == 'mse':\n",
        "        loss_fn = nn.MSELoss(reduction='sum').cuda()\n",
        "    elif args.loss_fn == 'kldiv':\n",
        "        loss_fn = nn.KLDivLoss(reduction='sum').cuda()\n",
        "    elif args.loss_fn == 'msekld':\n",
        "        loss_fn = MSEKLDivLoss\n",
        "    elif args.loss_fn == 'bcekld':\n",
        "        loss_fn = BCEKLDivLoss\n",
        "    else :\n",
        "        loss_fn = nn.MSELoss()\n",
        "        print(\"loss_fn must be one of [mse, kldiv, bcekld, msekld] \\n selected loss_fn as mse\")\n",
        "\n",
        "    \"\"\"\n",
        "    ## method가 variational일 시, BCEKLDivLoss 적용하며 아닐 시, BCEKLDivLoss 적용 불가\n",
        "    if args.method == 'variational' :\n",
        "        if (loss_fn != BCEKLDivLoss) & (loss_fn != MSEKLDivLoss):\n",
        "            loss_fn = BCEKLDivLoss\n",
        "            print(\"When method = variational Then, loss_fn must be one of ['BCEKLDivLoss','MSEKLDivLoss']\")\n",
        "        else :\n",
        "            loss_fn = loss_fn\n",
        "    else :\n",
        "        if (loss_fn == BCEKLDivLoss) or (loss_fn == MSEKLDivLoss):\n",
        "            loss_fn = nn.MSELoss()\n",
        "            print(\"When method != variational Then, loss_fn must not ['BCEKLDivLoss', 'MSEKLDivLoss']\")\n",
        "        else:\n",
        "            loss_fn = loss_fn\n",
        "    \"\"\"\n",
        "\n",
        "    ## optimizer 지정 (Adadelta 필요시 추가)\n",
        "    if args.optimizer == 'adam':\n",
        "        optimizer = optim.Adam(model.parameters(), lr = args.lr)\n",
        "    elif args.optimizer == 'sgd':\n",
        "        optimizer = optim.SGD(model.parameters(), lr = args.lr)\n",
        "    elif args.optimizer == 'rms':\n",
        "        optimizer = optim.RMSprop(model.parameters(), lr = args.lr)\n",
        "    else :\n",
        "        print(\"loss_fn must be one of [adam, sgd, rms]\")\n",
        "\n",
        "    \"\"\"\n",
        "    ## model save directory 존재하지 않을 시, 생성 \n",
        "    if os.path.isdir(model_save_dir) == False :\n",
        "        os.makedirs(model_save_dir)\n",
        "    \"\"\"\n",
        "\n",
        "    ## loss 평가 지표 및 bad_epoch(=stopping_epch_num) 생성\n",
        "    prv_loss = np.inf\n",
        "    bad_epoch = 0\n",
        "    \n",
        "    today_date = time.strftime('%Y%m%d', time.gmtime())\n",
        "    time1 = time.time()\n",
        "    \n",
        "    ## method print\n",
        "    if args.method in ['variational','gauss','zeros', 'basic']:\n",
        "        print(\"Using method is\", args.method)\n",
        "    else : \n",
        "        args.method = 'basic'\n",
        "        print(\"You can select method one of [variational, gauss, zeros, 'basic'] \\n Using method is No noise\")\n",
        "    \n",
        "    for i in range(args.num_epochs):\n",
        "        \n",
        "        ## Training epoch 진행\n",
        "        model.train()\n",
        "        train_losses = []\n",
        "        for train_inputs in train_loader:\n",
        "            \n",
        "            train_dat = train_inputs.float().cuda()\n",
        "            \n",
        "            ## noise method 적용 (gaussian, zeros)\n",
        "            if args.method == 'gauss':\n",
        "                noise = torch.randn(train_dat.shape) * args.noise_weight\n",
        "                train_dat = (train_dat+noise).float()\n",
        "            elif args.method == 'zeros':\n",
        "                noise = np.random.choice([0,1], p = (args.noise_weight, 1-args.noise_weight), size = train_dat.shape)\n",
        "                train_dat = (train_dat+noise).float()\n",
        "            else :\n",
        "                args.method = args.method\n",
        "            \n",
        "            optimizer.zero_grad()\n",
        "            \n",
        "            if args.method == 'variational':\n",
        "                train_decode, train_mu, train_logvar = model(train_dat)\n",
        "                train_loss = loss_fn(train_decode[0], train_dat, train_mu, train_logvar)\n",
        "                train_loss.backward()\n",
        "                optimizer.step()\n",
        "                \n",
        "            else :\n",
        "                train_decode = model(train_dat)\n",
        "                train_loss = loss_fn(train_decode[0], train_dat)\n",
        "                train_loss.backward()\n",
        "                optimizer.step()\n",
        "\n",
        "            train_losses.append(train_loss.item())\n",
        "\n",
        "        ## Validation epoch 진행\n",
        "        model.eval()\n",
        "        val_losses = []\n",
        "        for valid_inputs in valid_loader:\n",
        "            \n",
        "            valid_dat = valid_inputs.float().cuda()\n",
        "            \n",
        "            if args.method == 'variational':\n",
        "                valid_decode, valid_mu, valid_logvar = model(valid_dat)\n",
        "                valid_loss = loss_fn(valid_decode[0], valid_dat, valid_mu, valid_logvar)\n",
        "                \n",
        "            else :\n",
        "                valid_decode = model(valid_dat)\n",
        "                valid_loss = loss_fn(valid_decode[0], valid_dat)\n",
        "\n",
        "            val_losses.append(valid_loss.item())\n",
        "\n",
        "        train_loss = np.mean(train_losses)\n",
        "        val_loss = np.mean(val_losses)\n",
        "\n",
        "        history['train'].append(train_loss)\n",
        "        history['val'].append(val_loss)\n",
        "\n",
        "        if (i % 2 == 0) or (i == args.num_epochs-1) :\n",
        "            print(\"Now epoch : [{}/{}], train_loss:{:.4f}, valid_loss:{:.4f}\".format(i + 1, args.num_epochs, train_loss.tolist(), valid_loss.tolist()))\n",
        "\n",
        "        ## early stopping 적용 시 진행\n",
        "        \"\"\"    \n",
        "        if args.early_stopping :\n",
        "            \n",
        "            if bad_epoch > args.stopping_rounds:\n",
        "                print(\"Training Model Early Stopped in\",i,\"epochs.\")\n",
        "                print(\"train_loss:{:.4f}, valid_loss:{:.4f}\".format(train_loss.tolist(), valid_loss.tolist()))\n",
        "                break\n",
        "            else :\n",
        "                if prv_loss > valid_loss:\n",
        "                    loss_diff = prv_loss - valid_loss\n",
        "                    loss_diff = loss_diff.detach().cpu().numpy()\n",
        "                    if np.round(loss_diff,5) > args.stopping_tolerance:\n",
        "                        prv_loss = valid_loss\n",
        "                        torch.save({'epoch': i,\n",
        "                                    'model_state_dict': model.state_dict(),\n",
        "                                    'optimizer_state_dict': optimizer.state_dict(),\n",
        "                                    'train_loss': train_loss,\n",
        "                                    'valid_loss': valid_loss},\n",
        "                                    model_save_dir+today_date+'_'+method+'_autoencoder_model.pt')\n",
        "                    else :\n",
        "                        bad_epoch += 1\n",
        "                        prv_loss = valid_loss\n",
        "                        torch.save({'epoch': i,\n",
        "                                    'model_state_dict': model.state_dict(),\n",
        "                                    'optimizer_state_dict': optimizer.state_dict(),\n",
        "                                    'train_loss': train_loss,\n",
        "                                    'valid_loss': valid_loss}, \n",
        "                                    model_save_dir+today_date+'_'+method+'_autoencoder_model.pt')\n",
        "                else :\n",
        "                    bad_epoch += 1\n",
        "                    prv_loss = prv_loss\n",
        "        \n",
        "        else :\n",
        "            if prv_loss > valid_loss :\n",
        "                prv_loss = valid_loss\n",
        "                torch.save({'epoch': i,\n",
        "                            'model_state_dict': model.state_dict(),\n",
        "                            'optimizer_state_dict': optimizer.state_dict(),\n",
        "                            'train_loss': train_loss,\n",
        "                            'valid_loss': valid_loss},\n",
        "                            model_save_dir+today_date+'_'+method+'_autoencoder_model.pt')\n",
        "            else :\n",
        "                prv_loss = prv_loss\n",
        "        \"\"\"    \n",
        "\n",
        "    print(\"Training Elapsed Time : \", round((time.time() - time1)/60,3), \"mins.\")\n",
        "    return model.eval(), history"
      ],
      "execution_count": 175,
      "outputs": []
    },
    {
      "cell_type": "code",
      "metadata": {
        "id": "GEJjI1az8fmx",
        "colab_type": "code",
        "colab": {
          "base_uri": "https://localhost:8080/",
          "height": 477
        },
        "outputId": "e44ebf0f-39ba-4460-a2ac-b6aa72adcd35"
      },
      "source": [
        "model, history = train_model(train_loader, val_loader, deepcopy(args))"
      ],
      "execution_count": 176,
      "outputs": [
        {
          "output_type": "stream",
          "text": [
            "Using method is basic\n",
            "Now epoch : [1/50], train_loss:60.9748, valid_loss:12.1998\n",
            "Now epoch : [3/50], train_loss:60.8285, valid_loss:11.9754\n",
            "Now epoch : [5/50], train_loss:60.7286, valid_loss:11.8091\n",
            "Now epoch : [7/50], train_loss:60.6596, valid_loss:11.6840\n",
            "Now epoch : [9/50], train_loss:60.6136, valid_loss:11.5951\n",
            "Now epoch : [11/50], train_loss:60.5844, valid_loss:11.5326\n",
            "Now epoch : [13/50], train_loss:60.5665, valid_loss:11.4937\n",
            "Now epoch : [15/50], train_loss:60.5557, valid_loss:11.4599\n",
            "Now epoch : [17/50], train_loss:60.5490, valid_loss:11.4457\n",
            "Now epoch : [19/50], train_loss:60.5441, valid_loss:11.4301\n",
            "Now epoch : [21/50], train_loss:60.5403, valid_loss:11.4204\n",
            "Now epoch : [23/50], train_loss:60.5345, valid_loss:11.3881\n",
            "Now epoch : [25/50], train_loss:60.5223, valid_loss:11.3551\n",
            "Now epoch : [27/50], train_loss:60.4833, valid_loss:11.2125\n",
            "Now epoch : [29/50], train_loss:60.3141, valid_loss:10.7206\n",
            "Now epoch : [31/50], train_loss:59.1382, valid_loss:8.1763\n",
            "Now epoch : [33/50], train_loss:56.4791, valid_loss:6.0649\n",
            "Now epoch : [35/50], train_loss:54.3128, valid_loss:5.7589\n",
            "Now epoch : [37/50], train_loss:52.6083, valid_loss:7.9188\n",
            "Now epoch : [39/50], train_loss:51.4461, valid_loss:6.0500\n",
            "Now epoch : [41/50], train_loss:50.6511, valid_loss:5.5818\n",
            "Now epoch : [43/50], train_loss:50.1036, valid_loss:5.6580\n",
            "Now epoch : [45/50], train_loss:49.5280, valid_loss:6.9798\n",
            "Now epoch : [47/50], train_loss:49.4778, valid_loss:5.6001\n",
            "Now epoch : [49/50], train_loss:49.0965, valid_loss:5.8879\n",
            "Now epoch : [50/50], train_loss:48.5668, valid_loss:5.6424\n",
            "Training Elapsed Time :  9.011 mins.\n"
          ],
          "name": "stdout"
        }
      ]
    },
    {
      "cell_type": "code",
      "metadata": {
        "id": "B6OUQrYTdKzw",
        "colab_type": "code",
        "colab": {
          "base_uri": "https://localhost:8080/",
          "height": 522
        },
        "outputId": "1dd43e96-5cba-413d-f2fc-92e85f3a1175"
      },
      "source": [
        "ax = plt.figure().gca()\n",
        "\n",
        "ax.plot(history['train'])\n",
        "ax.plot(history['val'])\n",
        "plt.ylabel('Loss')\n",
        "plt.xlabel('Epoch')\n",
        "plt.legend(['train', 'test'])\n",
        "plt.title('Loss over training epochs')\n",
        "plt.show();"
      ],
      "execution_count": 177,
      "outputs": [
        {
          "output_type": "display_data",
          "data": {
            "image/png": "[encoded data removed]",
            "text/plain": [
              "<Figure size 864x576 with 1 Axes>"
            ]
          },
          "metadata": {
            "tags": [],
            "image/png": {
              "width": 728,
              "height": 506
            }
          }
        }
      ]
    },
    {
      "cell_type": "markdown",
      "metadata": {
        "id": "yMCVGE8Qll9b",
        "colab_type": "text"
      },
      "source": [
        "<br>\n",
        "\n",
        "#**Predict Train & Test dataset**"
      ]
    },
    {
      "cell_type": "code",
      "metadata": {
        "id": "Yle-72Ixj4uY",
        "colab_type": "code",
        "colab": {}
      },
      "source": [
        "def predict(model, dataset):\n",
        "  predictions, losses = [], []\n",
        "  criterion = nn.L1Loss(reduction='sum').to(device)\n",
        "  with torch.no_grad():\n",
        "    model = model.eval()\n",
        "    for seq_true in dataset:\n",
        "      seq_true = seq_true.float().to(device)\n",
        "      seq_pred = model(seq_true)\n",
        "\n",
        "      loss = criterion(seq_pred[0], seq_true)\n",
        "\n",
        "      predictions.append(seq_pred[0].cpu().numpy().flatten())\n",
        "      losses.append(loss.item())\n",
        "  return predictions, losses"
      ],
      "execution_count": 189,
      "outputs": []
    },
    {
      "cell_type": "code",
      "metadata": {
        "id": "zn1zhND1TuE6",
        "colab_type": "code",
        "colab": {
          "base_uri": "https://localhost:8080/",
          "height": 487
        },
        "outputId": "84539a2f-7533-4d96-ea88-8bd0459bd0e1"
      },
      "source": [
        "_, losses = predict(model, train_loader)\n",
        "\n",
        "sns.distplot(losses, bins=50, kde=True);"
      ],
      "execution_count": 190,
      "outputs": [
        {
          "output_type": "display_data",
          "data": {
            "image/png": "[encoded data removed]",
            "text/plain": [
              "<Figure size 864x576 with 1 Axes>"
            ]
          },
          "metadata": {
            "tags": [],
            "image/png": {
              "width": 722,
              "height": 471
            }
          }
        }
      ]
    },
    {
      "cell_type": "code",
      "metadata": {
        "id": "PnDwkvA4alxN",
        "colab_type": "code",
        "colab": {
          "base_uri": "https://localhost:8080/",
          "height": 487
        },
        "outputId": "465fa33b-9cf1-4234-f37a-a719ed09f10d"
      },
      "source": [
        "_, pred_losses = predict(model, test_loader)\n",
        "sns.distplot(pred_losses, bins=50, kde=True);"
      ],
      "execution_count": 192,
      "outputs": [
        {
          "output_type": "display_data",
          "data": {
            "image/png": "[encoded data removed]",
            "text/plain": [
              "<Figure size 864x576 with 1 Axes>"
            ]
          },
          "metadata": {
            "tags": [],
            "image/png": {
              "width": 729,
              "height": 471
            }
          }
        }
      ]
    },
    {
      "cell_type": "code",
      "metadata": {
        "id": "7UOPE3RlalsS",
        "colab_type": "code",
        "colab": {}
      },
      "source": [
        ""
      ],
      "execution_count": null,
      "outputs": []
    }
  ]
}