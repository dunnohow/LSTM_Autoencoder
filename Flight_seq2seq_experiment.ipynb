{
  "nbformat": 4,
  "nbformat_minor": 0,
  "metadata": {
    "colab": {
      "name": "Flight_seq2seq_experiment.ipynb",
      "provenance": [],
      "collapsed_sections": [
        "rYzEQVVEiCAK",
        "B3XP7bPlLw9R",
        "SdaE4oaZL6dH",
        "SxP_3xhTTlC-",
        "YlBJB273V8P4"
      ],
      "machine_shape": "hm",
      "authorship_tag": "ABX9TyPRwcf/1++hyUgE7ZlVB71z",
      "include_colab_link": true
    },
    "kernelspec": {
      "name": "python3",
      "display_name": "Python 3"
    },
    "accelerator": "GPU"
  },
  "cells": [
    {
      "cell_type": "markdown",
      "metadata": {
        "id": "view-in-github",
        "colab_type": "text"
      },
      "source": [
        "<a href=\"https://colab.research.google.com/github/dunnohow/LSTM_Autoencoder/blob/master/Flight_seq2seq_experiment.ipynb\" target=\"_parent\"><img src=\"https://colab.research.google.com/assets/colab-badge.svg\" alt=\"Open In Colab\"/></a>"
      ]
    },
    {
      "cell_type": "code",
      "metadata": {
        "id": "6L8KBnCmJ32a",
        "colab_type": "code",
        "colab": {
          "base_uri": "https://localhost:8080/",
          "height": 71
        },
        "outputId": "d90486bc-0e57-47e6-b29f-7f98f7415588"
      },
      "source": [
        "import torch\n",
        "import copy\n",
        "import numpy as np\n",
        "import pandas as pd\n",
        "import seaborn as sns\n",
        "from pylab import rcParams\n",
        "import matplotlib.pyplot as plt\n",
        "from matplotlib import rc\n",
        "from sklearn.model_selection import train_test_split\n",
        "from sklearn.preprocessing import MinMaxScaler\n",
        "from tqdm.notebook import tqdm\n",
        "\n",
        "from torch import nn, optim\n",
        "from torch.utils.data import DataLoader\n",
        "import torch.nn.functional as F"
      ],
      "execution_count": 1,
      "outputs": [
        {
          "output_type": "stream",
          "text": [
            "/usr/local/lib/python3.6/dist-packages/statsmodels/tools/_testing.py:19: FutureWarning: pandas.util.testing is deprecated. Use the functions in the public API at pandas.testing instead.\n",
            "  import pandas.util.testing as tm\n"
          ],
          "name": "stderr"
        }
      ]
    },
    {
      "cell_type": "code",
      "metadata": {
        "id": "EtGEXpkhQCWW",
        "colab_type": "code",
        "colab": {
          "base_uri": "https://localhost:8080/",
          "height": 71
        },
        "outputId": "714b4be0-c5cd-4ceb-9ebe-f3675672ca7c"
      },
      "source": [
        "# 디바이스 설정\n",
        "if torch.cuda.is_available():    \n",
        "    device = torch.device(\"cuda\")\n",
        "    print('There are %d GPU(s) available.' % torch.cuda.device_count())\n",
        "    print('We will use the GPU:', torch.cuda.get_device_name(0))\n",
        "else:\n",
        "    device = torch.device(\"cpu\")\n",
        "    print('No GPU available, using the CPU instead.')"
      ],
      "execution_count": 2,
      "outputs": [
        {
          "output_type": "stream",
          "text": [
            "There are 1 GPU(s) available.\n",
            "We will use the GPU: Tesla P100-PCIE-16GB\n"
          ],
          "name": "stdout"
        }
      ]
    },
    {
      "cell_type": "code",
      "metadata": {
        "id": "FkBR3VAfULT2",
        "colab_type": "code",
        "colab": {}
      },
      "source": [
        "device = torch.device(\"cuda\")"
      ],
      "execution_count": 3,
      "outputs": []
    },
    {
      "cell_type": "markdown",
      "metadata": {
        "id": "rYzEQVVEiCAK",
        "colab_type": "text"
      },
      "source": [
        "<br>\n",
        "\n",
        "# Loading Data"
      ]
    },
    {
      "cell_type": "code",
      "metadata": {
        "id": "0CkekshhKAqo",
        "colab_type": "code",
        "colab": {}
      },
      "source": [
        "#sns.get_dataset_names()"
      ],
      "execution_count": 4,
      "outputs": []
    },
    {
      "cell_type": "code",
      "metadata": {
        "id": "0H5fW9JLKGRk",
        "colab_type": "code",
        "colab": {
          "base_uri": "https://localhost:8080/",
          "height": 221
        },
        "outputId": "b5d9c947-1517-4cd1-c177-c1ca681cda73"
      },
      "source": [
        "flight_data = sns.load_dataset(\"flights\")\n",
        "flight_data.head()"
      ],
      "execution_count": 5,
      "outputs": [
        {
          "output_type": "execute_result",
          "data": {
            "text/html": [
              "<div>\n",
              "<style scoped>\n",
              "    .dataframe tbody tr th:only-of-type {\n",
              "        vertical-align: middle;\n",
              "    }\n",
              "\n",
              "    .dataframe tbody tr th {\n",
              "        vertical-align: top;\n",
              "    }\n",
              "\n",
              "    .dataframe thead th {\n",
              "        text-align: right;\n",
              "    }\n",
              "</style>\n",
              "<table border=\"1\" class=\"dataframe\">\n",
              "  <thead>\n",
              "    <tr style=\"text-align: right;\">\n",
              "      <th></th>\n",
              "      <th>year</th>\n",
              "      <th>month</th>\n",
              "      <th>passengers</th>\n",
              "    </tr>\n",
              "  </thead>\n",
              "  <tbody>\n",
              "    <tr>\n",
              "      <th>0</th>\n",
              "      <td>1949</td>\n",
              "      <td>January</td>\n",
              "      <td>112</td>\n",
              "    </tr>\n",
              "    <tr>\n",
              "      <th>1</th>\n",
              "      <td>1949</td>\n",
              "      <td>February</td>\n",
              "      <td>118</td>\n",
              "    </tr>\n",
              "    <tr>\n",
              "      <th>2</th>\n",
              "      <td>1949</td>\n",
              "      <td>March</td>\n",
              "      <td>132</td>\n",
              "    </tr>\n",
              "    <tr>\n",
              "      <th>3</th>\n",
              "      <td>1949</td>\n",
              "      <td>April</td>\n",
              "      <td>129</td>\n",
              "    </tr>\n",
              "    <tr>\n",
              "      <th>4</th>\n",
              "      <td>1949</td>\n",
              "      <td>May</td>\n",
              "      <td>121</td>\n",
              "    </tr>\n",
              "  </tbody>\n",
              "</table>\n",
              "</div>"
            ],
            "text/plain": [
              "   year     month  passengers\n",
              "0  1949   January         112\n",
              "1  1949  February         118\n",
              "2  1949     March         132\n",
              "3  1949     April         129\n",
              "4  1949       May         121"
            ]
          },
          "metadata": {
            "tags": []
          },
          "execution_count": 5
        }
      ]
    },
    {
      "cell_type": "code",
      "metadata": {
        "id": "rPMp6AtNKJOS",
        "colab_type": "code",
        "colab": {
          "base_uri": "https://localhost:8080/",
          "height": 386
        },
        "outputId": "77aa618e-72f8-458a-bf30-cf0440b7b673"
      },
      "source": [
        "fig_size = plt.rcParams[\"figure.figsize\"]\n",
        "fig_size[0] = 15\n",
        "fig_size[1] = 5\n",
        "plt.rcParams[\"figure.figsize\"] = fig_size\n",
        "\n",
        "plt.title('Month vs Passenger')\n",
        "plt.ylabel('Total Passengers')\n",
        "plt.xlabel('Months')\n",
        "plt.grid(True)\n",
        "plt.autoscale(axis='x',tight=True)\n",
        "plt.plot(flight_data['passengers'])"
      ],
      "execution_count": 6,
      "outputs": [
        {
          "output_type": "execute_result",
          "data": {
            "text/plain": [
              "[<matplotlib.lines.Line2D at 0x7f59c78ac940>]"
            ]
          },
          "metadata": {
            "tags": []
          },
          "execution_count": 6
        },
        {
          "output_type": "display_data",
          "data": {
            "image/png": "[encoded data removed]",
            "text/plain": [
              "<Figure size 1080x360 with 1 Axes>"
            ]
          },
          "metadata": {
            "tags": [],
            "needs_background": "light"
          }
        }
      ]
    },
    {
      "cell_type": "code",
      "metadata": {
        "id": "BXeQIVToKXZ8",
        "colab_type": "code",
        "colab": {}
      },
      "source": [
        "all_data = flight_data['passengers'].values.astype(float)"
      ],
      "execution_count": 7,
      "outputs": []
    },
    {
      "cell_type": "code",
      "metadata": {
        "id": "TEzLld8QKeQF",
        "colab_type": "code",
        "colab": {}
      },
      "source": [
        "test_data_size = 12\n",
        "\n",
        "train_data = all_data[:-test_data_size]\n",
        "test_data = all_data[-test_data_size:]"
      ],
      "execution_count": 28,
      "outputs": []
    },
    {
      "cell_type": "code",
      "metadata": {
        "id": "sQpeoO7hKq5Y",
        "colab_type": "code",
        "colab": {}
      },
      "source": [
        "from sklearn.preprocessing import MinMaxScaler\n",
        "\n",
        "scaler = MinMaxScaler()\n",
        "scaler.fit(train_data.reshape(-1, 1))\n",
        "train_data_normalized = scaler.transform(train_data.reshape(-1, 1))\n",
        "test_data_normalized = scaler.transform(test_data.reshape(-1, 1))"
      ],
      "execution_count": 29,
      "outputs": []
    },
    {
      "cell_type": "code",
      "metadata": {
        "id": "OR-RxIHUPKHU",
        "colab_type": "code",
        "colab": {}
      },
      "source": [
        "train_window = 12"
      ],
      "execution_count": 30,
      "outputs": []
    },
    {
      "cell_type": "markdown",
      "metadata": {
        "id": "B3XP7bPlLw9R",
        "colab_type": "text"
      },
      "source": [
        "<br>\n",
        "<br>\n",
        "\n",
        "# LSTM"
      ]
    },
    {
      "cell_type": "code",
      "metadata": {
        "id": "QV86pAeoTAou",
        "colab_type": "code",
        "colab": {}
      },
      "source": [
        "train_data_normalized = torch.FloatTensor(train_data_normalized).view(-1)"
      ],
      "execution_count": 19,
      "outputs": []
    },
    {
      "cell_type": "code",
      "metadata": {
        "id": "7BTT4PUMOtta",
        "colab_type": "code",
        "colab": {}
      },
      "source": [
        "def create_inout_sequences(input_data, tw):\n",
        "    inout_seq = []\n",
        "    L = len(input_data)\n",
        "    for i in range(L-tw):\n",
        "        train_seq = input_data[i:i+tw]\n",
        "        train_label = input_data[i+tw:i+tw+1]\n",
        "        inout_seq.append((train_seq ,train_label))\n",
        "    return inout_seq"
      ],
      "execution_count": 20,
      "outputs": []
    },
    {
      "cell_type": "code",
      "metadata": {
        "id": "4eXikA6mPQOn",
        "colab_type": "code",
        "colab": {}
      },
      "source": [
        "train_inout_seq = create_inout_sequences(train_data_normalized, train_window)"
      ],
      "execution_count": 21,
      "outputs": []
    },
    {
      "cell_type": "code",
      "metadata": {
        "id": "llRuv71rPSnj",
        "colab_type": "code",
        "colab": {}
      },
      "source": [
        "class LSTM(nn.Module):\n",
        "    def __init__(self, input_size=1, hidden_layer_size=100, output_size=1):\n",
        "        super().__init__()\n",
        "        self.hidden_layer_size = hidden_layer_size\n",
        "\n",
        "        self.lstm = nn.LSTM(input_size, hidden_layer_size)\n",
        "\n",
        "        self.linear = nn.Linear(hidden_layer_size, output_size)\n",
        "\n",
        "        self.hidden_cell = (torch.zeros(1,1,self.hidden_layer_size),\n",
        "                            torch.zeros(1,1,self.hidden_layer_size))\n",
        "\n",
        "    def forward(self, input_seq):\n",
        "        lstm_out, (hidden_out, cell_out) = self.lstm(input_seq.view(len(input_seq) ,1, -1), self.hidden_cell)\n",
        "        print(lstm_out)\n",
        "        print(hidden_out)\n",
        "        predictions = self.linear(lstm_out.view(len(input_seq), -1))\n",
        "        #print(predictions.shape)\n",
        "        return predictions[-1]"
      ],
      "execution_count": 22,
      "outputs": []
    },
    {
      "cell_type": "code",
      "metadata": {
        "id": "9bkqsi8CPua4",
        "colab_type": "code",
        "colab": {
          "base_uri": "https://localhost:8080/",
          "height": 370
        },
        "outputId": "3e72b77f-b256-472d-833d-86779e21e365"
      },
      "source": [
        "model = LSTM()\n",
        "model = model.cuda()\n",
        "loss_function = nn.L1Loss().cuda()\n",
        "optimizer = torch.optim.Adam(model.parameters(), lr=0.001)"
      ],
      "execution_count": 23,
      "outputs": [
        {
          "output_type": "error",
          "ename": "KeyboardInterrupt",
          "evalue": "ignored",
          "traceback": [
            "\u001b[0;31m---------------------------------------------------------------------------\u001b[0m",
            "\u001b[0;31mKeyboardInterrupt\u001b[0m                         Traceback (most recent call last)",
            "\u001b[0;32m<ipython-input-23-9c4cf7be6c76>\u001b[0m in \u001b[0;36m<module>\u001b[0;34m()\u001b[0m\n\u001b[1;32m      1\u001b[0m \u001b[0mmodel\u001b[0m \u001b[0;34m=\u001b[0m \u001b[0mLSTM\u001b[0m\u001b[0;34m(\u001b[0m\u001b[0;34m)\u001b[0m\u001b[0;34m\u001b[0m\u001b[0;34m\u001b[0m\u001b[0m\n\u001b[0;32m----> 2\u001b[0;31m \u001b[0mmodel\u001b[0m \u001b[0;34m=\u001b[0m \u001b[0mmodel\u001b[0m\u001b[0;34m.\u001b[0m\u001b[0mcuda\u001b[0m\u001b[0;34m(\u001b[0m\u001b[0;34m)\u001b[0m\u001b[0;34m\u001b[0m\u001b[0;34m\u001b[0m\u001b[0m\n\u001b[0m\u001b[1;32m      3\u001b[0m \u001b[0mloss_function\u001b[0m \u001b[0;34m=\u001b[0m \u001b[0mnn\u001b[0m\u001b[0;34m.\u001b[0m\u001b[0mL1Loss\u001b[0m\u001b[0;34m(\u001b[0m\u001b[0;34m)\u001b[0m\u001b[0;34m.\u001b[0m\u001b[0mcuda\u001b[0m\u001b[0;34m(\u001b[0m\u001b[0;34m)\u001b[0m\u001b[0;34m\u001b[0m\u001b[0;34m\u001b[0m\u001b[0m\n\u001b[1;32m      4\u001b[0m \u001b[0moptimizer\u001b[0m \u001b[0;34m=\u001b[0m \u001b[0mtorch\u001b[0m\u001b[0;34m.\u001b[0m\u001b[0moptim\u001b[0m\u001b[0;34m.\u001b[0m\u001b[0mAdam\u001b[0m\u001b[0;34m(\u001b[0m\u001b[0mmodel\u001b[0m\u001b[0;34m.\u001b[0m\u001b[0mparameters\u001b[0m\u001b[0;34m(\u001b[0m\u001b[0;34m)\u001b[0m\u001b[0;34m,\u001b[0m \u001b[0mlr\u001b[0m\u001b[0;34m=\u001b[0m\u001b[0;36m0.001\u001b[0m\u001b[0;34m)\u001b[0m\u001b[0;34m\u001b[0m\u001b[0;34m\u001b[0m\u001b[0m\n",
            "\u001b[0;32m/usr/local/lib/python3.6/dist-packages/torch/nn/modules/module.py\u001b[0m in \u001b[0;36mcuda\u001b[0;34m(self, device)\u001b[0m\n\u001b[1;32m    456\u001b[0m             \u001b[0mModule\u001b[0m\u001b[0;34m:\u001b[0m \u001b[0mself\u001b[0m\u001b[0;34m\u001b[0m\u001b[0;34m\u001b[0m\u001b[0m\n\u001b[1;32m    457\u001b[0m         \"\"\"\n\u001b[0;32m--> 458\u001b[0;31m         \u001b[0;32mreturn\u001b[0m \u001b[0mself\u001b[0m\u001b[0;34m.\u001b[0m\u001b[0m_apply\u001b[0m\u001b[0;34m(\u001b[0m\u001b[0;32mlambda\u001b[0m \u001b[0mt\u001b[0m\u001b[0;34m:\u001b[0m \u001b[0mt\u001b[0m\u001b[0;34m.\u001b[0m\u001b[0mcuda\u001b[0m\u001b[0;34m(\u001b[0m\u001b[0mdevice\u001b[0m\u001b[0;34m)\u001b[0m\u001b[0;34m)\u001b[0m\u001b[0;34m\u001b[0m\u001b[0;34m\u001b[0m\u001b[0m\n\u001b[0m\u001b[1;32m    459\u001b[0m \u001b[0;34m\u001b[0m\u001b[0m\n\u001b[1;32m    460\u001b[0m     \u001b[0;32mdef\u001b[0m \u001b[0mcpu\u001b[0m\u001b[0;34m(\u001b[0m\u001b[0mself\u001b[0m\u001b[0;34m:\u001b[0m \u001b[0mT\u001b[0m\u001b[0;34m)\u001b[0m \u001b[0;34m->\u001b[0m \u001b[0mT\u001b[0m\u001b[0;34m:\u001b[0m\u001b[0;34m\u001b[0m\u001b[0;34m\u001b[0m\u001b[0m\n",
            "\u001b[0;32m/usr/local/lib/python3.6/dist-packages/torch/nn/modules/module.py\u001b[0m in \u001b[0;36m_apply\u001b[0;34m(self, fn)\u001b[0m\n\u001b[1;32m    352\u001b[0m     \u001b[0;32mdef\u001b[0m \u001b[0m_apply\u001b[0m\u001b[0;34m(\u001b[0m\u001b[0mself\u001b[0m\u001b[0;34m,\u001b[0m \u001b[0mfn\u001b[0m\u001b[0;34m)\u001b[0m\u001b[0;34m:\u001b[0m\u001b[0;34m\u001b[0m\u001b[0;34m\u001b[0m\u001b[0m\n\u001b[1;32m    353\u001b[0m         \u001b[0;32mfor\u001b[0m \u001b[0mmodule\u001b[0m \u001b[0;32min\u001b[0m \u001b[0mself\u001b[0m\u001b[0;34m.\u001b[0m\u001b[0mchildren\u001b[0m\u001b[0;34m(\u001b[0m\u001b[0;34m)\u001b[0m\u001b[0;34m:\u001b[0m\u001b[0;34m\u001b[0m\u001b[0;34m\u001b[0m\u001b[0m\n\u001b[0;32m--> 354\u001b[0;31m             \u001b[0mmodule\u001b[0m\u001b[0;34m.\u001b[0m\u001b[0m_apply\u001b[0m\u001b[0;34m(\u001b[0m\u001b[0mfn\u001b[0m\u001b[0;34m)\u001b[0m\u001b[0;34m\u001b[0m\u001b[0;34m\u001b[0m\u001b[0m\n\u001b[0m\u001b[1;32m    355\u001b[0m \u001b[0;34m\u001b[0m\u001b[0m\n\u001b[1;32m    356\u001b[0m         \u001b[0;32mdef\u001b[0m \u001b[0mcompute_should_use_set_data\u001b[0m\u001b[0;34m(\u001b[0m\u001b[0mtensor\u001b[0m\u001b[0;34m,\u001b[0m \u001b[0mtensor_applied\u001b[0m\u001b[0;34m)\u001b[0m\u001b[0;34m:\u001b[0m\u001b[0;34m\u001b[0m\u001b[0;34m\u001b[0m\u001b[0m\n",
            "\u001b[0;32m/usr/local/lib/python3.6/dist-packages/torch/nn/modules/rnn.py\u001b[0m in \u001b[0;36m_apply\u001b[0;34m(self, fn)\u001b[0m\n\u001b[1;32m    152\u001b[0m \u001b[0;34m\u001b[0m\u001b[0m\n\u001b[1;32m    153\u001b[0m     \u001b[0;32mdef\u001b[0m \u001b[0m_apply\u001b[0m\u001b[0;34m(\u001b[0m\u001b[0mself\u001b[0m\u001b[0;34m,\u001b[0m \u001b[0mfn\u001b[0m\u001b[0;34m)\u001b[0m\u001b[0;34m:\u001b[0m\u001b[0;34m\u001b[0m\u001b[0;34m\u001b[0m\u001b[0m\n\u001b[0;32m--> 154\u001b[0;31m         \u001b[0mret\u001b[0m \u001b[0;34m=\u001b[0m \u001b[0msuper\u001b[0m\u001b[0;34m(\u001b[0m\u001b[0mRNNBase\u001b[0m\u001b[0;34m,\u001b[0m \u001b[0mself\u001b[0m\u001b[0;34m)\u001b[0m\u001b[0;34m.\u001b[0m\u001b[0m_apply\u001b[0m\u001b[0;34m(\u001b[0m\u001b[0mfn\u001b[0m\u001b[0;34m)\u001b[0m\u001b[0;34m\u001b[0m\u001b[0;34m\u001b[0m\u001b[0m\n\u001b[0m\u001b[1;32m    155\u001b[0m \u001b[0;34m\u001b[0m\u001b[0m\n\u001b[1;32m    156\u001b[0m         \u001b[0;31m# Resets _flat_weights\u001b[0m\u001b[0;34m\u001b[0m\u001b[0;34m\u001b[0m\u001b[0;34m\u001b[0m\u001b[0m\n",
            "\u001b[0;32m/usr/local/lib/python3.6/dist-packages/torch/nn/modules/module.py\u001b[0m in \u001b[0;36m_apply\u001b[0;34m(self, fn)\u001b[0m\n\u001b[1;32m    374\u001b[0m                 \u001b[0;31m# `with torch.no_grad():`\u001b[0m\u001b[0;34m\u001b[0m\u001b[0;34m\u001b[0m\u001b[0;34m\u001b[0m\u001b[0m\n\u001b[1;32m    375\u001b[0m                 \u001b[0;32mwith\u001b[0m \u001b[0mtorch\u001b[0m\u001b[0;34m.\u001b[0m\u001b[0mno_grad\u001b[0m\u001b[0;34m(\u001b[0m\u001b[0;34m)\u001b[0m\u001b[0;34m:\u001b[0m\u001b[0;34m\u001b[0m\u001b[0;34m\u001b[0m\u001b[0m\n\u001b[0;32m--> 376\u001b[0;31m                     \u001b[0mparam_applied\u001b[0m \u001b[0;34m=\u001b[0m \u001b[0mfn\u001b[0m\u001b[0;34m(\u001b[0m\u001b[0mparam\u001b[0m\u001b[0;34m)\u001b[0m\u001b[0;34m\u001b[0m\u001b[0;34m\u001b[0m\u001b[0m\n\u001b[0m\u001b[1;32m    377\u001b[0m                 \u001b[0mshould_use_set_data\u001b[0m \u001b[0;34m=\u001b[0m \u001b[0mcompute_should_use_set_data\u001b[0m\u001b[0;34m(\u001b[0m\u001b[0mparam\u001b[0m\u001b[0;34m,\u001b[0m \u001b[0mparam_applied\u001b[0m\u001b[0;34m)\u001b[0m\u001b[0;34m\u001b[0m\u001b[0;34m\u001b[0m\u001b[0m\n\u001b[1;32m    378\u001b[0m                 \u001b[0;32mif\u001b[0m \u001b[0mshould_use_set_data\u001b[0m\u001b[0;34m:\u001b[0m\u001b[0;34m\u001b[0m\u001b[0;34m\u001b[0m\u001b[0m\n",
            "\u001b[0;32m/usr/local/lib/python3.6/dist-packages/torch/nn/modules/module.py\u001b[0m in \u001b[0;36m<lambda>\u001b[0;34m(t)\u001b[0m\n\u001b[1;32m    456\u001b[0m             \u001b[0mModule\u001b[0m\u001b[0;34m:\u001b[0m \u001b[0mself\u001b[0m\u001b[0;34m\u001b[0m\u001b[0;34m\u001b[0m\u001b[0m\n\u001b[1;32m    457\u001b[0m         \"\"\"\n\u001b[0;32m--> 458\u001b[0;31m         \u001b[0;32mreturn\u001b[0m \u001b[0mself\u001b[0m\u001b[0;34m.\u001b[0m\u001b[0m_apply\u001b[0m\u001b[0;34m(\u001b[0m\u001b[0;32mlambda\u001b[0m \u001b[0mt\u001b[0m\u001b[0;34m:\u001b[0m \u001b[0mt\u001b[0m\u001b[0;34m.\u001b[0m\u001b[0mcuda\u001b[0m\u001b[0;34m(\u001b[0m\u001b[0mdevice\u001b[0m\u001b[0;34m)\u001b[0m\u001b[0;34m)\u001b[0m\u001b[0;34m\u001b[0m\u001b[0;34m\u001b[0m\u001b[0m\n\u001b[0m\u001b[1;32m    459\u001b[0m \u001b[0;34m\u001b[0m\u001b[0m\n\u001b[1;32m    460\u001b[0m     \u001b[0;32mdef\u001b[0m \u001b[0mcpu\u001b[0m\u001b[0;34m(\u001b[0m\u001b[0mself\u001b[0m\u001b[0;34m:\u001b[0m \u001b[0mT\u001b[0m\u001b[0;34m)\u001b[0m \u001b[0;34m->\u001b[0m \u001b[0mT\u001b[0m\u001b[0;34m:\u001b[0m\u001b[0;34m\u001b[0m\u001b[0;34m\u001b[0m\u001b[0m\n",
            "\u001b[0;31mKeyboardInterrupt\u001b[0m: "
          ]
        }
      ]
    },
    {
      "cell_type": "code",
      "metadata": {
        "id": "eEDdv9EGP6gL",
        "colab_type": "code",
        "colab": {}
      },
      "source": [
        "epochs = 150\n",
        "\n",
        "for i in range(epochs):\n",
        "    for seq, labels in train_inout_seq:\n",
        "        optimizer.zero_grad()\n",
        "        model.hidden_cell = (torch.zeros(1, 1, model.hidden_layer_size).cuda(),\n",
        "                        torch.zeros(1, 1, model.hidden_layer_size).cuda())\n",
        "        seq = seq.cuda()\n",
        "        y_pred = model(seq)\n",
        "\n",
        "        single_loss = loss_function(y_pred, labels.cuda())\n",
        "        single_loss.backward()\n",
        "        optimizer.step()\n",
        "\n",
        "    if i%25 == 1:\n",
        "        print(f'epoch: {i:3} loss: {single_loss.item():10.8f}')\n",
        "\n",
        "print(f'epoch: {i:3} loss: {single_loss.item():10.10f}')"
      ],
      "execution_count": null,
      "outputs": []
    },
    {
      "cell_type": "code",
      "metadata": {
        "id": "S4nlS4IDQYJc",
        "colab_type": "code",
        "colab": {}
      },
      "source": [
        "fut_pred = 12\n",
        "\n",
        "test_inputs = train_data_normalized[-train_window:].tolist()\n",
        "print(len(test_inputs))"
      ],
      "execution_count": null,
      "outputs": []
    },
    {
      "cell_type": "code",
      "metadata": {
        "id": "YdqhcPB_WCMW",
        "colab_type": "code",
        "colab": {}
      },
      "source": [
        "model.eval()\n",
        "\n",
        "for i in range(fut_pred):\n",
        "    seq = torch.FloatTensor(test_inputs[-train_window:]).cuda()\n",
        "    with torch.no_grad():\n",
        "        model.hidden = (torch.zeros(1, 1, model.hidden_layer_size).cuda(),\n",
        "                        torch.zeros(1, 1, model.hidden_layer_size).cuda())\n",
        "        test_inputs.append(model(seq).item())"
      ],
      "execution_count": null,
      "outputs": []
    },
    {
      "cell_type": "code",
      "metadata": {
        "id": "rxtoxxfHnQo7",
        "colab_type": "code",
        "colab": {}
      },
      "source": [
        "seq = torch.FloatTensor(test_inputs[-train_window:]).cuda()\n",
        "model(seq).item()"
      ],
      "execution_count": null,
      "outputs": []
    },
    {
      "cell_type": "code",
      "metadata": {
        "id": "I_VnlLMBWCnX",
        "colab_type": "code",
        "colab": {}
      },
      "source": [
        "test_inputs[fut_pred:]"
      ],
      "execution_count": null,
      "outputs": []
    },
    {
      "cell_type": "code",
      "metadata": {
        "id": "_HqBXYi1WC-D",
        "colab_type": "code",
        "colab": {}
      },
      "source": [
        "actual_predictions = scaler.inverse_transform(np.array(test_inputs[train_window:] ).reshape(-1, 1))\n",
        "print(actual_predictions)"
      ],
      "execution_count": null,
      "outputs": []
    },
    {
      "cell_type": "code",
      "metadata": {
        "id": "MoaPwHXPWDMm",
        "colab_type": "code",
        "colab": {}
      },
      "source": [
        "flight_data['passengers'][-train_window:]"
      ],
      "execution_count": null,
      "outputs": []
    },
    {
      "cell_type": "code",
      "metadata": {
        "id": "BTKZ6cTqW8J9",
        "colab_type": "code",
        "colab": {}
      },
      "source": [
        "plt.plot(flight_data['passengers'][-train_window:].reset_index(drop = True), color = 'blue')\n",
        "plt.plot(actual_predictions, color = 'green')\n",
        "plt.show()"
      ],
      "execution_count": null,
      "outputs": []
    },
    {
      "cell_type": "code",
      "metadata": {
        "id": "CLb6M2OPXBVk",
        "colab_type": "code",
        "colab": {}
      },
      "source": [
        ""
      ],
      "execution_count": null,
      "outputs": []
    },
    {
      "cell_type": "markdown",
      "metadata": {
        "id": "SdaE4oaZL6dH",
        "colab_type": "text"
      },
      "source": [
        "<br>\n",
        "\n",
        "# LSTM Autoencoder Hidden"
      ]
    },
    {
      "cell_type": "code",
      "metadata": {
        "id": "SGKIgVmw6qpD",
        "colab_type": "code",
        "colab": {}
      },
      "source": [
        "def create_dataset(df):\n",
        "  sequences = df.astype(np.float32).tolist()\n",
        "  dataset = [torch.tensor(s).unsqueeze(1).float() for s in sequences]\n",
        "  n_seq, seq_len, n_features = torch.stack(dataset).shape\n",
        "  return dataset, seq_len, n_features"
      ],
      "execution_count": 43,
      "outputs": []
    },
    {
      "cell_type": "code",
      "metadata": {
        "id": "0APoOUmV6q87",
        "colab_type": "code",
        "colab": {
          "base_uri": "https://localhost:8080/",
          "height": 54
        },
        "outputId": "deec56d8-6e45-4b6d-c6e5-f4b011b67d17"
      },
      "source": [
        "train_data_normalized.reshape(-1,12).shape"
      ],
      "execution_count": 44,
      "outputs": [
        {
          "output_type": "execute_result",
          "data": {
            "text/plain": [
              "(11, 12)"
            ]
          },
          "metadata": {
            "tags": []
          },
          "execution_count": 44
        }
      ]
    },
    {
      "cell_type": "code",
      "metadata": {
        "id": "fGcClqNg6rQ3",
        "colab_type": "code",
        "colab": {}
      },
      "source": [
        "train_data, seq_len, n_features = create_dataset(train_data_normalized.reshape(-1,12))"
      ],
      "execution_count": 45,
      "outputs": []
    },
    {
      "cell_type": "code",
      "metadata": {
        "id": "X5R-5Hx76rc2",
        "colab_type": "code",
        "colab": {}
      },
      "source": [
        "train_loader = DataLoader(train_data, batch_size = 1, shuffle = False)"
      ],
      "execution_count": 46,
      "outputs": []
    },
    {
      "cell_type": "code",
      "metadata": {
        "id": "oBOQ51XX6rmh",
        "colab_type": "code",
        "colab": {
          "base_uri": "https://localhost:8080/",
          "height": 54
        },
        "outputId": "914e8d87-4763-4585-f580-1a145a7c4c16"
      },
      "source": [
        "next(iter(train_loader)).shape"
      ],
      "execution_count": 47,
      "outputs": [
        {
          "output_type": "execute_result",
          "data": {
            "text/plain": [
              "torch.Size([1, 12, 1])"
            ]
          },
          "metadata": {
            "tags": []
          },
          "execution_count": 47
        }
      ]
    },
    {
      "cell_type": "code",
      "metadata": {
        "id": "vZObUAxVaDfi",
        "colab_type": "code",
        "colab": {}
      },
      "source": [
        "epochs = 3000"
      ],
      "execution_count": 88,
      "outputs": []
    },
    {
      "cell_type": "code",
      "metadata": {
        "id": "JhJBQmnkzhYS",
        "colab_type": "code",
        "colab": {}
      },
      "source": [
        "class TimeDistributed(nn.Module):\n",
        "    def __init__(self, module, batch_first=False):\n",
        "        super(TimeDistributed, self).__init__()\n",
        "        self.module = module\n",
        "        self.batch_first = batch_first\n",
        "\n",
        "    def forward(self, x):\n",
        "        if len(x.size()) <= 2:\n",
        "            return self.module(x)\n",
        "        # Squash samples and timesteps into a single axis\n",
        "        x_reshape = x.contiguous().view(-1, x.size(-1))  # (samples * timesteps, input_size)\n",
        "        y = self.module(x_reshape)\n",
        "        # We have to reshape Y\n",
        "        if self.batch_first:\n",
        "            y = y.contiguous().view(x.size(0), -1, y.size(-1))  # (samples, timesteps, output_size)\n",
        "        else:\n",
        "            y = y.view(-1, x.size(1), y.size(-1))  # (timesteps, samples, output_size)\n",
        "        return y"
      ],
      "execution_count": 81,
      "outputs": []
    },
    {
      "cell_type": "code",
      "metadata": {
        "id": "t5n8AA4b-u1x",
        "colab_type": "code",
        "colab": {}
      },
      "source": [
        "class Encoder(nn.Module):\n",
        "\n",
        "  def __init__(self, seq_len, n_features, embedding_dim=64):\n",
        "    super(Encoder, self).__init__()\n",
        "\n",
        "    self.seq_len, self.n_features = seq_len, n_features\n",
        "    self.embedding_dim, self.hidden_dim = embedding_dim, 2 * embedding_dim\n",
        "\n",
        "    self.rnn1 = nn.LSTM(\n",
        "      input_size=n_features,\n",
        "      hidden_size=self.hidden_dim,\n",
        "      num_layers=1,\n",
        "      batch_first=True\n",
        "    )\n",
        "\n",
        "    self.rnn2 = nn.LSTM(\n",
        "      input_size=self.hidden_dim,\n",
        "      hidden_size=embedding_dim,\n",
        "      num_layers=1,\n",
        "      batch_first=True\n",
        "    )\n",
        "\n",
        "  def forward(self, x):\n",
        "\n",
        "    x, (_, _) = self.rnn1(x)\n",
        "    x, (hidden_n, _) = self.rnn2(x)\n",
        "\n",
        "    return hidden_n.reshape((self.n_features, self.embedding_dim))"
      ],
      "execution_count": 82,
      "outputs": []
    },
    {
      "cell_type": "code",
      "metadata": {
        "id": "F3hses8Y9V_n",
        "colab_type": "code",
        "colab": {}
      },
      "source": [
        "class Decoder(nn.Module):\n",
        "\n",
        "  def __init__(self, seq_len, input_dim=64, n_features=1):\n",
        "    super(Decoder, self).__init__()\n",
        "\n",
        "    self.seq_len, self.input_dim = seq_len, input_dim\n",
        "    self.hidden_dim, self.n_features = 2 * input_dim, n_features\n",
        "    self.rnn1 = nn.LSTM(\n",
        "      input_size=input_dim,\n",
        "      hidden_size=input_dim,\n",
        "      num_layers=1,\n",
        "      batch_first=True\n",
        "    )\n",
        "\n",
        "    self.rnn2 = nn.LSTM(\n",
        "      input_size=input_dim,\n",
        "      hidden_size=self.hidden_dim,\n",
        "      num_layers=1,\n",
        "      batch_first=True\n",
        "    )\n",
        "\n",
        "    self.output_layer = nn.Linear(self.hidden_dim, n_features)\n",
        "    self.timedist = TimeDistributed(self.output_layer, batch_first=True)\n",
        "\n",
        "  def forward(self, x):\n",
        "    x = x.repeat(self.seq_len, self.n_features)\n",
        "    x = x.reshape((self.n_features, self.seq_len, self.input_dim))\n",
        "\n",
        "    x, (hidden_n, cell_n) = self.rnn1(x)\n",
        "    x, (hidden_n, cell_n) = self.rnn2(x)\n",
        "    x = x.reshape((self.seq_len, self.hidden_dim))\n",
        "\n",
        "    return self.timedist(x)"
      ],
      "execution_count": 83,
      "outputs": []
    },
    {
      "cell_type": "code",
      "metadata": {
        "id": "j3B0DQzYAX42",
        "colab_type": "code",
        "colab": {}
      },
      "source": [
        "class RecurrentAutoencoder(nn.Module):\n",
        "\n",
        "  def __init__(self, seq_len, n_features, embedding_dim=64):\n",
        "    super(RecurrentAutoencoder, self).__init__()\n",
        "\n",
        "    self.encoder = Encoder(seq_len, n_features, embedding_dim).cuda()\n",
        "    self.decoder = Decoder(seq_len, embedding_dim, n_features).cuda()\n",
        "\n",
        "  def forward(self, x):\n",
        "    x = self.encoder(x)\n",
        "    x = self.decoder(x)\n",
        "\n",
        "    return x"
      ],
      "execution_count": 84,
      "outputs": []
    },
    {
      "cell_type": "code",
      "metadata": {
        "id": "EPnZ0TCOCgwK",
        "colab_type": "code",
        "colab": {}
      },
      "source": [
        "model1 = RecurrentAutoencoder(seq_len, n_features, 128)\n",
        "model1 = model1.cuda()"
      ],
      "execution_count": 85,
      "outputs": []
    },
    {
      "cell_type": "code",
      "metadata": {
        "id": "k1xaANOYChAl",
        "colab_type": "code",
        "colab": {}
      },
      "source": [
        "def train_model(model, train_dataset, n_epochs):\n",
        "    optimizer = torch.optim.Adam(model.parameters(), lr=1e-3)\n",
        "    criterion = nn.L1Loss(reduction='sum').cuda()\n",
        "    history = dict(train=[])\n",
        "\n",
        "    for epoch in range(n_epochs):\n",
        "        model = model.train()\n",
        "\n",
        "        train_losses = []\n",
        "        for seq_true in train_dataset:\n",
        "            optimizer.zero_grad()\n",
        "\n",
        "            seq_true = seq_true.float().cuda()\n",
        "            seq_pred = model(seq_true)\n",
        "\n",
        "            loss = criterion(seq_pred.reshape(1,-1,1), seq_true)\n",
        "\n",
        "            loss.backward()\n",
        "            optimizer.step()\n",
        "\n",
        "            train_losses.append(loss.item())\n",
        "\n",
        "        train_loss = np.mean(train_losses)\n",
        "\n",
        "        history['train'].append(train_loss)\n",
        "\n",
        "        best_model_wts = copy.deepcopy(model.state_dict())\n",
        "        if (epoch+1) % 100 == 0:\n",
        "            print(f'Epoch {epoch+1}: train loss {train_loss}')\n",
        "\n",
        "    model.load_state_dict(best_model_wts)\n",
        "\n",
        "    plt.rcParams[\"figure.figsize\"] = (10,6)\n",
        "    ax = plt.figure().gca()\n",
        "    ax.plot(history['train'])\n",
        "    plt.ylabel('Loss')\n",
        "    plt.xlabel('Epochs')\n",
        "    plt.title('Loss over training epochs')\n",
        "    plt.show()\n",
        "    return model.eval(), history"
      ],
      "execution_count": 86,
      "outputs": []
    },
    {
      "cell_type": "code",
      "metadata": {
        "id": "IcxeJYFNDBfg",
        "colab_type": "code",
        "colab": {
          "base_uri": "https://localhost:8080/",
          "height": 920
        },
        "outputId": "014cab12-3098-46d4-ebb2-97b37f52c6c4"
      },
      "source": [
        "model, history = train_model(model1, train_loader, epochs)"
      ],
      "execution_count": 89,
      "outputs": [
        {
          "output_type": "stream",
          "text": [
            "Epoch 100: train loss 1.7361435023221103\n",
            "Epoch 200: train loss 0.47719193317673425\n",
            "Epoch 300: train loss 0.46240435676141217\n",
            "Epoch 400: train loss 0.4540257995778864\n",
            "Epoch 500: train loss 0.22561257806691257\n",
            "Epoch 600: train loss 0.588106319308281\n",
            "Epoch 700: train loss 0.15783814002167096\n",
            "Epoch 800: train loss 0.355717581781474\n",
            "Epoch 900: train loss 0.2642146437005563\n",
            "Epoch 1000: train loss 0.31402469087730756\n",
            "Epoch 1100: train loss 0.2700297222896056\n",
            "Epoch 1200: train loss 0.18158814311027527\n",
            "Epoch 1300: train loss 0.20025187933986838\n",
            "Epoch 1400: train loss 0.1221103234724565\n",
            "Epoch 1500: train loss 0.14031466096639633\n",
            "Epoch 1600: train loss 0.18550845472650093\n",
            "Epoch 1700: train loss 0.14026809483766556\n",
            "Epoch 1800: train loss 0.18207809125835245\n",
            "Epoch 1900: train loss 0.17121069810607217\n",
            "Epoch 2000: train loss 0.11500487273389642\n",
            "Epoch 2100: train loss 0.10224294797940688\n",
            "Epoch 2200: train loss 0.11693227968432686\n",
            "Epoch 2300: train loss 0.2772404592145573\n",
            "Epoch 2400: train loss 0.1059096638451923\n",
            "Epoch 2500: train loss 0.09216350317001343\n",
            "Epoch 2600: train loss 0.31485308842225507\n",
            "Epoch 2700: train loss 0.05518095330758528\n",
            "Epoch 2800: train loss 0.07781564782966267\n",
            "Epoch 2900: train loss 0.0890858071771535\n",
            "Epoch 3000: train loss 0.08733553100715984\n"
          ],
          "name": "stdout"
        },
        {
          "output_type": "display_data",
          "data": {
            "image/png": "[encoded data removed]",
            "text/plain": [
              "<Figure size 720x432 with 1 Axes>"
            ]
          },
          "metadata": {
            "tags": [],
            "needs_background": "light"
          }
        }
      ]
    },
    {
      "cell_type": "code",
      "metadata": {
        "id": "jb6yoxrRFO4x",
        "colab_type": "code",
        "colab": {}
      },
      "source": [
        " def predict_test(data, model, scaler):\n",
        "    temp_model = model.eval()\n",
        "    row = torch.from_numpy(data).float()\n",
        "    yhat = temp_model(row.cuda())\n",
        "    yhat = yhat.cpu().detach().numpy()\n",
        "    yhat = scaler.inverse_transform(yhat).reshape(-1,1)\n",
        "    pred = pd.DataFrame(np.concatenate((yhat, data.reshape(-1,1)), axis = 1), columns = ['yhat','actual'])\n",
        "\n",
        "    return(pred)"
      ],
      "execution_count": 90,
      "outputs": []
    },
    {
      "cell_type": "code",
      "metadata": {
        "id": "_twpCI7YQ08o",
        "colab_type": "code",
        "colab": {
          "base_uri": "https://localhost:8080/",
          "height": 253
        },
        "outputId": "2ea1f262-956a-4611-cc56-7d15a889be55"
      },
      "source": [
        "pred = predict_test(test_data.reshape(1,-1,1), model, scaler)\n",
        "print(pred)"
      ],
      "execution_count": 91,
      "outputs": [
        {
          "output_type": "stream",
          "text": [
            "          yhat  actual\n",
            "0   248.200073   417.0\n",
            "1   252.160828   391.0\n",
            "2   301.384003   419.0\n",
            "3   304.811188   461.0\n",
            "4   329.896149   472.0\n",
            "5   391.870514   535.0\n",
            "6   418.933563   622.0\n",
            "7   402.688293   606.0\n",
            "8   338.462921   508.0\n",
            "9   269.455017   461.0\n",
            "10  254.577072   390.0\n",
            "11  319.460724   432.0\n"
          ],
          "name": "stdout"
        }
      ]
    },
    {
      "cell_type": "code",
      "metadata": {
        "id": "TTAXPtfVRSOY",
        "colab_type": "code",
        "colab": {
          "base_uri": "https://localhost:8080/",
          "height": 394
        },
        "outputId": "99c2391a-16e2-496b-e426-ccb038b6f787"
      },
      "source": [
        "plt.plot(pred.iloc[:,0], label = 'yhat')\n",
        "plt.plot(pred.iloc[:,1], label = 'Actual')\n",
        "plt.legend()\n",
        "plt.show()"
      ],
      "execution_count": 92,
      "outputs": [
        {
          "output_type": "display_data",
          "data": {
            "image/png": "[encoded data removed]",
            "text/plain": [
              "<Figure size 720x432 with 1 Axes>"
            ]
          },
          "metadata": {
            "tags": [],
            "needs_background": "light"
          }
        }
      ]
    },
    {
      "cell_type": "code",
      "metadata": {
        "id": "NlwRxKCuTC1E",
        "colab_type": "code",
        "colab": {}
      },
      "source": [
        ""
      ],
      "execution_count": null,
      "outputs": []
    },
    {
      "cell_type": "markdown",
      "metadata": {
        "colab_type": "text",
        "id": "SxP_3xhTTlC-"
      },
      "source": [
        "<br>\n",
        "\n",
        "# LSTM Autoencoder Output"
      ]
    },
    {
      "cell_type": "code",
      "metadata": {
        "colab_type": "code",
        "id": "MPIylNHWTlDL",
        "colab": {}
      },
      "source": [
        "class Encoder(nn.Module):\n",
        "\n",
        "  def __init__(self, seq_len, n_features, embedding_dim=64):\n",
        "    super(Encoder, self).__init__()\n",
        "\n",
        "    self.seq_len, self.n_features = seq_len, n_features\n",
        "    self.embedding_dim, self.hidden_dim = embedding_dim, 2 * embedding_dim\n",
        "\n",
        "    self.rnn1 = nn.LSTM(\n",
        "      input_size=n_features,\n",
        "      hidden_size=self.hidden_dim,\n",
        "      num_layers=1,\n",
        "      batch_first=True\n",
        "    )\n",
        "\n",
        "    self.rnn2 = nn.LSTM(\n",
        "      input_size=self.hidden_dim,\n",
        "      hidden_size=embedding_dim,\n",
        "      num_layers=1,\n",
        "      batch_first=True\n",
        "    )\n",
        "\n",
        "  def forward(self, x):\n",
        "\n",
        "    x, (_, _) = self.rnn1(x)\n",
        "    x, (hidden_n, _) = self.rnn2(x)\n",
        "\n",
        "    return x"
      ],
      "execution_count": 167,
      "outputs": []
    },
    {
      "cell_type": "code",
      "metadata": {
        "colab_type": "code",
        "id": "CKgGFZHeTlDN",
        "colab": {}
      },
      "source": [
        "class Decoder(nn.Module):\n",
        "\n",
        "  def __init__(self, seq_len, input_dim=64, n_features=1):\n",
        "    super(Decoder, self).__init__()\n",
        "\n",
        "    self.seq_len, self.input_dim = seq_len, input_dim\n",
        "    self.hidden_dim, self.n_features = 2 * input_dim, n_features\n",
        "    self.rnn1 = nn.LSTM(\n",
        "      input_size=input_dim,\n",
        "      hidden_size=input_dim,\n",
        "      num_layers=1,\n",
        "      batch_first=True\n",
        "    )\n",
        "\n",
        "    self.rnn2 = nn.LSTM(\n",
        "      input_size=input_dim,\n",
        "      hidden_size=self.hidden_dim,\n",
        "      num_layers=1,\n",
        "      batch_first=True\n",
        "    )\n",
        "\n",
        "    self.output_layer = nn.Linear(self.hidden_dim, n_features)\n",
        "\n",
        "  def forward(self, x):\n",
        "    x = x.reshape((self.n_features, self.seq_len, self.input_dim))\n",
        "\n",
        "    x, (hidden_n, cell_n) = self.rnn1(x)\n",
        "    x, (hidden_n, cell_n) = self.rnn2(x)\n",
        "    x = x.reshape((self.seq_len, self.hidden_dim))\n",
        "\n",
        "    return self.output_layer(x)"
      ],
      "execution_count": 168,
      "outputs": []
    },
    {
      "cell_type": "code",
      "metadata": {
        "colab_type": "code",
        "id": "dS_FBgZVTlDV",
        "colab": {}
      },
      "source": [
        "class RecurrentAutoencoder(nn.Module):\n",
        "\n",
        "  def __init__(self, seq_len, n_features, embedding_dim=64):\n",
        "    super(RecurrentAutoencoder, self).__init__()\n",
        "\n",
        "    self.encoder = Encoder(seq_len, n_features, embedding_dim).cuda()\n",
        "    self.decoder = Decoder(seq_len, embedding_dim, n_features).cuda()\n",
        "\n",
        "  def forward(self, x):\n",
        "    x = self.encoder(x)\n",
        "    x = self.decoder(x)\n",
        "\n",
        "    return x"
      ],
      "execution_count": 169,
      "outputs": []
    },
    {
      "cell_type": "code",
      "metadata": {
        "colab_type": "code",
        "id": "_ao2VeLNTlDX",
        "colab": {}
      },
      "source": [
        "model1 = RecurrentAutoencoder(seq_len, n_features, 128)\n",
        "model1 = model1.cuda()"
      ],
      "execution_count": 173,
      "outputs": []
    },
    {
      "cell_type": "code",
      "metadata": {
        "colab_type": "code",
        "id": "09awEM7pTlDZ",
        "colab": {}
      },
      "source": [
        "def train_model(model, train_dataset, n_epochs):\n",
        "    optimizer = torch.optim.Adam(model.parameters(), lr=1e-3)\n",
        "    criterion = nn.L1Loss(reduction='sum').cuda()\n",
        "    history = dict(train=[])\n",
        "\n",
        "    for epoch in range(n_epochs):\n",
        "        model = model.train()\n",
        "\n",
        "        train_losses = []\n",
        "        for seq_true in train_dataset:\n",
        "            optimizer.zero_grad()\n",
        "\n",
        "            seq_true = seq_true.float().cuda()\n",
        "            seq_pred = model(seq_true)\n",
        "\n",
        "            loss = criterion(seq_pred.reshape(1,-1,1), seq_true)\n",
        "\n",
        "            loss.backward()\n",
        "            optimizer.step()\n",
        "\n",
        "            train_losses.append(loss.item())\n",
        "\n",
        "        train_loss = np.mean(train_losses)\n",
        "\n",
        "        history['train'].append(train_loss)\n",
        "\n",
        "        best_model_wts = copy.deepcopy(model.state_dict())\n",
        "        if (epoch+1) % 100 == 0:\n",
        "            print(f'Epoch {epoch+1}: train loss {train_loss}')\n",
        "\n",
        "    model.load_state_dict(best_model_wts)\n",
        "\n",
        "    plt.rcParams[\"figure.figsize\"] = (10,6)\n",
        "    ax = plt.figure().gca()\n",
        "    ax.plot(history['train'])\n",
        "    plt.ylabel('Loss')\n",
        "    plt.xlabel('Epochs')\n",
        "    plt.title('Loss over training epochs')\n",
        "    plt.show()\n",
        "    return model.eval(), history"
      ],
      "execution_count": 174,
      "outputs": []
    },
    {
      "cell_type": "code",
      "metadata": {
        "colab_type": "code",
        "id": "54mVyb8TTlDb",
        "colab": {
          "base_uri": "https://localhost:8080/",
          "height": 920
        },
        "outputId": "a6a805ea-3a09-4bdc-efba-e07d1101e1e0"
      },
      "source": [
        "model, history = train_model(model1, train_loader, 3000)"
      ],
      "execution_count": 175,
      "outputs": [
        {
          "output_type": "stream",
          "text": [
            "Epoch 100: train loss 1.1894049590284175\n",
            "Epoch 200: train loss 0.49564346129244025\n",
            "Epoch 300: train loss 0.32824489067901264\n",
            "Epoch 400: train loss 0.1444847218014977\n",
            "Epoch 500: train loss 0.19846994091163983\n",
            "Epoch 600: train loss 0.42036549069664697\n",
            "Epoch 700: train loss 0.1743725524707274\n",
            "Epoch 800: train loss 0.17804547873410312\n",
            "Epoch 900: train loss 0.14581651443784888\n",
            "Epoch 1000: train loss 0.22408940880136055\n",
            "Epoch 1100: train loss 0.08691675690087405\n",
            "Epoch 1200: train loss 0.15175152637741782\n",
            "Epoch 1300: train loss 0.13453213091601024\n",
            "Epoch 1400: train loss 0.13232725858688354\n",
            "Epoch 1500: train loss 0.28145838190208783\n",
            "Epoch 1600: train loss 0.07597119225697084\n",
            "Epoch 1700: train loss 0.10059983621944081\n",
            "Epoch 1800: train loss 0.18991729617118835\n",
            "Epoch 1900: train loss 0.11682614277709615\n",
            "Epoch 2000: train loss 0.17852431942116131\n",
            "Epoch 2100: train loss 0.21822915497151288\n",
            "Epoch 2200: train loss 0.19206245108084244\n",
            "Epoch 2300: train loss 0.12916023216464304\n",
            "Epoch 2400: train loss 0.1456490714441646\n",
            "Epoch 2500: train loss 0.18784376707944003\n",
            "Epoch 2600: train loss 0.067378162660382\n",
            "Epoch 2700: train loss 0.16316456855698067\n",
            "Epoch 2800: train loss 0.12327922203324058\n",
            "Epoch 2900: train loss 0.11801244115287607\n",
            "Epoch 3000: train loss 0.09769834002310579\n"
          ],
          "name": "stdout"
        },
        {
          "output_type": "display_data",
          "data": {
            "image/png": "[encoded data removed]",
            "text/plain": [
              "<Figure size 720x432 with 1 Axes>"
            ]
          },
          "metadata": {
            "tags": [],
            "needs_background": "light"
          }
        }
      ]
    },
    {
      "cell_type": "code",
      "metadata": {
        "colab_type": "code",
        "id": "bGC1oFxmTlDf",
        "colab": {}
      },
      "source": [
        "def predict_test(data, model, scaler):\n",
        "    temp_model = model.eval()\n",
        "    row = torch.from_numpy(data).float()\n",
        "    yhat = temp_model(row.cuda())\n",
        "    yhat = yhat.cpu().detach().numpy()\n",
        "    yhat = scaler.inverse_transform(yhat).reshape(-1,1)\n",
        "    pred = pd.DataFrame(np.concatenate((yhat, data.reshape(-1,1)), axis = 1), columns = ['yhat','actual'])\n",
        "\n",
        "    return(pred)"
      ],
      "execution_count": 176,
      "outputs": []
    },
    {
      "cell_type": "code",
      "metadata": {
        "colab_type": "code",
        "id": "MxHZfPkETlDh",
        "colab": {
          "base_uri": "https://localhost:8080/",
          "height": 253
        },
        "outputId": "6b79f3e0-31b9-472c-fe71-64c78fb7e644"
      },
      "source": [
        "pred = predict_test(test_data.reshape(1,-1,1), model, scaler)\n",
        "print(pred)"
      ],
      "execution_count": 177,
      "outputs": [
        {
          "output_type": "stream",
          "text": [
            "          yhat  actual\n",
            "0   583.936340   417.0\n",
            "1   596.259827   391.0\n",
            "2   628.309265   419.0\n",
            "3   636.129639   461.0\n",
            "4   639.977600   472.0\n",
            "5   644.328735   535.0\n",
            "6   648.339417   622.0\n",
            "7   652.030823   606.0\n",
            "8   655.573242   508.0\n",
            "9   658.717590   461.0\n",
            "10  661.467590   390.0\n",
            "11  663.752502   432.0\n"
          ],
          "name": "stdout"
        }
      ]
    },
    {
      "cell_type": "code",
      "metadata": {
        "colab_type": "code",
        "id": "jPxM152MTlDi",
        "colab": {
          "base_uri": "https://localhost:8080/",
          "height": 394
        },
        "outputId": "69915814-12dd-4dbb-a6bd-fccae672efd0"
      },
      "source": [
        "plt.plot(pred.iloc[:,0], label = 'yhat')\n",
        "plt.plot(pred.iloc[:,1], label = 'Actual')\n",
        "plt.legend()\n",
        "plt.show()"
      ],
      "execution_count": 178,
      "outputs": [
        {
          "output_type": "display_data",
          "data": {
            "image/png": "[encoded data removed]",
            "text/plain": [
              "<Figure size 720x432 with 1 Axes>"
            ]
          },
          "metadata": {
            "tags": [],
            "needs_background": "light"
          }
        }
      ]
    },
    {
      "cell_type": "code",
      "metadata": {
        "id": "g0lnJCyEUWrr",
        "colab_type": "code",
        "colab": {}
      },
      "source": [
        ""
      ],
      "execution_count": null,
      "outputs": []
    },
    {
      "cell_type": "markdown",
      "metadata": {
        "colab_type": "text",
        "id": "YlBJB273V8P4"
      },
      "source": [
        "<br>\n",
        "\n",
        "# GRU Autoencoder Output"
      ]
    },
    {
      "cell_type": "code",
      "metadata": {
        "colab_type": "code",
        "id": "a4o-XhJsV8QB",
        "colab": {}
      },
      "source": [
        "class Encoder(nn.Module):\n",
        "\n",
        "  def __init__(self, seq_len, n_features, embedding_dim=64):\n",
        "    super(Encoder, self).__init__()\n",
        "\n",
        "    self.seq_len, self.n_features = seq_len, n_features\n",
        "    self.embedding_dim, self.hidden_dim = embedding_dim, 2 * embedding_dim\n",
        "\n",
        "    self.rnn1 = nn.GRU(\n",
        "      input_size=n_features,\n",
        "      hidden_size=self.hidden_dim,\n",
        "      num_layers=1,\n",
        "      batch_first=True\n",
        "    )\n",
        "\n",
        "    self.rnn2 = nn.GRU(\n",
        "      input_size=self.hidden_dim,\n",
        "      hidden_size=embedding_dim,\n",
        "      num_layers=1,\n",
        "      batch_first=True\n",
        "    )\n",
        "\n",
        "  def forward(self, x):\n",
        "\n",
        "    x, _ = self.rnn1(x)\n",
        "    x, hidden_n = self.rnn2(x)\n",
        "\n",
        "    return x"
      ],
      "execution_count": 210,
      "outputs": []
    },
    {
      "cell_type": "code",
      "metadata": {
        "colab_type": "code",
        "id": "_73WZNR5V8QD",
        "colab": {}
      },
      "source": [
        "class Decoder(nn.Module):\n",
        "\n",
        "  def __init__(self, seq_len, input_dim=64, n_features=1):\n",
        "    super(Decoder, self).__init__()\n",
        "\n",
        "    self.seq_len, self.input_dim = seq_len, input_dim\n",
        "    self.hidden_dim, self.n_features = 2 * input_dim, n_features\n",
        "    self.rnn1 = nn.GRU(\n",
        "      input_size=input_dim,\n",
        "      hidden_size=input_dim,\n",
        "      num_layers=1,\n",
        "      batch_first=True\n",
        "    )\n",
        "\n",
        "    self.rnn2 = nn.GRU(\n",
        "      input_size=input_dim,\n",
        "      hidden_size=self.hidden_dim,\n",
        "      num_layers=1,\n",
        "      batch_first=True\n",
        "    )\n",
        "\n",
        "    self.output_layer = nn.Linear(self.hidden_dim, n_features)\n",
        "\n",
        "  def forward(self, x):\n",
        "    x = x.reshape((self.n_features, self.seq_len, self.input_dim))\n",
        "\n",
        "    x, hidden_n = self.rnn1(x)\n",
        "    x, hidden_n = self.rnn2(x)\n",
        "    x = x.reshape((self.seq_len, self.hidden_dim))\n",
        "\n",
        "    return self.output_layer(x)"
      ],
      "execution_count": 211,
      "outputs": []
    },
    {
      "cell_type": "code",
      "metadata": {
        "colab_type": "code",
        "id": "bGxei3uiV8QI",
        "colab": {}
      },
      "source": [
        "class RecurrentAutoencoder(nn.Module):\n",
        "\n",
        "  def __init__(self, seq_len, n_features, embedding_dim=64):\n",
        "    super(RecurrentAutoencoder, self).__init__()\n",
        "\n",
        "    self.encoder = Encoder(seq_len, n_features, embedding_dim).cuda()\n",
        "    self.decoder = Decoder(seq_len, embedding_dim, n_features).cuda()\n",
        "\n",
        "  def forward(self, x):\n",
        "    x = self.encoder(x)\n",
        "    x = self.decoder(x)\n",
        "\n",
        "    return x"
      ],
      "execution_count": 212,
      "outputs": []
    },
    {
      "cell_type": "code",
      "metadata": {
        "colab_type": "code",
        "id": "N7RWfFeCV8QK",
        "colab": {}
      },
      "source": [
        "model1 = RecurrentAutoencoder(seq_len, n_features, 128)\n",
        "model1 = model1.cuda()"
      ],
      "execution_count": 213,
      "outputs": []
    },
    {
      "cell_type": "code",
      "metadata": {
        "colab_type": "code",
        "id": "LhwpG80PV8QL",
        "colab": {}
      },
      "source": [
        "def train_model(model, train_dataset, n_epochs):\n",
        "    optimizer = torch.optim.Adam(model.parameters(), lr=1e-3)\n",
        "    criterion = nn.L1Loss(reduction='sum').cuda()\n",
        "    history = dict(train=[])\n",
        "\n",
        "    for epoch in range(n_epochs):\n",
        "        model = model.train()\n",
        "\n",
        "        train_losses = []\n",
        "        for seq_true in train_dataset:\n",
        "            optimizer.zero_grad()\n",
        "\n",
        "            seq_true = seq_true.float().cuda()\n",
        "            seq_pred = model(seq_true)\n",
        "\n",
        "            loss = criterion(seq_pred.reshape(1,-1,1), seq_true)\n",
        "\n",
        "            loss.backward()\n",
        "            optimizer.step()\n",
        "\n",
        "            train_losses.append(loss.item())\n",
        "\n",
        "        train_loss = np.mean(train_losses)\n",
        "\n",
        "        history['train'].append(train_loss)\n",
        "\n",
        "        best_model_wts = copy.deepcopy(model.state_dict())\n",
        "        if (epoch+1) % 100 == 0:\n",
        "            print(f'Epoch {epoch+1}: train loss {train_loss}')\n",
        "\n",
        "    model.load_state_dict(best_model_wts)\n",
        "\n",
        "    plt.rcParams[\"figure.figsize\"] = (10,6)\n",
        "    ax = plt.figure().gca()\n",
        "    ax.plot(history['train'])\n",
        "    plt.ylabel('Loss')\n",
        "    plt.xlabel('Epochs')\n",
        "    plt.title('Loss over training epochs')\n",
        "    plt.show()\n",
        "    return model.eval(), history"
      ],
      "execution_count": 214,
      "outputs": []
    },
    {
      "cell_type": "code",
      "metadata": {
        "colab_type": "code",
        "id": "jYeAequaV8QN",
        "colab": {
          "base_uri": "https://localhost:8080/",
          "height": 920
        },
        "outputId": "3619f1f5-498b-4e80-8bd8-3d636eacb648"
      },
      "source": [
        "model, history = train_model(model1, train_loader, 3000)"
      ],
      "execution_count": 215,
      "outputs": [
        {
          "output_type": "stream",
          "text": [
            "Epoch 100: train loss 0.4075147401202809\n",
            "Epoch 200: train loss 0.22790393097834152\n",
            "Epoch 300: train loss 0.7597084451805461\n",
            "Epoch 400: train loss 0.2837709147821773\n",
            "Epoch 500: train loss 0.6552453095262701\n",
            "Epoch 600: train loss 0.1803408685055646\n",
            "Epoch 700: train loss 0.26469704508781433\n",
            "Epoch 800: train loss 0.598628892139955\n",
            "Epoch 900: train loss 0.5220143469897184\n",
            "Epoch 1000: train loss 0.35145224359902466\n",
            "Epoch 1100: train loss 0.19917256452820517\n",
            "Epoch 1200: train loss 0.351372092962265\n",
            "Epoch 1300: train loss 0.27162238549102435\n",
            "Epoch 1400: train loss 0.11398573219776154\n",
            "Epoch 1500: train loss 0.13901634243401614\n",
            "Epoch 1600: train loss 0.18559967489405113\n",
            "Epoch 1700: train loss 0.2397690456021916\n",
            "Epoch 1800: train loss 0.17466179484670813\n",
            "Epoch 1900: train loss 0.11627889356829903\n",
            "Epoch 2000: train loss 0.11594020507552406\n",
            "Epoch 2100: train loss 0.11196144331585277\n",
            "Epoch 2200: train loss 0.15306302160024643\n",
            "Epoch 2300: train loss 0.11003267019987106\n",
            "Epoch 2400: train loss 0.12091852250424298\n",
            "Epoch 2500: train loss 0.10179803249510852\n",
            "Epoch 2600: train loss 0.12421189384026961\n",
            "Epoch 2700: train loss 0.06998068432916295\n",
            "Epoch 2800: train loss 0.1101109730926427\n",
            "Epoch 2900: train loss 0.14072210477157074\n",
            "Epoch 3000: train loss 0.10929821905764667\n"
          ],
          "name": "stdout"
        },
        {
          "output_type": "display_data",
          "data": {
            "image/png": "[encoded data removed]",
            "text/plain": [
              "<Figure size 720x432 with 1 Axes>"
            ]
          },
          "metadata": {
            "tags": [],
            "needs_background": "light"
          }
        }
      ]
    },
    {
      "cell_type": "code",
      "metadata": {
        "colab_type": "code",
        "id": "cl7Pll9PV8QO",
        "colab": {}
      },
      "source": [
        "def predict_test(data, model, scaler):\n",
        "    temp_model = model.eval()\n",
        "    row = torch.from_numpy(data).float()\n",
        "    yhat = temp_model(row.cuda())\n",
        "    yhat = yhat.cpu().detach().numpy()\n",
        "    yhat = scaler.inverse_transform(yhat).reshape(-1,1)\n",
        "    pred = pd.DataFrame(np.concatenate((yhat, data.reshape(-1,1)), axis = 1), columns = ['yhat','actual'])\n",
        "\n",
        "    return(pred)"
      ],
      "execution_count": 216,
      "outputs": []
    },
    {
      "cell_type": "code",
      "metadata": {
        "colab_type": "code",
        "id": "TaJkgMyHV8QQ",
        "colab": {
          "base_uri": "https://localhost:8080/",
          "height": 253
        },
        "outputId": "26e78562-db63-4b96-a8de-2f04c5bf57a8"
      },
      "source": [
        "pred = predict_test(test_data.reshape(1,-1,1), model, scaler)\n",
        "print(pred)"
      ],
      "execution_count": 217,
      "outputs": [
        {
          "output_type": "stream",
          "text": [
            "          yhat  actual\n",
            "0   623.056641   417.0\n",
            "1   524.932007   391.0\n",
            "2   459.529755   419.0\n",
            "3   438.997650   461.0\n",
            "4   613.207642   472.0\n",
            "5   689.779053   535.0\n",
            "6   592.548889   622.0\n",
            "7   572.902832   606.0\n",
            "8   540.143677   508.0\n",
            "9   672.431824   461.0\n",
            "10  549.712158   390.0\n",
            "11  547.344116   432.0\n"
          ],
          "name": "stdout"
        }
      ]
    },
    {
      "cell_type": "code",
      "metadata": {
        "colab_type": "code",
        "id": "XQh4VAHvV8QR",
        "colab": {
          "base_uri": "https://localhost:8080/",
          "height": 394
        },
        "outputId": "0652965f-87a0-408e-dfc0-1935e5b53156"
      },
      "source": [
        "plt.plot(pred.iloc[:,0], label = 'yhat')\n",
        "plt.plot(pred.iloc[:,1], label = 'Actual')\n",
        "plt.legend()\n",
        "plt.show()"
      ],
      "execution_count": 218,
      "outputs": [
        {
          "output_type": "display_data",
          "data": {
            "image/png": "[encoded data removed]",
            "text/plain": [
              "<Figure size 720x432 with 1 Axes>"
            ]
          },
          "metadata": {
            "tags": [],
            "needs_background": "light"
          }
        }
      ]
    },
    {
      "cell_type": "code",
      "metadata": {
        "id": "alLUhceIX1W-",
        "colab_type": "code",
        "colab": {}
      },
      "source": [
        ""
      ],
      "execution_count": null,
      "outputs": []
    },
    {
      "cell_type": "markdown",
      "metadata": {
        "colab_type": "text",
        "id": "IMD9dcsAX_ii"
      },
      "source": [
        "<br>\n",
        "\n",
        "# GRU Autoencoder Hidden"
      ]
    },
    {
      "cell_type": "code",
      "metadata": {
        "colab_type": "code",
        "id": "pBRNE8Xx_C7W",
        "colab": {}
      },
      "source": [
        "class TimeDistributed(nn.Module):\n",
        "    def __init__(self, module, batch_first=False):\n",
        "        super(TimeDistributed, self).__init__()\n",
        "        self.module = module\n",
        "        self.batch_first = batch_first\n",
        "\n",
        "    def forward(self, x):\n",
        "        if len(x.size()) <= 2:\n",
        "            return self.module(x)\n",
        "        # Squash samples and timesteps into a single axis\n",
        "        x_reshape = x.contiguous().view(-1, x.size(-1))  # (samples * timesteps, input_size)\n",
        "        y = self.module(x_reshape)\n",
        "        # We have to reshape Y\n",
        "        if self.batch_first:\n",
        "            y = y.contiguous().view(x.size(0), -1, y.size(-1))  # (samples, timesteps, output_size)\n",
        "        else:\n",
        "            y = y.view(-1, x.size(1), y.size(-1))  # (timesteps, samples, output_size)\n",
        "        return y"
      ],
      "execution_count": 69,
      "outputs": []
    },
    {
      "cell_type": "code",
      "metadata": {
        "colab_type": "code",
        "id": "RiEpljlFX_is",
        "colab": {}
      },
      "source": [
        "class Encoder(nn.Module):\n",
        "\n",
        "  def __init__(self, seq_len, n_features, embedding_dim=64):\n",
        "    super(Encoder, self).__init__()\n",
        "\n",
        "    self.seq_len, self.n_features = seq_len, n_features\n",
        "    self.embedding_dim, self.hidden_dim = embedding_dim, 2 * embedding_dim\n",
        "\n",
        "    self.rnn1 = nn.GRU(\n",
        "      input_size=n_features,\n",
        "      hidden_size=self.hidden_dim,\n",
        "      num_layers=1,\n",
        "      batch_first=True\n",
        "    )\n",
        "\n",
        "    self.rnn2 = nn.GRU(\n",
        "      input_size=self.hidden_dim,\n",
        "      hidden_size=embedding_dim,\n",
        "      num_layers=1,\n",
        "      batch_first=True\n",
        "    )\n",
        "\n",
        "  def forward(self, x):\n",
        "\n",
        "    x, _ = self.rnn1(x)\n",
        "    x, hidden_n = self.rnn2(x)\n",
        "    return hidden_n.reshape((self.n_features, self.embedding_dim))"
      ],
      "execution_count": 70,
      "outputs": []
    },
    {
      "cell_type": "code",
      "metadata": {
        "colab_type": "code",
        "id": "baP2ZnVuX_it",
        "colab": {}
      },
      "source": [
        "class Decoder(nn.Module):\n",
        "\n",
        "  def __init__(self, seq_len, input_dim=64, n_features=1):\n",
        "    super(Decoder, self).__init__()\n",
        "\n",
        "    self.seq_len, self.input_dim = seq_len, input_dim\n",
        "    self.hidden_dim, self.n_features = 2 * input_dim, n_features\n",
        "    self.rnn1 = nn.GRU(\n",
        "      input_size=input_dim,\n",
        "      hidden_size=input_dim,\n",
        "      num_layers=1,\n",
        "      batch_first=True\n",
        "    )\n",
        "\n",
        "    self.rnn2 = nn.GRU(\n",
        "      input_size=input_dim,\n",
        "      hidden_size=self.hidden_dim,\n",
        "      num_layers=1,\n",
        "      batch_first=True\n",
        "    )\n",
        "\n",
        "    self.output_layer = nn.Linear(self.hidden_dim, n_features)\n",
        "    self.timedist = TimeDistributed(self.output_layer)\n",
        "\n",
        "  def forward(self, x):\n",
        "    x = x.repeat(self.seq_len, self.n_features)\n",
        "    x = x.reshape((self.n_features, self.seq_len, self.input_dim))\n",
        "\n",
        "    x, _ = self.rnn1(x)\n",
        "    x, _ = self.rnn2(x)\n",
        "    x = x.reshape((self.seq_len, self.hidden_dim))\n",
        "\n",
        "    return self.timedist(x)"
      ],
      "execution_count": 71,
      "outputs": []
    },
    {
      "cell_type": "code",
      "metadata": {
        "colab_type": "code",
        "id": "NGSqgIaCX_iy",
        "colab": {}
      },
      "source": [
        "class RecurrentAutoencoder(nn.Module):\n",
        "\n",
        "  def __init__(self, seq_len, n_features, embedding_dim=64):\n",
        "    super(RecurrentAutoencoder, self).__init__()\n",
        "\n",
        "    self.encoder = Encoder(seq_len, n_features, embedding_dim).cuda()\n",
        "    self.decoder = Decoder(seq_len, embedding_dim, n_features).cuda()\n",
        "\n",
        "  def forward(self, x):\n",
        "    x = self.encoder(x)\n",
        "    x = self.decoder(x)\n",
        "\n",
        "    return x"
      ],
      "execution_count": 72,
      "outputs": []
    },
    {
      "cell_type": "code",
      "metadata": {
        "colab_type": "code",
        "id": "Qwi8VcPeX_i0",
        "colab": {
          "base_uri": "https://localhost:8080/",
          "height": 269
        },
        "outputId": "3a48252c-eefc-4308-ee2d-638c7cbb50b3"
      },
      "source": [
        "model1 = RecurrentAutoencoder(seq_len, n_features, 128)\n",
        "model1 = model1.cuda()\n",
        "model1"
      ],
      "execution_count": 73,
      "outputs": [
        {
          "output_type": "execute_result",
          "data": {
            "text/plain": [
              "RecurrentAutoencoder(\n",
              "  (encoder): Encoder(\n",
              "    (rnn1): GRU(1, 256, batch_first=True)\n",
              "    (rnn2): GRU(256, 128, batch_first=True)\n",
              "  )\n",
              "  (decoder): Decoder(\n",
              "    (rnn1): GRU(128, 128, batch_first=True)\n",
              "    (rnn2): GRU(128, 256, batch_first=True)\n",
              "    (output_layer): Linear(in_features=256, out_features=1, bias=True)\n",
              "    (timedist): TimeDistributed(\n",
              "      (module): Linear(in_features=256, out_features=1, bias=True)\n",
              "    )\n",
              "  )\n",
              ")"
            ]
          },
          "metadata": {
            "tags": []
          },
          "execution_count": 73
        }
      ]
    },
    {
      "cell_type": "code",
      "metadata": {
        "colab_type": "code",
        "id": "DDoJJEvRX_i2",
        "colab": {}
      },
      "source": [
        "def train_model(model, train_dataset, n_epochs):\n",
        "    optimizer = torch.optim.Adam(model.parameters(), lr=1e-3)\n",
        "    criterion = nn.L1Loss(reduction='sum').cuda()\n",
        "    history = dict(train=[])\n",
        "\n",
        "    for epoch in range(n_epochs):\n",
        "        model = model.train()\n",
        "\n",
        "        train_losses = []\n",
        "        for seq_true in train_dataset:\n",
        "            optimizer.zero_grad()\n",
        "\n",
        "            seq_true = seq_true.float().cuda()\n",
        "            seq_pred = model(seq_true)\n",
        "\n",
        "            loss = criterion(seq_pred.reshape(1,-1,1), seq_true)\n",
        "\n",
        "            loss.backward()\n",
        "            optimizer.step()\n",
        "\n",
        "            train_losses.append(loss.item())\n",
        "\n",
        "        train_loss = np.mean(train_losses)\n",
        "\n",
        "        history['train'].append(train_loss)\n",
        "\n",
        "        best_model_wts = copy.deepcopy(model.state_dict())\n",
        "        if (epoch+1) % 100 == 0:\n",
        "            print(f'Epoch {epoch+1}: train loss {train_loss}')\n",
        "\n",
        "    model.load_state_dict(best_model_wts)\n",
        "\n",
        "    plt.rcParams[\"figure.figsize\"] = (10,6)\n",
        "    ax = plt.figure().gca()\n",
        "    ax.plot(history['train'])\n",
        "    plt.ylabel('Loss')\n",
        "    plt.xlabel('Epochs')\n",
        "    plt.title('Loss over training epochs')\n",
        "    plt.show()\n",
        "    return model.eval(), history"
      ],
      "execution_count": 74,
      "outputs": []
    },
    {
      "cell_type": "code",
      "metadata": {
        "colab_type": "code",
        "id": "Ec3trbQyX_i3",
        "colab": {
          "base_uri": "https://localhost:8080/",
          "height": 920
        },
        "outputId": "123b4a24-d47e-4f01-ab09-957795a75778"
      },
      "source": [
        "model, history = train_model(model1, train_loader, 3000)"
      ],
      "execution_count": 76,
      "outputs": [
        {
          "output_type": "stream",
          "text": [
            "Epoch 100: train loss 0.8317979330366309\n",
            "Epoch 200: train loss 1.2981747822328047\n",
            "Epoch 300: train loss 0.44623249769210815\n",
            "Epoch 400: train loss 0.42431983893567865\n",
            "Epoch 500: train loss 1.1903709119016475\n",
            "Epoch 600: train loss 0.38332934135740454\n",
            "Epoch 700: train loss 0.23970870809121567\n",
            "Epoch 800: train loss 0.33378628167239105\n",
            "Epoch 900: train loss 0.49957477098161523\n",
            "Epoch 1000: train loss 0.2644172703677958\n",
            "Epoch 1100: train loss 0.1924278356812217\n",
            "Epoch 1200: train loss 0.24417794834483753\n",
            "Epoch 1300: train loss 0.25660043683919037\n",
            "Epoch 1400: train loss 0.4068015529350801\n",
            "Epoch 1500: train loss 0.19089374962178143\n",
            "Epoch 1600: train loss 0.18358151276003232\n",
            "Epoch 1700: train loss 0.09404153342951428\n",
            "Epoch 1800: train loss 0.11465101519768889\n",
            "Epoch 1900: train loss 0.13245645300908523\n",
            "Epoch 2000: train loss 0.12144653736190363\n",
            "Epoch 2100: train loss 0.10097841715270822\n",
            "Epoch 2200: train loss 0.0718622851100835\n",
            "Epoch 2300: train loss 0.1330482085997408\n",
            "Epoch 2400: train loss 0.1368966908617453\n",
            "Epoch 2500: train loss 0.08569115366448056\n",
            "Epoch 2600: train loss 0.14849429577589035\n",
            "Epoch 2700: train loss 0.09402039579369804\n",
            "Epoch 2800: train loss 0.09663579646836627\n",
            "Epoch 2900: train loss 0.08187904615293849\n",
            "Epoch 3000: train loss 0.08075405589558861\n"
          ],
          "name": "stdout"
        },
        {
          "output_type": "display_data",
          "data": {
            "image/png": "[encoded data removed]",
            "text/plain": [
              "<Figure size 720x432 with 1 Axes>"
            ]
          },
          "metadata": {
            "tags": [],
            "needs_background": "light"
          }
        }
      ]
    },
    {
      "cell_type": "code",
      "metadata": {
        "colab_type": "code",
        "id": "DZbVnS_sX_i5",
        "colab": {}
      },
      "source": [
        "def predict_test(data, model, scaler):\n",
        "    temp_model = model.eval()\n",
        "    row = torch.from_numpy(data).float()\n",
        "    yhat = temp_model(row.cuda())\n",
        "    yhat = yhat.cpu().detach().numpy()\n",
        "    yhat = scaler.inverse_transform(yhat).reshape(-1,1)\n",
        "    pred = pd.DataFrame(np.concatenate((yhat, data.reshape(-1,1)), axis = 1), columns = ['yhat','actual'])\n",
        "\n",
        "    return(pred)"
      ],
      "execution_count": 77,
      "outputs": []
    },
    {
      "cell_type": "code",
      "metadata": {
        "colab_type": "code",
        "id": "1N_TIKfBX_i6",
        "colab": {
          "base_uri": "https://localhost:8080/",
          "height": 253
        },
        "outputId": "44499f25-2594-4db3-9e92-8be8445cd4bb"
      },
      "source": [
        "pred = predict_test(test_data.reshape(1,-1,1), model, scaler)\n",
        "print(pred)"
      ],
      "execution_count": 78,
      "outputs": [
        {
          "output_type": "stream",
          "text": [
            "          yhat  actual\n",
            "0   402.986664   417.0\n",
            "1   341.187561   391.0\n",
            "2   366.594391   419.0\n",
            "3   392.138672   461.0\n",
            "4   385.964600   472.0\n",
            "5   454.626923   535.0\n",
            "6   512.952393   622.0\n",
            "7   507.294891   606.0\n",
            "8   566.808228   508.0\n",
            "9   584.283203   461.0\n",
            "10  486.154877   390.0\n",
            "11  434.875458   432.0\n"
          ],
          "name": "stdout"
        }
      ]
    },
    {
      "cell_type": "code",
      "metadata": {
        "colab_type": "code",
        "id": "_GtOX7ldX_i8",
        "colab": {
          "base_uri": "https://localhost:8080/",
          "height": 394
        },
        "outputId": "1e90e48c-da4f-4516-a04c-4fe26151f279"
      },
      "source": [
        "plt.plot(pred.iloc[:,0], label = 'yhat')\n",
        "plt.plot(pred.iloc[:,1], label = 'Actual')\n",
        "plt.legend()\n",
        "plt.show()"
      ],
      "execution_count": 79,
      "outputs": [
        {
          "output_type": "display_data",
          "data": {
            "image/png": "[encoded data removed]",
            "text/plain": [
              "<Figure size 720x432 with 1 Axes>"
            ]
          },
          "metadata": {
            "tags": [],
            "needs_background": "light"
          }
        }
      ]
    },
    {
      "cell_type": "code",
      "metadata": {
        "colab_type": "code",
        "id": "D5lplt3uX_i9",
        "colab": {}
      },
      "source": [
        ""
      ],
      "execution_count": null,
      "outputs": []
    }
  ]
}