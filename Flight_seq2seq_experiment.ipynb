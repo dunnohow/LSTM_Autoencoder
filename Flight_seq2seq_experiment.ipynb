{
  "nbformat": 4,
  "nbformat_minor": 0,
  "metadata": {
    "colab": {
      "name": "Flight_seq2seq_experiment.ipynb",
      "provenance": [],
      "collapsed_sections": [
        "rYzEQVVEiCAK",
        "-wHOl-gIaPED",
        "5puTPONbaXUB",
        "B3XP7bPlLw9R",
        "SxP_3xhTTlC-",
        "YlBJB273V8P4"
      ],
      "machine_shape": "hm",
      "authorship_tag": "ABX9TyMuuPDhtbQpGXcSFHLF7WaK",
      "include_colab_link": true
    },
    "kernelspec": {
      "name": "python3",
      "display_name": "Python 3"
    },
    "accelerator": "GPU"
  },
  "cells": [
    {
      "cell_type": "markdown",
      "metadata": {
        "id": "view-in-github",
        "colab_type": "text"
      },
      "source": [
        "<a href=\"https://colab.research.google.com/github/dunnohow/LSTM_Autoencoder/blob/master/Flight_seq2seq_experiment.ipynb\" target=\"_parent\"><img src=\"https://colab.research.google.com/assets/colab-badge.svg\" alt=\"Open In Colab\"/></a>"
      ]
    },
    {
      "cell_type": "code",
      "metadata": {
        "id": "6L8KBnCmJ32a",
        "colab_type": "code",
        "colab": {
          "base_uri": "https://localhost:8080/",
          "height": 49
        },
        "outputId": "0cba657d-ba17-4c22-8cad-41872f33a722"
      },
      "source": [
        "import torch\n",
        "import copy\n",
        "import numpy as np\n",
        "import pandas as pd\n",
        "import seaborn as sns\n",
        "from pylab import rcParams\n",
        "import matplotlib.pyplot as plt\n",
        "from matplotlib import rc\n",
        "from sklearn.model_selection import train_test_split\n",
        "from sklearn.preprocessing import MinMaxScaler\n",
        "from tqdm.notebook import tqdm\n",
        "\n",
        "from torch import nn, optim\n",
        "from torch.utils.data import DataLoader\n",
        "import torch.nn.functional as F"
      ],
      "execution_count": 2,
      "outputs": [
        {
          "output_type": "stream",
          "text": [
            "/usr/local/lib/python3.6/dist-packages/statsmodels/tools/_testing.py:19: FutureWarning: pandas.util.testing is deprecated. Use the functions in the public API at pandas.testing instead.\n",
            "  import pandas.util.testing as tm\n"
          ],
          "name": "stderr"
        }
      ]
    },
    {
      "cell_type": "code",
      "metadata": {
        "id": "EtGEXpkhQCWW",
        "colab_type": "code",
        "colab": {
          "base_uri": "https://localhost:8080/",
          "height": 49
        },
        "outputId": "445f449b-2f4c-4f3b-ed29-af8035764318"
      },
      "source": [
        "# 디바이스 설정\n",
        "if torch.cuda.is_available():    \n",
        "    device = torch.device(\"cuda\")\n",
        "    print('There are %d GPU(s) available.' % torch.cuda.device_count())\n",
        "    print('We will use the GPU:', torch.cuda.get_device_name(0))\n",
        "else:\n",
        "    device = torch.device(\"cpu\")\n",
        "    print('No GPU available, using the CPU instead.')"
      ],
      "execution_count": 3,
      "outputs": [
        {
          "output_type": "stream",
          "text": [
            "There are 1 GPU(s) available.\n",
            "We will use the GPU: Tesla P100-PCIE-16GB\n"
          ],
          "name": "stdout"
        }
      ]
    },
    {
      "cell_type": "code",
      "metadata": {
        "id": "FkBR3VAfULT2",
        "colab_type": "code",
        "colab": {}
      },
      "source": [
        "device = torch.device(\"cuda\")"
      ],
      "execution_count": 4,
      "outputs": []
    },
    {
      "cell_type": "markdown",
      "metadata": {
        "id": "rYzEQVVEiCAK",
        "colab_type": "text"
      },
      "source": [
        "<br>\n",
        "\n",
        "# Loading Data"
      ]
    },
    {
      "cell_type": "code",
      "metadata": {
        "id": "0CkekshhKAqo",
        "colab_type": "code",
        "colab": {}
      },
      "source": [
        "#sns.get_dataset_names()"
      ],
      "execution_count": 5,
      "outputs": []
    },
    {
      "cell_type": "code",
      "metadata": {
        "id": "0H5fW9JLKGRk",
        "colab_type": "code",
        "colab": {
          "base_uri": "https://localhost:8080/",
          "height": 221
        },
        "outputId": "ef3ccf79-1c67-4d4d-8803-2be524765ff8"
      },
      "source": [
        "flight_data = sns.load_dataset(\"flights\")\n",
        "flight_data.head()"
      ],
      "execution_count": 6,
      "outputs": [
        {
          "output_type": "execute_result",
          "data": {
            "text/html": [
              "<div>\n",
              "<style scoped>\n",
              "    .dataframe tbody tr th:only-of-type {\n",
              "        vertical-align: middle;\n",
              "    }\n",
              "\n",
              "    .dataframe tbody tr th {\n",
              "        vertical-align: top;\n",
              "    }\n",
              "\n",
              "    .dataframe thead th {\n",
              "        text-align: right;\n",
              "    }\n",
              "</style>\n",
              "<table border=\"1\" class=\"dataframe\">\n",
              "  <thead>\n",
              "    <tr style=\"text-align: right;\">\n",
              "      <th></th>\n",
              "      <th>year</th>\n",
              "      <th>month</th>\n",
              "      <th>passengers</th>\n",
              "    </tr>\n",
              "  </thead>\n",
              "  <tbody>\n",
              "    <tr>\n",
              "      <th>0</th>\n",
              "      <td>1949</td>\n",
              "      <td>January</td>\n",
              "      <td>112</td>\n",
              "    </tr>\n",
              "    <tr>\n",
              "      <th>1</th>\n",
              "      <td>1949</td>\n",
              "      <td>February</td>\n",
              "      <td>118</td>\n",
              "    </tr>\n",
              "    <tr>\n",
              "      <th>2</th>\n",
              "      <td>1949</td>\n",
              "      <td>March</td>\n",
              "      <td>132</td>\n",
              "    </tr>\n",
              "    <tr>\n",
              "      <th>3</th>\n",
              "      <td>1949</td>\n",
              "      <td>April</td>\n",
              "      <td>129</td>\n",
              "    </tr>\n",
              "    <tr>\n",
              "      <th>4</th>\n",
              "      <td>1949</td>\n",
              "      <td>May</td>\n",
              "      <td>121</td>\n",
              "    </tr>\n",
              "  </tbody>\n",
              "</table>\n",
              "</div>"
            ],
            "text/plain": [
              "   year     month  passengers\n",
              "0  1949   January         112\n",
              "1  1949  February         118\n",
              "2  1949     March         132\n",
              "3  1949     April         129\n",
              "4  1949       May         121"
            ]
          },
          "metadata": {
            "tags": []
          },
          "execution_count": 6
        }
      ]
    },
    {
      "cell_type": "code",
      "metadata": {
        "id": "rPMp6AtNKJOS",
        "colab_type": "code",
        "colab": {
          "base_uri": "https://localhost:8080/",
          "height": 69
        },
        "outputId": "a4bbf185-f666-49b0-8cce-73c252c7b59d"
      },
      "source": [
        "fig_size = plt.rcParams[\"figure.figsize\"]\n",
        "fig_size[0] = 15\n",
        "fig_size[1] = 5\n",
        "plt.rcParams[\"figure.figsize\"] = fig_size\n",
        "\n",
        "plt.title('Month vs Passenger')\n",
        "plt.ylabel('Total Passengers')\n",
        "plt.xlabel('Months')\n",
        "plt.grid(True)\n",
        "plt.autoscale(axis='x',tight=True)\n",
        "plt.plot(flight_data['passengers'])"
      ],
      "execution_count": 7,
      "outputs": [
        {
          "output_type": "execute_result",
          "data": {
            "text/plain": [
              "[<matplotlib.lines.Line2D at 0x7fbcea599240>]"
            ]
          },
          "metadata": {
            "tags": []
          },
          "execution_count": 7
        },
        {
          "output_type": "display_data",
          "data": {
            "image/png": "[encoded data removed]",
            "text/plain": [
              "<Figure size 1080x360 with 1 Axes>"
            ]
          },
          "metadata": {
            "tags": [],
            "needs_background": "light"
          }
        }
      ]
    },
    {
      "cell_type": "code",
      "metadata": {
        "id": "BXeQIVToKXZ8",
        "colab_type": "code",
        "colab": {}
      },
      "source": [
        "all_data = flight_data['passengers'].values.astype(float)"
      ],
      "execution_count": 8,
      "outputs": []
    },
    {
      "cell_type": "code",
      "metadata": {
        "id": "TEzLld8QKeQF",
        "colab_type": "code",
        "colab": {}
      },
      "source": [
        "test_data_size = 12\n",
        "\n",
        "train_data = all_data[:-test_data_size]\n",
        "test_data = all_data[-test_data_size:]"
      ],
      "execution_count": 9,
      "outputs": []
    },
    {
      "cell_type": "code",
      "metadata": {
        "id": "sQpeoO7hKq5Y",
        "colab_type": "code",
        "colab": {}
      },
      "source": [
        "from sklearn.preprocessing import MinMaxScaler\n",
        "\n",
        "scaler = MinMaxScaler()\n",
        "scaler.fit(train_data.reshape(-1, 1))\n",
        "train_data_normalized = scaler.transform(train_data.reshape(-1, 1))\n",
        "test_data_normalized = scaler.transform(test_data.reshape(-1, 1))"
      ],
      "execution_count": 10,
      "outputs": []
    },
    {
      "cell_type": "code",
      "metadata": {
        "id": "OR-RxIHUPKHU",
        "colab_type": "code",
        "colab": {}
      },
      "source": [
        "train_window = 12"
      ],
      "execution_count": 11,
      "outputs": []
    },
    {
      "cell_type": "markdown",
      "metadata": {
        "id": "-wHOl-gIaPED",
        "colab_type": "text"
      },
      "source": [
        "<br>\n",
        "\n",
        "#For LSTM"
      ]
    },
    {
      "cell_type": "code",
      "metadata": {
        "id": "QV86pAeoTAou",
        "colab_type": "code",
        "colab": {}
      },
      "source": [
        "train_data_normalized = torch.FloatTensor(train_data_normalized).view(-1)"
      ],
      "execution_count": null,
      "outputs": []
    },
    {
      "cell_type": "code",
      "metadata": {
        "id": "7BTT4PUMOtta",
        "colab_type": "code",
        "colab": {}
      },
      "source": [
        "def create_inout_sequences(input_data, tw):\n",
        "    inout_seq = []\n",
        "    L = len(input_data)\n",
        "    for i in range(L-tw):\n",
        "        train_seq = input_data[i:i+tw]\n",
        "        train_label = input_data[i+tw:i+tw+1]\n",
        "        inout_seq.append((train_seq ,train_label))\n",
        "    return inout_seq"
      ],
      "execution_count": null,
      "outputs": []
    },
    {
      "cell_type": "code",
      "metadata": {
        "id": "4eXikA6mPQOn",
        "colab_type": "code",
        "colab": {}
      },
      "source": [
        "train_inout_seq = create_inout_sequences(train_data_normalized, train_window)"
      ],
      "execution_count": null,
      "outputs": []
    },
    {
      "cell_type": "markdown",
      "metadata": {
        "id": "5puTPONbaXUB",
        "colab_type": "text"
      },
      "source": [
        "<br>\n",
        "\n",
        "#For Autoencoder"
      ]
    },
    {
      "cell_type": "code",
      "metadata": {
        "id": "SGKIgVmw6qpD",
        "colab_type": "code",
        "colab": {}
      },
      "source": [
        "def create_dataset(df):\n",
        "  sequences = df.astype(np.float32).tolist()\n",
        "  dataset = [torch.tensor(s).unsqueeze(1).float() for s in sequences]\n",
        "  n_seq, seq_len, n_features = torch.stack(dataset).shape\n",
        "  return dataset, seq_len, n_features"
      ],
      "execution_count": 12,
      "outputs": []
    },
    {
      "cell_type": "code",
      "metadata": {
        "id": "0APoOUmV6q87",
        "colab_type": "code",
        "colab": {
          "base_uri": "https://localhost:8080/",
          "height": 52
        },
        "outputId": "e62b8bfc-c80b-456d-e0d2-1c87daf8c21c"
      },
      "source": [
        "train_data_normalized.reshape(-1,12).shape"
      ],
      "execution_count": 13,
      "outputs": [
        {
          "output_type": "execute_result",
          "data": {
            "text/plain": [
              "(11, 12)"
            ]
          },
          "metadata": {
            "tags": []
          },
          "execution_count": 13
        }
      ]
    },
    {
      "cell_type": "code",
      "metadata": {
        "id": "fGcClqNg6rQ3",
        "colab_type": "code",
        "colab": {}
      },
      "source": [
        "train_data, seq_len, n_features = create_dataset(train_data_normalized.reshape(-1,12))"
      ],
      "execution_count": 14,
      "outputs": []
    },
    {
      "cell_type": "code",
      "metadata": {
        "id": "X5R-5Hx76rc2",
        "colab_type": "code",
        "colab": {}
      },
      "source": [
        "train_loader = DataLoader(train_data, batch_size = 1, shuffle = False)"
      ],
      "execution_count": 15,
      "outputs": []
    },
    {
      "cell_type": "code",
      "metadata": {
        "id": "oBOQ51XX6rmh",
        "colab_type": "code",
        "colab": {
          "base_uri": "https://localhost:8080/",
          "height": 52
        },
        "outputId": "a8302787-882f-4523-dedf-590adffe8e8b"
      },
      "source": [
        "next(iter(train_loader)).shape"
      ],
      "execution_count": 16,
      "outputs": [
        {
          "output_type": "execute_result",
          "data": {
            "text/plain": [
              "torch.Size([1, 12, 1])"
            ]
          },
          "metadata": {
            "tags": []
          },
          "execution_count": 16
        }
      ]
    },
    {
      "cell_type": "code",
      "metadata": {
        "id": "vZObUAxVaDfi",
        "colab_type": "code",
        "colab": {}
      },
      "source": [
        "epochs = 3000"
      ],
      "execution_count": 17,
      "outputs": []
    },
    {
      "cell_type": "markdown",
      "metadata": {
        "id": "B3XP7bPlLw9R",
        "colab_type": "text"
      },
      "source": [
        "<br>\n",
        "<br>\n",
        "\n",
        "# LSTM"
      ]
    },
    {
      "cell_type": "code",
      "metadata": {
        "id": "llRuv71rPSnj",
        "colab_type": "code",
        "colab": {}
      },
      "source": [
        "class LSTM(nn.Module):\n",
        "    def __init__(self, input_size=1, hidden_layer_size=100, output_size=1):\n",
        "        super().__init__()\n",
        "        self.hidden_layer_size = hidden_layer_size\n",
        "\n",
        "        self.lstm = nn.LSTM(input_size, hidden_layer_size)\n",
        "\n",
        "        self.linear = nn.Linear(hidden_layer_size, output_size)\n",
        "\n",
        "        self.hidden_cell = (torch.zeros(1,1,self.hidden_layer_size),\n",
        "                            torch.zeros(1,1,self.hidden_layer_size))\n",
        "\n",
        "    def forward(self, input_seq):\n",
        "        lstm_out, (hidden_out, cell_out) = self.lstm(input_seq.view(len(input_seq) ,1, -1), self.hidden_cell)\n",
        "        print(lstm_out)\n",
        "        print(hidden_out)\n",
        "        predictions = self.linear(lstm_out.view(len(input_seq), -1))\n",
        "        #print(predictions.shape)\n",
        "        return predictions[-1]"
      ],
      "execution_count": null,
      "outputs": []
    },
    {
      "cell_type": "code",
      "metadata": {
        "id": "9bkqsi8CPua4",
        "colab_type": "code",
        "colab": {
          "base_uri": "https://localhost:8080/",
          "height": 348
        },
        "outputId": "3e72b77f-b256-472d-833d-86779e21e365"
      },
      "source": [
        "model = LSTM()\n",
        "model = model.cuda()\n",
        "loss_function = nn.L1Loss().cuda()\n",
        "optimizer = torch.optim.Adam(model.parameters(), lr=0.001)"
      ],
      "execution_count": null,
      "outputs": [
        {
          "output_type": "error",
          "ename": "KeyboardInterrupt",
          "evalue": "ignored",
          "traceback": [
            "\u001b[0;31m---------------------------------------------------------------------------\u001b[0m",
            "\u001b[0;31mKeyboardInterrupt\u001b[0m                         Traceback (most recent call last)",
            "\u001b[0;32m<ipython-input-23-9c4cf7be6c76>\u001b[0m in \u001b[0;36m<module>\u001b[0;34m()\u001b[0m\n\u001b[1;32m      1\u001b[0m \u001b[0mmodel\u001b[0m \u001b[0;34m=\u001b[0m \u001b[0mLSTM\u001b[0m\u001b[0;34m(\u001b[0m\u001b[0;34m)\u001b[0m\u001b[0;34m\u001b[0m\u001b[0;34m\u001b[0m\u001b[0m\n\u001b[0;32m----> 2\u001b[0;31m \u001b[0mmodel\u001b[0m \u001b[0;34m=\u001b[0m \u001b[0mmodel\u001b[0m\u001b[0;34m.\u001b[0m\u001b[0mcuda\u001b[0m\u001b[0;34m(\u001b[0m\u001b[0;34m)\u001b[0m\u001b[0;34m\u001b[0m\u001b[0;34m\u001b[0m\u001b[0m\n\u001b[0m\u001b[1;32m      3\u001b[0m \u001b[0mloss_function\u001b[0m \u001b[0;34m=\u001b[0m \u001b[0mnn\u001b[0m\u001b[0;34m.\u001b[0m\u001b[0mL1Loss\u001b[0m\u001b[0;34m(\u001b[0m\u001b[0;34m)\u001b[0m\u001b[0;34m.\u001b[0m\u001b[0mcuda\u001b[0m\u001b[0;34m(\u001b[0m\u001b[0;34m)\u001b[0m\u001b[0;34m\u001b[0m\u001b[0;34m\u001b[0m\u001b[0m\n\u001b[1;32m      4\u001b[0m \u001b[0moptimizer\u001b[0m \u001b[0;34m=\u001b[0m \u001b[0mtorch\u001b[0m\u001b[0;34m.\u001b[0m\u001b[0moptim\u001b[0m\u001b[0;34m.\u001b[0m\u001b[0mAdam\u001b[0m\u001b[0;34m(\u001b[0m\u001b[0mmodel\u001b[0m\u001b[0;34m.\u001b[0m\u001b[0mparameters\u001b[0m\u001b[0;34m(\u001b[0m\u001b[0;34m)\u001b[0m\u001b[0;34m,\u001b[0m \u001b[0mlr\u001b[0m\u001b[0;34m=\u001b[0m\u001b[0;36m0.001\u001b[0m\u001b[0;34m)\u001b[0m\u001b[0;34m\u001b[0m\u001b[0;34m\u001b[0m\u001b[0m\n",
            "\u001b[0;32m/usr/local/lib/python3.6/dist-packages/torch/nn/modules/module.py\u001b[0m in \u001b[0;36mcuda\u001b[0;34m(self, device)\u001b[0m\n\u001b[1;32m    456\u001b[0m             \u001b[0mModule\u001b[0m\u001b[0;34m:\u001b[0m \u001b[0mself\u001b[0m\u001b[0;34m\u001b[0m\u001b[0;34m\u001b[0m\u001b[0m\n\u001b[1;32m    457\u001b[0m         \"\"\"\n\u001b[0;32m--> 458\u001b[0;31m         \u001b[0;32mreturn\u001b[0m \u001b[0mself\u001b[0m\u001b[0;34m.\u001b[0m\u001b[0m_apply\u001b[0m\u001b[0;34m(\u001b[0m\u001b[0;32mlambda\u001b[0m \u001b[0mt\u001b[0m\u001b[0;34m:\u001b[0m \u001b[0mt\u001b[0m\u001b[0;34m.\u001b[0m\u001b[0mcuda\u001b[0m\u001b[0;34m(\u001b[0m\u001b[0mdevice\u001b[0m\u001b[0;34m)\u001b[0m\u001b[0;34m)\u001b[0m\u001b[0;34m\u001b[0m\u001b[0;34m\u001b[0m\u001b[0m\n\u001b[0m\u001b[1;32m    459\u001b[0m \u001b[0;34m\u001b[0m\u001b[0m\n\u001b[1;32m    460\u001b[0m     \u001b[0;32mdef\u001b[0m \u001b[0mcpu\u001b[0m\u001b[0;34m(\u001b[0m\u001b[0mself\u001b[0m\u001b[0;34m:\u001b[0m \u001b[0mT\u001b[0m\u001b[0;34m)\u001b[0m \u001b[0;34m->\u001b[0m \u001b[0mT\u001b[0m\u001b[0;34m:\u001b[0m\u001b[0;34m\u001b[0m\u001b[0;34m\u001b[0m\u001b[0m\n",
            "\u001b[0;32m/usr/local/lib/python3.6/dist-packages/torch/nn/modules/module.py\u001b[0m in \u001b[0;36m_apply\u001b[0;34m(self, fn)\u001b[0m\n\u001b[1;32m    352\u001b[0m     \u001b[0;32mdef\u001b[0m \u001b[0m_apply\u001b[0m\u001b[0;34m(\u001b[0m\u001b[0mself\u001b[0m\u001b[0;34m,\u001b[0m \u001b[0mfn\u001b[0m\u001b[0;34m)\u001b[0m\u001b[0;34m:\u001b[0m\u001b[0;34m\u001b[0m\u001b[0;34m\u001b[0m\u001b[0m\n\u001b[1;32m    353\u001b[0m         \u001b[0;32mfor\u001b[0m \u001b[0mmodule\u001b[0m \u001b[0;32min\u001b[0m \u001b[0mself\u001b[0m\u001b[0;34m.\u001b[0m\u001b[0mchildren\u001b[0m\u001b[0;34m(\u001b[0m\u001b[0;34m)\u001b[0m\u001b[0;34m:\u001b[0m\u001b[0;34m\u001b[0m\u001b[0;34m\u001b[0m\u001b[0m\n\u001b[0;32m--> 354\u001b[0;31m             \u001b[0mmodule\u001b[0m\u001b[0;34m.\u001b[0m\u001b[0m_apply\u001b[0m\u001b[0;34m(\u001b[0m\u001b[0mfn\u001b[0m\u001b[0;34m)\u001b[0m\u001b[0;34m\u001b[0m\u001b[0;34m\u001b[0m\u001b[0m\n\u001b[0m\u001b[1;32m    355\u001b[0m \u001b[0;34m\u001b[0m\u001b[0m\n\u001b[1;32m    356\u001b[0m         \u001b[0;32mdef\u001b[0m \u001b[0mcompute_should_use_set_data\u001b[0m\u001b[0;34m(\u001b[0m\u001b[0mtensor\u001b[0m\u001b[0;34m,\u001b[0m \u001b[0mtensor_applied\u001b[0m\u001b[0;34m)\u001b[0m\u001b[0;34m:\u001b[0m\u001b[0;34m\u001b[0m\u001b[0;34m\u001b[0m\u001b[0m\n",
            "\u001b[0;32m/usr/local/lib/python3.6/dist-packages/torch/nn/modules/rnn.py\u001b[0m in \u001b[0;36m_apply\u001b[0;34m(self, fn)\u001b[0m\n\u001b[1;32m    152\u001b[0m \u001b[0;34m\u001b[0m\u001b[0m\n\u001b[1;32m    153\u001b[0m     \u001b[0;32mdef\u001b[0m \u001b[0m_apply\u001b[0m\u001b[0;34m(\u001b[0m\u001b[0mself\u001b[0m\u001b[0;34m,\u001b[0m \u001b[0mfn\u001b[0m\u001b[0;34m)\u001b[0m\u001b[0;34m:\u001b[0m\u001b[0;34m\u001b[0m\u001b[0;34m\u001b[0m\u001b[0m\n\u001b[0;32m--> 154\u001b[0;31m         \u001b[0mret\u001b[0m \u001b[0;34m=\u001b[0m \u001b[0msuper\u001b[0m\u001b[0;34m(\u001b[0m\u001b[0mRNNBase\u001b[0m\u001b[0;34m,\u001b[0m \u001b[0mself\u001b[0m\u001b[0;34m)\u001b[0m\u001b[0;34m.\u001b[0m\u001b[0m_apply\u001b[0m\u001b[0;34m(\u001b[0m\u001b[0mfn\u001b[0m\u001b[0;34m)\u001b[0m\u001b[0;34m\u001b[0m\u001b[0;34m\u001b[0m\u001b[0m\n\u001b[0m\u001b[1;32m    155\u001b[0m \u001b[0;34m\u001b[0m\u001b[0m\n\u001b[1;32m    156\u001b[0m         \u001b[0;31m# Resets _flat_weights\u001b[0m\u001b[0;34m\u001b[0m\u001b[0;34m\u001b[0m\u001b[0;34m\u001b[0m\u001b[0m\n",
            "\u001b[0;32m/usr/local/lib/python3.6/dist-packages/torch/nn/modules/module.py\u001b[0m in \u001b[0;36m_apply\u001b[0;34m(self, fn)\u001b[0m\n\u001b[1;32m    374\u001b[0m                 \u001b[0;31m# `with torch.no_grad():`\u001b[0m\u001b[0;34m\u001b[0m\u001b[0;34m\u001b[0m\u001b[0;34m\u001b[0m\u001b[0m\n\u001b[1;32m    375\u001b[0m                 \u001b[0;32mwith\u001b[0m \u001b[0mtorch\u001b[0m\u001b[0;34m.\u001b[0m\u001b[0mno_grad\u001b[0m\u001b[0;34m(\u001b[0m\u001b[0;34m)\u001b[0m\u001b[0;34m:\u001b[0m\u001b[0;34m\u001b[0m\u001b[0;34m\u001b[0m\u001b[0m\n\u001b[0;32m--> 376\u001b[0;31m                     \u001b[0mparam_applied\u001b[0m \u001b[0;34m=\u001b[0m \u001b[0mfn\u001b[0m\u001b[0;34m(\u001b[0m\u001b[0mparam\u001b[0m\u001b[0;34m)\u001b[0m\u001b[0;34m\u001b[0m\u001b[0;34m\u001b[0m\u001b[0m\n\u001b[0m\u001b[1;32m    377\u001b[0m                 \u001b[0mshould_use_set_data\u001b[0m \u001b[0;34m=\u001b[0m \u001b[0mcompute_should_use_set_data\u001b[0m\u001b[0;34m(\u001b[0m\u001b[0mparam\u001b[0m\u001b[0;34m,\u001b[0m \u001b[0mparam_applied\u001b[0m\u001b[0;34m)\u001b[0m\u001b[0;34m\u001b[0m\u001b[0;34m\u001b[0m\u001b[0m\n\u001b[1;32m    378\u001b[0m                 \u001b[0;32mif\u001b[0m \u001b[0mshould_use_set_data\u001b[0m\u001b[0;34m:\u001b[0m\u001b[0;34m\u001b[0m\u001b[0;34m\u001b[0m\u001b[0m\n",
            "\u001b[0;32m/usr/local/lib/python3.6/dist-packages/torch/nn/modules/module.py\u001b[0m in \u001b[0;36m<lambda>\u001b[0;34m(t)\u001b[0m\n\u001b[1;32m    456\u001b[0m             \u001b[0mModule\u001b[0m\u001b[0;34m:\u001b[0m \u001b[0mself\u001b[0m\u001b[0;34m\u001b[0m\u001b[0;34m\u001b[0m\u001b[0m\n\u001b[1;32m    457\u001b[0m         \"\"\"\n\u001b[0;32m--> 458\u001b[0;31m         \u001b[0;32mreturn\u001b[0m \u001b[0mself\u001b[0m\u001b[0;34m.\u001b[0m\u001b[0m_apply\u001b[0m\u001b[0;34m(\u001b[0m\u001b[0;32mlambda\u001b[0m \u001b[0mt\u001b[0m\u001b[0;34m:\u001b[0m \u001b[0mt\u001b[0m\u001b[0;34m.\u001b[0m\u001b[0mcuda\u001b[0m\u001b[0;34m(\u001b[0m\u001b[0mdevice\u001b[0m\u001b[0;34m)\u001b[0m\u001b[0;34m)\u001b[0m\u001b[0;34m\u001b[0m\u001b[0;34m\u001b[0m\u001b[0m\n\u001b[0m\u001b[1;32m    459\u001b[0m \u001b[0;34m\u001b[0m\u001b[0m\n\u001b[1;32m    460\u001b[0m     \u001b[0;32mdef\u001b[0m \u001b[0mcpu\u001b[0m\u001b[0;34m(\u001b[0m\u001b[0mself\u001b[0m\u001b[0;34m:\u001b[0m \u001b[0mT\u001b[0m\u001b[0;34m)\u001b[0m \u001b[0;34m->\u001b[0m \u001b[0mT\u001b[0m\u001b[0;34m:\u001b[0m\u001b[0;34m\u001b[0m\u001b[0;34m\u001b[0m\u001b[0m\n",
            "\u001b[0;31mKeyboardInterrupt\u001b[0m: "
          ]
        }
      ]
    },
    {
      "cell_type": "code",
      "metadata": {
        "id": "eEDdv9EGP6gL",
        "colab_type": "code",
        "colab": {}
      },
      "source": [
        "epochs = 150\n",
        "\n",
        "for i in range(epochs):\n",
        "    for seq, labels in train_inout_seq:\n",
        "        optimizer.zero_grad()\n",
        "        model.hidden_cell = (torch.zeros(1, 1, model.hidden_layer_size).cuda(),\n",
        "                        torch.zeros(1, 1, model.hidden_layer_size).cuda())\n",
        "        seq = seq.cuda()\n",
        "        y_pred = model(seq)\n",
        "\n",
        "        single_loss = loss_function(y_pred, labels.cuda())\n",
        "        single_loss.backward()\n",
        "        optimizer.step()\n",
        "\n",
        "    if i%25 == 1:\n",
        "        print(f'epoch: {i:3} loss: {single_loss.item():10.8f}')\n",
        "\n",
        "print(f'epoch: {i:3} loss: {single_loss.item():10.10f}')"
      ],
      "execution_count": null,
      "outputs": []
    },
    {
      "cell_type": "code",
      "metadata": {
        "id": "S4nlS4IDQYJc",
        "colab_type": "code",
        "colab": {}
      },
      "source": [
        "fut_pred = 12\n",
        "\n",
        "test_inputs = train_data_normalized[-train_window:].tolist()\n",
        "print(len(test_inputs))"
      ],
      "execution_count": null,
      "outputs": []
    },
    {
      "cell_type": "code",
      "metadata": {
        "id": "YdqhcPB_WCMW",
        "colab_type": "code",
        "colab": {}
      },
      "source": [
        "model.eval()\n",
        "\n",
        "for i in range(fut_pred):\n",
        "    seq = torch.FloatTensor(test_inputs[-train_window:]).cuda()\n",
        "    with torch.no_grad():\n",
        "        model.hidden = (torch.zeros(1, 1, model.hidden_layer_size).cuda(),\n",
        "                        torch.zeros(1, 1, model.hidden_layer_size).cuda())\n",
        "        test_inputs.append(model(seq).item())"
      ],
      "execution_count": null,
      "outputs": []
    },
    {
      "cell_type": "code",
      "metadata": {
        "id": "rxtoxxfHnQo7",
        "colab_type": "code",
        "colab": {}
      },
      "source": [
        "seq = torch.FloatTensor(test_inputs[-train_window:]).cuda()\n",
        "model(seq).item()"
      ],
      "execution_count": null,
      "outputs": []
    },
    {
      "cell_type": "code",
      "metadata": {
        "id": "I_VnlLMBWCnX",
        "colab_type": "code",
        "colab": {}
      },
      "source": [
        "test_inputs[fut_pred:]"
      ],
      "execution_count": null,
      "outputs": []
    },
    {
      "cell_type": "code",
      "metadata": {
        "id": "_HqBXYi1WC-D",
        "colab_type": "code",
        "colab": {}
      },
      "source": [
        "actual_predictions = scaler.inverse_transform(np.array(test_inputs[train_window:] ).reshape(-1, 1))\n",
        "print(actual_predictions)"
      ],
      "execution_count": null,
      "outputs": []
    },
    {
      "cell_type": "code",
      "metadata": {
        "id": "MoaPwHXPWDMm",
        "colab_type": "code",
        "colab": {}
      },
      "source": [
        "flight_data['passengers'][-train_window:]"
      ],
      "execution_count": null,
      "outputs": []
    },
    {
      "cell_type": "code",
      "metadata": {
        "id": "BTKZ6cTqW8J9",
        "colab_type": "code",
        "colab": {}
      },
      "source": [
        "plt.plot(flight_data['passengers'][-train_window:].reset_index(drop = True), color = 'blue')\n",
        "plt.plot(actual_predictions, color = 'green')\n",
        "plt.show()"
      ],
      "execution_count": null,
      "outputs": []
    },
    {
      "cell_type": "code",
      "metadata": {
        "id": "CLb6M2OPXBVk",
        "colab_type": "code",
        "colab": {}
      },
      "source": [
        ""
      ],
      "execution_count": null,
      "outputs": []
    },
    {
      "cell_type": "markdown",
      "metadata": {
        "id": "SdaE4oaZL6dH",
        "colab_type": "text"
      },
      "source": [
        "<br>\n",
        "\n",
        "# LSTM Autoencoder Hidden"
      ]
    },
    {
      "cell_type": "code",
      "metadata": {
        "id": "JhJBQmnkzhYS",
        "colab_type": "code",
        "colab": {}
      },
      "source": [
        "class TimeDistributed(nn.Module):\n",
        "    def __init__(self, module, batch_first=False):\n",
        "        super(TimeDistributed, self).__init__()\n",
        "        self.module = module\n",
        "        self.batch_first = batch_first\n",
        "\n",
        "    def forward(self, x):\n",
        "        if len(x.size()) <= 2:\n",
        "            return self.module(x)\n",
        "        # Squash samples and timesteps into a single axis\n",
        "        x_reshape = x.contiguous().view(-1, x.size(-1))  # (samples * timesteps, input_size)\n",
        "        y = self.module(x_reshape)\n",
        "        # We have to reshape Y\n",
        "        if self.batch_first:\n",
        "            y = y.contiguous().view(x.size(0), -1, y.size(-1))  # (samples, timesteps, output_size)\n",
        "        else:\n",
        "            y = y.view(-1, x.size(1), y.size(-1))  # (timesteps, samples, output_size)\n",
        "        return y"
      ],
      "execution_count": 56,
      "outputs": []
    },
    {
      "cell_type": "code",
      "metadata": {
        "id": "t5n8AA4b-u1x",
        "colab_type": "code",
        "colab": {}
      },
      "source": [
        "class Encoder(nn.Module):\n",
        "\n",
        "  def __init__(self, seq_len, n_features, embedding_dim=64):\n",
        "    super(Encoder, self).__init__()\n",
        "\n",
        "    self.seq_len, self.n_features = seq_len, n_features\n",
        "    self.embedding_dim, self.hidden_dim = embedding_dim, 2 * embedding_dim\n",
        "\n",
        "    self.rnn1 = nn.LSTM(\n",
        "      input_size=n_features,\n",
        "      hidden_size=self.hidden_dim // 2,\n",
        "      num_layers=1,\n",
        "      batch_first=True,\n",
        "      bidirectional = True # Doubles the hidden_dim\n",
        "    )\n",
        "\n",
        "    self.rnn2 = nn.LSTM(\n",
        "      input_size=self.hidden_dim,\n",
        "      hidden_size=embedding_dim,\n",
        "      num_layers=1,\n",
        "      batch_first=True,\n",
        "      bidirectional = False\n",
        "    )\n",
        "\n",
        "  def forward(self, x):\n",
        "\n",
        "    x, (_, _) = self.rnn1(x)\n",
        "    x, (hidden_n, _) = self.rnn2(x)\n",
        "    return hidden_n.reshape((self.n_features, self.embedding_dim))"
      ],
      "execution_count": 97,
      "outputs": []
    },
    {
      "cell_type": "code",
      "metadata": {
        "id": "F3hses8Y9V_n",
        "colab_type": "code",
        "colab": {}
      },
      "source": [
        "class Decoder(nn.Module):\n",
        "\n",
        "  def __init__(self, seq_len, input_dim=64, n_features=1):\n",
        "    super(Decoder, self).__init__()\n",
        "\n",
        "    self.seq_len, self.input_dim = seq_len, input_dim\n",
        "    self.hidden_dim, self.n_features = 2 * input_dim, n_features\n",
        "    self.rnn1 = nn.LSTM(\n",
        "      input_size=input_dim,\n",
        "      hidden_size=input_dim,\n",
        "      num_layers=1,\n",
        "      batch_first=True\n",
        "    )\n",
        "\n",
        "    self.rnn2 = nn.LSTM(\n",
        "      input_size=input_dim,\n",
        "      hidden_size=self.hidden_dim,\n",
        "      num_layers=1,\n",
        "      batch_first=True\n",
        "    )\n",
        "\n",
        "    self.output_layer = nn.Linear(self.hidden_dim, n_features)\n",
        "    self.timedist = TimeDistributed(self.output_layer, batch_first=True)\n",
        "\n",
        "  def forward(self, x):\n",
        "    x = x.repeat(self.seq_len, self.n_features)\n",
        "    x = x.reshape((self.n_features, self.seq_len, self.input_dim))\n",
        "\n",
        "    x, (hidden_n, cell_n) = self.rnn1(x)\n",
        "    x, (hidden_n, cell_n) = self.rnn2(x)\n",
        "    x = x.reshape((self.seq_len, self.hidden_dim)) # Since batch size is equal to 1, sqeueeze it into (12, hidden_dim)\n",
        "    return self.timedist(x)"
      ],
      "execution_count": 98,
      "outputs": []
    },
    {
      "cell_type": "code",
      "metadata": {
        "id": "j3B0DQzYAX42",
        "colab_type": "code",
        "colab": {}
      },
      "source": [
        "class RecurrentAutoencoder(nn.Module):\n",
        "\n",
        "  def __init__(self, seq_len, n_features, embedding_dim=64):\n",
        "    super(RecurrentAutoencoder, self).__init__()\n",
        "\n",
        "    self.encoder = Encoder(seq_len, n_features, embedding_dim).cuda()\n",
        "    self.decoder = Decoder(seq_len, embedding_dim, n_features).cuda()\n",
        "\n",
        "  def forward(self, x):\n",
        "    x = self.encoder(x)\n",
        "    x = self.decoder(x)\n",
        "\n",
        "    return x"
      ],
      "execution_count": 99,
      "outputs": []
    },
    {
      "cell_type": "code",
      "metadata": {
        "id": "EPnZ0TCOCgwK",
        "colab_type": "code",
        "colab": {
          "base_uri": "https://localhost:8080/",
          "height": 247
        },
        "outputId": "8710b7e5-dd66-4e49-b896-c0767d9a753d"
      },
      "source": [
        "model1 = RecurrentAutoencoder(seq_len, n_features, 128)\n",
        "model1 = model1.cuda()\n",
        "model1"
      ],
      "execution_count": 102,
      "outputs": [
        {
          "output_type": "execute_result",
          "data": {
            "text/plain": [
              "RecurrentAutoencoder(\n",
              "  (encoder): Encoder(\n",
              "    (rnn1): LSTM(1, 128, batch_first=True, bidirectional=True)\n",
              "    (rnn2): LSTM(256, 128, batch_first=True)\n",
              "  )\n",
              "  (decoder): Decoder(\n",
              "    (rnn1): LSTM(128, 128, batch_first=True)\n",
              "    (rnn2): LSTM(128, 256, batch_first=True)\n",
              "    (output_layer): Linear(in_features=256, out_features=1, bias=True)\n",
              "    (timedist): TimeDistributed(\n",
              "      (module): Linear(in_features=256, out_features=1, bias=True)\n",
              "    )\n",
              "  )\n",
              ")"
            ]
          },
          "metadata": {
            "tags": []
          },
          "execution_count": 102
        }
      ]
    },
    {
      "cell_type": "code",
      "metadata": {
        "id": "k1xaANOYChAl",
        "colab_type": "code",
        "colab": {}
      },
      "source": [
        "def train_model(model, train_dataset, n_epochs):\n",
        "    optimizer = torch.optim.Adam(model.parameters(), lr=1e-3)\n",
        "    criterion = nn.L1Loss(reduction='sum').cuda()\n",
        "    history = dict(train=[])\n",
        "\n",
        "    for epoch in range(n_epochs):\n",
        "        model = model.train()\n",
        "\n",
        "        train_losses = []\n",
        "        for seq_true in train_dataset:\n",
        "            optimizer.zero_grad()\n",
        "\n",
        "            seq_true = seq_true.float().cuda()\n",
        "            seq_pred = model(seq_true)\n",
        "\n",
        "            loss = criterion(seq_pred.reshape(1,-1,1), seq_true)\n",
        "\n",
        "            loss.backward()\n",
        "            optimizer.step()\n",
        "\n",
        "            train_losses.append(loss.item())\n",
        "\n",
        "        train_loss = np.mean(train_losses)\n",
        "\n",
        "        history['train'].append(train_loss)\n",
        "\n",
        "        best_model_wts = copy.deepcopy(model.state_dict())\n",
        "        if (epoch+1) % 100 == 0:\n",
        "            print(f'Epoch {epoch+1}: train loss {train_loss}')\n",
        "\n",
        "    model.load_state_dict(best_model_wts)\n",
        "\n",
        "    plt.rcParams[\"figure.figsize\"] = (10,6)\n",
        "    ax = plt.figure().gca()\n",
        "    ax.plot(history['train'])\n",
        "    plt.ylabel('Loss')\n",
        "    plt.xlabel('Epochs')\n",
        "    plt.title('Loss over training epochs')\n",
        "    plt.show()\n",
        "    return model.eval(), history"
      ],
      "execution_count": 103,
      "outputs": []
    },
    {
      "cell_type": "code",
      "metadata": {
        "id": "IcxeJYFNDBfg",
        "colab_type": "code",
        "colab": {
          "base_uri": "https://localhost:8080/",
          "height": 896
        },
        "outputId": "a12f291d-22c0-4b5d-c2ac-83adfe499242"
      },
      "source": [
        "model, history = train_model(model1, train_loader, 3000)"
      ],
      "execution_count": 104,
      "outputs": [
        {
          "output_type": "stream",
          "text": [
            "Epoch 100: train loss 1.0862641280347651\n",
            "Epoch 200: train loss 0.3576795350421559\n",
            "Epoch 300: train loss 0.3819671747359363\n",
            "Epoch 400: train loss 0.5126860656521537\n",
            "Epoch 500: train loss 0.2432935034686869\n",
            "Epoch 600: train loss 0.3876476585865021\n",
            "Epoch 700: train loss 0.21172707324678247\n",
            "Epoch 800: train loss 0.18041724440726367\n",
            "Epoch 900: train loss 0.18619934943589297\n",
            "Epoch 1000: train loss 0.19935372945937244\n",
            "Epoch 1100: train loss 0.21482978016138077\n",
            "Epoch 1200: train loss 0.13173974440856415\n",
            "Epoch 1300: train loss 0.16206579045815903\n",
            "Epoch 1400: train loss 0.1550333107059652\n",
            "Epoch 1500: train loss 0.10021040893413803\n",
            "Epoch 1600: train loss 0.08277955177155408\n",
            "Epoch 1700: train loss 0.0794247906993736\n",
            "Epoch 1800: train loss 0.08645255050875923\n",
            "Epoch 1900: train loss 0.11122927205129103\n",
            "Epoch 2000: train loss 0.09222348508509723\n",
            "Epoch 2100: train loss 0.08034094677052715\n",
            "Epoch 2200: train loss 0.07172229784456166\n",
            "Epoch 2300: train loss 0.09057179635221307\n",
            "Epoch 2400: train loss 0.11390761624683034\n",
            "Epoch 2500: train loss 0.06775527481328357\n",
            "Epoch 2600: train loss 0.10097130929881876\n",
            "Epoch 2700: train loss 0.16662100905721838\n",
            "Epoch 2800: train loss 0.10963375866413116\n",
            "Epoch 2900: train loss 0.062219118191437287\n",
            "Epoch 3000: train loss 0.13948233290152115\n"
          ],
          "name": "stdout"
        },
        {
          "output_type": "display_data",
          "data": {
            "image/png": "[encoded data removed]",
            "text/plain": [
              "<Figure size 720x432 with 1 Axes>"
            ]
          },
          "metadata": {
            "tags": [],
            "needs_background": "light"
          }
        }
      ]
    },
    {
      "cell_type": "code",
      "metadata": {
        "id": "jb6yoxrRFO4x",
        "colab_type": "code",
        "colab": {}
      },
      "source": [
        "def predict_test(data, model, scaler):\n",
        "    temp_model = model.eval()\n",
        "    row = torch.from_numpy(data).float()\n",
        "    yhat = temp_model(row.cuda())\n",
        "    yhat = yhat.cpu().detach().numpy()\n",
        "    yhat = scaler.inverse_transform(yhat).reshape(-1,1)\n",
        "    pred = pd.DataFrame(np.concatenate((yhat, data.reshape(-1,1)), axis = 1), columns = ['yhat','actual'])\n",
        "\n",
        "    return(pred)"
      ],
      "execution_count": 105,
      "outputs": []
    },
    {
      "cell_type": "code",
      "metadata": {
        "id": "_twpCI7YQ08o",
        "colab_type": "code",
        "colab": {
          "base_uri": "https://localhost:8080/",
          "height": 230
        },
        "outputId": "a5f346ba-56f3-4ecf-a487-b41789b07d95"
      },
      "source": [
        "pred = predict_test(test_data.reshape(1,-1,1), model, scaler)\n",
        "print(pred)"
      ],
      "execution_count": 106,
      "outputs": [
        {
          "output_type": "stream",
          "text": [
            "          yhat  actual\n",
            "0   361.182465   417.0\n",
            "1   343.117065   391.0\n",
            "2   410.243286   419.0\n",
            "3   400.287842   461.0\n",
            "4   421.201233   472.0\n",
            "5   471.742645   535.0\n",
            "6   552.508057   622.0\n",
            "7   569.041687   606.0\n",
            "8   470.060516   508.0\n",
            "9   412.600739   461.0\n",
            "10  370.754395   390.0\n",
            "11  410.772400   432.0\n"
          ],
          "name": "stdout"
        }
      ]
    },
    {
      "cell_type": "code",
      "metadata": {
        "id": "TTAXPtfVRSOY",
        "colab_type": "code",
        "colab": {
          "base_uri": "https://localhost:8080/",
          "height": 372
        },
        "outputId": "621b2647-3473-42dd-fe46-de6c04f37bc0"
      },
      "source": [
        "plt.plot(pred.iloc[:,0], label = 'yhat')\n",
        "plt.plot(pred.iloc[:,1], label = 'Actual')\n",
        "plt.legend()\n",
        "plt.show()"
      ],
      "execution_count": 107,
      "outputs": [
        {
          "output_type": "display_data",
          "data": {
            "image/png": "[encoded data removed]",
            "text/plain": [
              "<Figure size 720x432 with 1 Axes>"
            ]
          },
          "metadata": {
            "tags": [],
            "needs_background": "light"
          }
        }
      ]
    },
    {
      "cell_type": "code",
      "metadata": {
        "id": "NlwRxKCuTC1E",
        "colab_type": "code",
        "colab": {}
      },
      "source": [
        ""
      ],
      "execution_count": null,
      "outputs": []
    },
    {
      "cell_type": "code",
      "metadata": {
        "id": "lKgWbQ4JlNea",
        "colab_type": "code",
        "colab": {}
      },
      "source": [
        ""
      ],
      "execution_count": null,
      "outputs": []
    },
    {
      "cell_type": "markdown",
      "metadata": {
        "colab_type": "text",
        "id": "SxP_3xhTTlC-"
      },
      "source": [
        "<br>\n",
        "\n",
        "# LSTM Autoencoder Output"
      ]
    },
    {
      "cell_type": "code",
      "metadata": {
        "colab_type": "code",
        "id": "MPIylNHWTlDL",
        "colab": {}
      },
      "source": [
        "class Encoder(nn.Module):\n",
        "\n",
        "  def __init__(self, seq_len, n_features, embedding_dim=64):\n",
        "    super(Encoder, self).__init__()\n",
        "\n",
        "    self.seq_len, self.n_features = seq_len, n_features\n",
        "    self.embedding_dim, self.hidden_dim = embedding_dim, 2 * embedding_dim\n",
        "\n",
        "    self.rnn1 = nn.LSTM(\n",
        "      input_size=n_features,\n",
        "      hidden_size=self.hidden_dim,\n",
        "      num_layers=1,\n",
        "      batch_first=True\n",
        "    )\n",
        "\n",
        "    self.rnn2 = nn.LSTM(\n",
        "      input_size=self.hidden_dim,\n",
        "      hidden_size=embedding_dim,\n",
        "      num_layers=1,\n",
        "      batch_first=True\n",
        "    )\n",
        "\n",
        "  def forward(self, x):\n",
        "\n",
        "    x, (_, _) = self.rnn1(x)\n",
        "    x, (hidden_n, _) = self.rnn2(x)\n",
        "\n",
        "    return x"
      ],
      "execution_count": null,
      "outputs": []
    },
    {
      "cell_type": "code",
      "metadata": {
        "colab_type": "code",
        "id": "CKgGFZHeTlDN",
        "colab": {}
      },
      "source": [
        "class Decoder(nn.Module):\n",
        "\n",
        "  def __init__(self, seq_len, input_dim=64, n_features=1):\n",
        "    super(Decoder, self).__init__()\n",
        "\n",
        "    self.seq_len, self.input_dim = seq_len, input_dim\n",
        "    self.hidden_dim, self.n_features = 2 * input_dim, n_features\n",
        "    self.rnn1 = nn.LSTM(\n",
        "      input_size=input_dim,\n",
        "      hidden_size=input_dim,\n",
        "      num_layers=1,\n",
        "      batch_first=True\n",
        "    )\n",
        "\n",
        "    self.rnn2 = nn.LSTM(\n",
        "      input_size=input_dim,\n",
        "      hidden_size=self.hidden_dim,\n",
        "      num_layers=1,\n",
        "      batch_first=True\n",
        "    )\n",
        "\n",
        "    self.output_layer = nn.Linear(self.hidden_dim, n_features)\n",
        "\n",
        "  def forward(self, x):\n",
        "    x = x.reshape((self.n_features, self.seq_len, self.input_dim))\n",
        "\n",
        "    x, (hidden_n, cell_n) = self.rnn1(x)\n",
        "    x, (hidden_n, cell_n) = self.rnn2(x)\n",
        "    x = x.reshape((self.seq_len, self.hidden_dim))\n",
        "\n",
        "    return self.output_layer(x)"
      ],
      "execution_count": null,
      "outputs": []
    },
    {
      "cell_type": "code",
      "metadata": {
        "colab_type": "code",
        "id": "dS_FBgZVTlDV",
        "colab": {}
      },
      "source": [
        "class RecurrentAutoencoder(nn.Module):\n",
        "\n",
        "  def __init__(self, seq_len, n_features, embedding_dim=64):\n",
        "    super(RecurrentAutoencoder, self).__init__()\n",
        "\n",
        "    self.encoder = Encoder(seq_len, n_features, embedding_dim).cuda()\n",
        "    self.decoder = Decoder(seq_len, embedding_dim, n_features).cuda()\n",
        "\n",
        "  def forward(self, x):\n",
        "    x = self.encoder(x)\n",
        "    x = self.decoder(x)\n",
        "\n",
        "    return x"
      ],
      "execution_count": null,
      "outputs": []
    },
    {
      "cell_type": "code",
      "metadata": {
        "colab_type": "code",
        "id": "_ao2VeLNTlDX",
        "colab": {}
      },
      "source": [
        "model1 = RecurrentAutoencoder(seq_len, n_features, 128)\n",
        "model1 = model1.cuda()"
      ],
      "execution_count": null,
      "outputs": []
    },
    {
      "cell_type": "code",
      "metadata": {
        "colab_type": "code",
        "id": "09awEM7pTlDZ",
        "colab": {}
      },
      "source": [
        "def train_model(model, train_dataset, n_epochs):\n",
        "    optimizer = torch.optim.Adam(model.parameters(), lr=1e-3)\n",
        "    criterion = nn.L1Loss(reduction='sum').cuda()\n",
        "    history = dict(train=[])\n",
        "\n",
        "    for epoch in range(n_epochs):\n",
        "        model = model.train()\n",
        "\n",
        "        train_losses = []\n",
        "        for seq_true in train_dataset:\n",
        "            optimizer.zero_grad()\n",
        "\n",
        "            seq_true = seq_true.float().cuda()\n",
        "            seq_pred = model(seq_true)\n",
        "\n",
        "            loss = criterion(seq_pred.reshape(1,-1,1), seq_true)\n",
        "\n",
        "            loss.backward()\n",
        "            optimizer.step()\n",
        "\n",
        "            train_losses.append(loss.item())\n",
        "\n",
        "        train_loss = np.mean(train_losses)\n",
        "\n",
        "        history['train'].append(train_loss)\n",
        "\n",
        "        best_model_wts = copy.deepcopy(model.state_dict())\n",
        "        if (epoch+1) % 100 == 0:\n",
        "            print(f'Epoch {epoch+1}: train loss {train_loss}')\n",
        "\n",
        "    model.load_state_dict(best_model_wts)\n",
        "\n",
        "    plt.rcParams[\"figure.figsize\"] = (10,6)\n",
        "    ax = plt.figure().gca()\n",
        "    ax.plot(history['train'])\n",
        "    plt.ylabel('Loss')\n",
        "    plt.xlabel('Epochs')\n",
        "    plt.title('Loss over training epochs')\n",
        "    plt.show()\n",
        "    return model.eval(), history"
      ],
      "execution_count": null,
      "outputs": []
    },
    {
      "cell_type": "code",
      "metadata": {
        "colab_type": "code",
        "id": "54mVyb8TTlDb",
        "colab": {
          "base_uri": "https://localhost:8080/",
          "height": 896
        },
        "outputId": "a6a805ea-3a09-4bdc-efba-e07d1101e1e0"
      },
      "source": [
        "model, history = train_model(model1, train_loader, 3000)"
      ],
      "execution_count": null,
      "outputs": [
        {
          "output_type": "stream",
          "text": [
            "Epoch 100: train loss 1.1894049590284175\n",
            "Epoch 200: train loss 0.49564346129244025\n",
            "Epoch 300: train loss 0.32824489067901264\n",
            "Epoch 400: train loss 0.1444847218014977\n",
            "Epoch 500: train loss 0.19846994091163983\n",
            "Epoch 600: train loss 0.42036549069664697\n",
            "Epoch 700: train loss 0.1743725524707274\n",
            "Epoch 800: train loss 0.17804547873410312\n",
            "Epoch 900: train loss 0.14581651443784888\n",
            "Epoch 1000: train loss 0.22408940880136055\n",
            "Epoch 1100: train loss 0.08691675690087405\n",
            "Epoch 1200: train loss 0.15175152637741782\n",
            "Epoch 1300: train loss 0.13453213091601024\n",
            "Epoch 1400: train loss 0.13232725858688354\n",
            "Epoch 1500: train loss 0.28145838190208783\n",
            "Epoch 1600: train loss 0.07597119225697084\n",
            "Epoch 1700: train loss 0.10059983621944081\n",
            "Epoch 1800: train loss 0.18991729617118835\n",
            "Epoch 1900: train loss 0.11682614277709615\n",
            "Epoch 2000: train loss 0.17852431942116131\n",
            "Epoch 2100: train loss 0.21822915497151288\n",
            "Epoch 2200: train loss 0.19206245108084244\n",
            "Epoch 2300: train loss 0.12916023216464304\n",
            "Epoch 2400: train loss 0.1456490714441646\n",
            "Epoch 2500: train loss 0.18784376707944003\n",
            "Epoch 2600: train loss 0.067378162660382\n",
            "Epoch 2700: train loss 0.16316456855698067\n",
            "Epoch 2800: train loss 0.12327922203324058\n",
            "Epoch 2900: train loss 0.11801244115287607\n",
            "Epoch 3000: train loss 0.09769834002310579\n"
          ],
          "name": "stdout"
        },
        {
          "output_type": "display_data",
          "data": {
            "image/png": "[encoded data removed]",
            "text/plain": [
              "<Figure size 720x432 with 1 Axes>"
            ]
          },
          "metadata": {
            "tags": [],
            "needs_background": "light"
          }
        }
      ]
    },
    {
      "cell_type": "code",
      "metadata": {
        "colab_type": "code",
        "id": "bGC1oFxmTlDf",
        "colab": {}
      },
      "source": [
        "def predict_test(data, model, scaler):\n",
        "    temp_model = model.eval()\n",
        "    row = torch.from_numpy(data).float()\n",
        "    yhat = temp_model(row.cuda())\n",
        "    yhat = yhat.cpu().detach().numpy()\n",
        "    yhat = scaler.inverse_transform(yhat).reshape(-1,1)\n",
        "    pred = pd.DataFrame(np.concatenate((yhat, data.reshape(-1,1)), axis = 1), columns = ['yhat','actual'])\n",
        "\n",
        "    return(pred)"
      ],
      "execution_count": null,
      "outputs": []
    },
    {
      "cell_type": "code",
      "metadata": {
        "colab_type": "code",
        "id": "MxHZfPkETlDh",
        "colab": {
          "base_uri": "https://localhost:8080/",
          "height": 230
        },
        "outputId": "6b79f3e0-31b9-472c-fe71-64c78fb7e644"
      },
      "source": [
        "pred = predict_test(test_data.reshape(1,-1,1), model, scaler)\n",
        "print(pred)"
      ],
      "execution_count": null,
      "outputs": [
        {
          "output_type": "stream",
          "text": [
            "          yhat  actual\n",
            "0   583.936340   417.0\n",
            "1   596.259827   391.0\n",
            "2   628.309265   419.0\n",
            "3   636.129639   461.0\n",
            "4   639.977600   472.0\n",
            "5   644.328735   535.0\n",
            "6   648.339417   622.0\n",
            "7   652.030823   606.0\n",
            "8   655.573242   508.0\n",
            "9   658.717590   461.0\n",
            "10  661.467590   390.0\n",
            "11  663.752502   432.0\n"
          ],
          "name": "stdout"
        }
      ]
    },
    {
      "cell_type": "code",
      "metadata": {
        "colab_type": "code",
        "id": "jPxM152MTlDi",
        "colab": {
          "base_uri": "https://localhost:8080/",
          "height": 372
        },
        "outputId": "69915814-12dd-4dbb-a6bd-fccae672efd0"
      },
      "source": [
        "plt.plot(pred.iloc[:,0], label = 'yhat')\n",
        "plt.plot(pred.iloc[:,1], label = 'Actual')\n",
        "plt.legend()\n",
        "plt.show()"
      ],
      "execution_count": null,
      "outputs": [
        {
          "output_type": "display_data",
          "data": {
            "image/png": "[encoded data removed]",
            "text/plain": [
              "<Figure size 720x432 with 1 Axes>"
            ]
          },
          "metadata": {
            "tags": [],
            "needs_background": "light"
          }
        }
      ]
    },
    {
      "cell_type": "code",
      "metadata": {
        "id": "g0lnJCyEUWrr",
        "colab_type": "code",
        "colab": {}
      },
      "source": [
        ""
      ],
      "execution_count": null,
      "outputs": []
    },
    {
      "cell_type": "markdown",
      "metadata": {
        "colab_type": "text",
        "id": "YlBJB273V8P4"
      },
      "source": [
        "<br>\n",
        "\n",
        "# GRU Autoencoder Output"
      ]
    },
    {
      "cell_type": "code",
      "metadata": {
        "colab_type": "code",
        "id": "a4o-XhJsV8QB",
        "colab": {}
      },
      "source": [
        "class Encoder(nn.Module):\n",
        "\n",
        "  def __init__(self, seq_len, n_features, embedding_dim=64):\n",
        "    super(Encoder, self).__init__()\n",
        "\n",
        "    self.seq_len, self.n_features = seq_len, n_features\n",
        "    self.embedding_dim, self.hidden_dim = embedding_dim, 2 * embedding_dim\n",
        "\n",
        "    self.rnn1 = nn.GRU(\n",
        "      input_size=n_features,\n",
        "      hidden_size=self.hidden_dim,\n",
        "      num_layers=1,\n",
        "      batch_first=True\n",
        "    )\n",
        "\n",
        "    self.rnn2 = nn.GRU(\n",
        "      input_size=self.hidden_dim,\n",
        "      hidden_size=embedding_dim,\n",
        "      num_layers=1,\n",
        "      batch_first=True\n",
        "    )\n",
        "\n",
        "  def forward(self, x):\n",
        "\n",
        "    x, _ = self.rnn1(x)\n",
        "    x, hidden_n = self.rnn2(x)\n",
        "\n",
        "    return x"
      ],
      "execution_count": null,
      "outputs": []
    },
    {
      "cell_type": "code",
      "metadata": {
        "colab_type": "code",
        "id": "_73WZNR5V8QD",
        "colab": {}
      },
      "source": [
        "class Decoder(nn.Module):\n",
        "\n",
        "  def __init__(self, seq_len, input_dim=64, n_features=1):\n",
        "    super(Decoder, self).__init__()\n",
        "\n",
        "    self.seq_len, self.input_dim = seq_len, input_dim\n",
        "    self.hidden_dim, self.n_features = 2 * input_dim, n_features\n",
        "    self.rnn1 = nn.GRU(\n",
        "      input_size=input_dim,\n",
        "      hidden_size=input_dim,\n",
        "      num_layers=1,\n",
        "      batch_first=True\n",
        "    )\n",
        "\n",
        "    self.rnn2 = nn.GRU(\n",
        "      input_size=input_dim,\n",
        "      hidden_size=self.hidden_dim,\n",
        "      num_layers=1,\n",
        "      batch_first=True\n",
        "    )\n",
        "\n",
        "    self.output_layer = nn.Linear(self.hidden_dim, n_features)\n",
        "\n",
        "  def forward(self, x):\n",
        "    x = x.reshape((self.n_features, self.seq_len, self.input_dim))\n",
        "\n",
        "    x, hidden_n = self.rnn1(x)\n",
        "    x, hidden_n = self.rnn2(x)\n",
        "    x = x.reshape((self.seq_len, self.hidden_dim))\n",
        "\n",
        "    return self.output_layer(x)"
      ],
      "execution_count": null,
      "outputs": []
    },
    {
      "cell_type": "code",
      "metadata": {
        "colab_type": "code",
        "id": "bGxei3uiV8QI",
        "colab": {}
      },
      "source": [
        "class RecurrentAutoencoder(nn.Module):\n",
        "\n",
        "  def __init__(self, seq_len, n_features, embedding_dim=64):\n",
        "    super(RecurrentAutoencoder, self).__init__()\n",
        "\n",
        "    self.encoder = Encoder(seq_len, n_features, embedding_dim).cuda()\n",
        "    self.decoder = Decoder(seq_len, embedding_dim, n_features).cuda()\n",
        "\n",
        "  def forward(self, x):\n",
        "    x = self.encoder(x)\n",
        "    x = self.decoder(x)\n",
        "\n",
        "    return x"
      ],
      "execution_count": null,
      "outputs": []
    },
    {
      "cell_type": "code",
      "metadata": {
        "colab_type": "code",
        "id": "N7RWfFeCV8QK",
        "colab": {}
      },
      "source": [
        "model1 = RecurrentAutoencoder(seq_len, n_features, 128)\n",
        "model1 = model1.cuda()"
      ],
      "execution_count": null,
      "outputs": []
    },
    {
      "cell_type": "code",
      "metadata": {
        "colab_type": "code",
        "id": "LhwpG80PV8QL",
        "colab": {}
      },
      "source": [
        "def train_model(model, train_dataset, n_epochs):\n",
        "    optimizer = torch.optim.Adam(model.parameters(), lr=1e-3)\n",
        "    criterion = nn.L1Loss(reduction='sum').cuda()\n",
        "    history = dict(train=[])\n",
        "\n",
        "    for epoch in range(n_epochs):\n",
        "        model = model.train()\n",
        "\n",
        "        train_losses = []\n",
        "        for seq_true in train_dataset:\n",
        "            optimizer.zero_grad()\n",
        "\n",
        "            seq_true = seq_true.float().cuda()\n",
        "            seq_pred = model(seq_true)\n",
        "\n",
        "            loss = criterion(seq_pred.reshape(1,-1,1), seq_true)\n",
        "\n",
        "            loss.backward()\n",
        "            optimizer.step()\n",
        "\n",
        "            train_losses.append(loss.item())\n",
        "\n",
        "        train_loss = np.mean(train_losses)\n",
        "\n",
        "        history['train'].append(train_loss)\n",
        "\n",
        "        best_model_wts = copy.deepcopy(model.state_dict())\n",
        "        if (epoch+1) % 100 == 0:\n",
        "            print(f'Epoch {epoch+1}: train loss {train_loss}')\n",
        "\n",
        "    model.load_state_dict(best_model_wts)\n",
        "\n",
        "    plt.rcParams[\"figure.figsize\"] = (10,6)\n",
        "    ax = plt.figure().gca()\n",
        "    ax.plot(history['train'])\n",
        "    plt.ylabel('Loss')\n",
        "    plt.xlabel('Epochs')\n",
        "    plt.title('Loss over training epochs')\n",
        "    plt.show()\n",
        "    return model.eval(), history"
      ],
      "execution_count": null,
      "outputs": []
    },
    {
      "cell_type": "code",
      "metadata": {
        "colab_type": "code",
        "id": "jYeAequaV8QN",
        "colab": {
          "base_uri": "https://localhost:8080/",
          "height": 896
        },
        "outputId": "3619f1f5-498b-4e80-8bd8-3d636eacb648"
      },
      "source": [
        "model, history = train_model(model1, train_loader, 3000)"
      ],
      "execution_count": null,
      "outputs": [
        {
          "output_type": "stream",
          "text": [
            "Epoch 100: train loss 0.4075147401202809\n",
            "Epoch 200: train loss 0.22790393097834152\n",
            "Epoch 300: train loss 0.7597084451805461\n",
            "Epoch 400: train loss 0.2837709147821773\n",
            "Epoch 500: train loss 0.6552453095262701\n",
            "Epoch 600: train loss 0.1803408685055646\n",
            "Epoch 700: train loss 0.26469704508781433\n",
            "Epoch 800: train loss 0.598628892139955\n",
            "Epoch 900: train loss 0.5220143469897184\n",
            "Epoch 1000: train loss 0.35145224359902466\n",
            "Epoch 1100: train loss 0.19917256452820517\n",
            "Epoch 1200: train loss 0.351372092962265\n",
            "Epoch 1300: train loss 0.27162238549102435\n",
            "Epoch 1400: train loss 0.11398573219776154\n",
            "Epoch 1500: train loss 0.13901634243401614\n",
            "Epoch 1600: train loss 0.18559967489405113\n",
            "Epoch 1700: train loss 0.2397690456021916\n",
            "Epoch 1800: train loss 0.17466179484670813\n",
            "Epoch 1900: train loss 0.11627889356829903\n",
            "Epoch 2000: train loss 0.11594020507552406\n",
            "Epoch 2100: train loss 0.11196144331585277\n",
            "Epoch 2200: train loss 0.15306302160024643\n",
            "Epoch 2300: train loss 0.11003267019987106\n",
            "Epoch 2400: train loss 0.12091852250424298\n",
            "Epoch 2500: train loss 0.10179803249510852\n",
            "Epoch 2600: train loss 0.12421189384026961\n",
            "Epoch 2700: train loss 0.06998068432916295\n",
            "Epoch 2800: train loss 0.1101109730926427\n",
            "Epoch 2900: train loss 0.14072210477157074\n",
            "Epoch 3000: train loss 0.10929821905764667\n"
          ],
          "name": "stdout"
        },
        {
          "output_type": "display_data",
          "data": {
            "image/png": "[encoded data removed]",
            "text/plain": [
              "<Figure size 720x432 with 1 Axes>"
            ]
          },
          "metadata": {
            "tags": [],
            "needs_background": "light"
          }
        }
      ]
    },
    {
      "cell_type": "code",
      "metadata": {
        "colab_type": "code",
        "id": "cl7Pll9PV8QO",
        "colab": {}
      },
      "source": [
        "def predict_test(data, model, scaler):\n",
        "    temp_model = model.eval()\n",
        "    row = torch.from_numpy(data).float()\n",
        "    yhat = temp_model(row.cuda())\n",
        "    yhat = yhat.cpu().detach().numpy()\n",
        "    yhat = scaler.inverse_transform(yhat).reshape(-1,1)\n",
        "    pred = pd.DataFrame(np.concatenate((yhat, data.reshape(-1,1)), axis = 1), columns = ['yhat','actual'])\n",
        "\n",
        "    return(pred)"
      ],
      "execution_count": null,
      "outputs": []
    },
    {
      "cell_type": "code",
      "metadata": {
        "colab_type": "code",
        "id": "TaJkgMyHV8QQ",
        "colab": {
          "base_uri": "https://localhost:8080/",
          "height": 230
        },
        "outputId": "26e78562-db63-4b96-a8de-2f04c5bf57a8"
      },
      "source": [
        "pred = predict_test(test_data.reshape(1,-1,1), model, scaler)\n",
        "print(pred)"
      ],
      "execution_count": null,
      "outputs": [
        {
          "output_type": "stream",
          "text": [
            "          yhat  actual\n",
            "0   623.056641   417.0\n",
            "1   524.932007   391.0\n",
            "2   459.529755   419.0\n",
            "3   438.997650   461.0\n",
            "4   613.207642   472.0\n",
            "5   689.779053   535.0\n",
            "6   592.548889   622.0\n",
            "7   572.902832   606.0\n",
            "8   540.143677   508.0\n",
            "9   672.431824   461.0\n",
            "10  549.712158   390.0\n",
            "11  547.344116   432.0\n"
          ],
          "name": "stdout"
        }
      ]
    },
    {
      "cell_type": "code",
      "metadata": {
        "colab_type": "code",
        "id": "XQh4VAHvV8QR",
        "colab": {
          "base_uri": "https://localhost:8080/",
          "height": 372
        },
        "outputId": "0652965f-87a0-408e-dfc0-1935e5b53156"
      },
      "source": [
        "plt.plot(pred.iloc[:,0], label = 'yhat')\n",
        "plt.plot(pred.iloc[:,1], label = 'Actual')\n",
        "plt.legend()\n",
        "plt.show()"
      ],
      "execution_count": null,
      "outputs": [
        {
          "output_type": "display_data",
          "data": {
            "image/png": "[encoded data removed]",
            "text/plain": [
              "<Figure size 720x432 with 1 Axes>"
            ]
          },
          "metadata": {
            "tags": [],
            "needs_background": "light"
          }
        }
      ]
    },
    {
      "cell_type": "code",
      "metadata": {
        "id": "alLUhceIX1W-",
        "colab_type": "code",
        "colab": {}
      },
      "source": [
        ""
      ],
      "execution_count": null,
      "outputs": []
    },
    {
      "cell_type": "markdown",
      "metadata": {
        "colab_type": "text",
        "id": "IMD9dcsAX_ii"
      },
      "source": [
        "<br>\n",
        "\n",
        "# GRU Autoencoder Hidden"
      ]
    },
    {
      "cell_type": "code",
      "metadata": {
        "colab_type": "code",
        "id": "pBRNE8Xx_C7W",
        "colab": {}
      },
      "source": [
        "class TimeDistributed(nn.Module):\n",
        "    def __init__(self, module, batch_first=False):\n",
        "        super(TimeDistributed, self).__init__()\n",
        "        self.module = module\n",
        "        self.batch_first = batch_first\n",
        "\n",
        "    def forward(self, x):\n",
        "        if len(x.size()) <= 2:\n",
        "            return self.module(x)\n",
        "        # Squash samples and timesteps into a single axis\n",
        "        x_reshape = x.contiguous().view(-1, x.size(-1))  # (samples * timesteps, input_size)\n",
        "        y = self.module(x_reshape)\n",
        "        # We have to reshape Y\n",
        "        if self.batch_first:\n",
        "            y = y.contiguous().view(x.size(0), -1, y.size(-1))  # (samples, timesteps, output_size)\n",
        "        else:\n",
        "            y = y.view(-1, x.size(1), y.size(-1))  # (timesteps, samples, output_size)\n",
        "        return y"
      ],
      "execution_count": 68,
      "outputs": []
    },
    {
      "cell_type": "code",
      "metadata": {
        "colab_type": "code",
        "id": "RiEpljlFX_is",
        "colab": {}
      },
      "source": [
        "class Encoder(nn.Module):\n",
        "\n",
        "  def __init__(self, seq_len, n_features, embedding_dim=64):\n",
        "    super(Encoder, self).__init__()\n",
        "\n",
        "    self.seq_len, self.n_features = seq_len, n_features\n",
        "    self.embedding_dim, self.hidden_dim = embedding_dim, 2 * embedding_dim\n",
        "\n",
        "    self.rnn1 = nn.GRU(\n",
        "      input_size=n_features,\n",
        "      hidden_size=self.hidden_dim // 2, # Bidirectional will double this dimension size \n",
        "      num_layers=1,\n",
        "      batch_first=True,\n",
        "      bidirectional = True\n",
        "    )\n",
        "\n",
        "    self.rnn2 = nn.GRU(\n",
        "      input_size=self.hidden_dim,\n",
        "      hidden_size=embedding_dim,\n",
        "      num_layers=1,\n",
        "      batch_first=True\n",
        "    )\n",
        "\n",
        "  def forward(self, x):\n",
        "\n",
        "    x, _ = self.rnn1(x)\n",
        "    x, hidden_n = self.rnn2(x)\n",
        "    return hidden_n.reshape((self.n_features, self.embedding_dim))"
      ],
      "execution_count": 88,
      "outputs": []
    },
    {
      "cell_type": "code",
      "metadata": {
        "colab_type": "code",
        "id": "baP2ZnVuX_it",
        "colab": {}
      },
      "source": [
        "class Decoder(nn.Module):\n",
        "\n",
        "  def __init__(self, seq_len, input_dim=64, n_features=1):\n",
        "    super(Decoder, self).__init__()\n",
        "\n",
        "    self.seq_len, self.input_dim = seq_len, input_dim\n",
        "    self.hidden_dim, self.n_features = 2 * input_dim, n_features\n",
        "    self.rnn1 = nn.GRU(\n",
        "      input_size=input_dim,\n",
        "      hidden_size=input_dim,\n",
        "      num_layers=1,\n",
        "      batch_first=True \n",
        "    )\n",
        "\n",
        "    self.rnn2 = nn.GRU(\n",
        "      input_size=input_dim,\n",
        "      hidden_size=self.hidden_dim,\n",
        "      num_layers=1,\n",
        "      batch_first=True\n",
        "    )\n",
        "\n",
        "    self.output_layer = nn.Linear(self.hidden_dim, n_features)\n",
        "    self.timedist = TimeDistributed(self.output_layer)\n",
        "\n",
        "  def forward(self, x):\n",
        "    x = x.repeat(self.seq_len, self.n_features)\n",
        "    x = x.reshape((self.n_features, self.seq_len, self.input_dim))\n",
        "\n",
        "    x, _ = self.rnn1(x)\n",
        "    x, _ = self.rnn2(x)\n",
        "    x = x.reshape((self.seq_len, self.hidden_dim))\n",
        "\n",
        "    return self.timedist(x)"
      ],
      "execution_count": 89,
      "outputs": []
    },
    {
      "cell_type": "code",
      "metadata": {
        "colab_type": "code",
        "id": "NGSqgIaCX_iy",
        "colab": {}
      },
      "source": [
        "class RecurrentAutoencoder(nn.Module):\n",
        "\n",
        "  def __init__(self, seq_len, n_features, embedding_dim=64):\n",
        "    super(RecurrentAutoencoder, self).__init__()\n",
        "\n",
        "    self.encoder = Encoder(seq_len, n_features, embedding_dim).cuda()\n",
        "    self.decoder = Decoder(seq_len, embedding_dim, n_features).cuda()\n",
        "\n",
        "  def forward(self, x):\n",
        "    x = self.encoder(x)\n",
        "    x = self.decoder(x)\n",
        "\n",
        "    return x"
      ],
      "execution_count": 90,
      "outputs": []
    },
    {
      "cell_type": "code",
      "metadata": {
        "colab_type": "code",
        "id": "Qwi8VcPeX_i0",
        "colab": {
          "base_uri": "https://localhost:8080/",
          "height": 247
        },
        "outputId": "1e291d67-fdeb-4048-b2b5-a0b20c02985a"
      },
      "source": [
        "model1 = RecurrentAutoencoder(seq_len, n_features, 64)\n",
        "model1 = model1.cuda()\n",
        "model1"
      ],
      "execution_count": 91,
      "outputs": [
        {
          "output_type": "execute_result",
          "data": {
            "text/plain": [
              "RecurrentAutoencoder(\n",
              "  (encoder): Encoder(\n",
              "    (rnn1): GRU(1, 64, batch_first=True, bidirectional=True)\n",
              "    (rnn2): GRU(128, 64, batch_first=True)\n",
              "  )\n",
              "  (decoder): Decoder(\n",
              "    (rnn1): GRU(64, 64, batch_first=True)\n",
              "    (rnn2): GRU(64, 128, batch_first=True)\n",
              "    (output_layer): Linear(in_features=128, out_features=1, bias=True)\n",
              "    (timedist): TimeDistributed(\n",
              "      (module): Linear(in_features=128, out_features=1, bias=True)\n",
              "    )\n",
              "  )\n",
              ")"
            ]
          },
          "metadata": {
            "tags": []
          },
          "execution_count": 91
        }
      ]
    },
    {
      "cell_type": "code",
      "metadata": {
        "colab_type": "code",
        "id": "DDoJJEvRX_i2",
        "colab": {}
      },
      "source": [
        "def train_model(model, train_dataset, n_epochs):\n",
        "    optimizer = torch.optim.Adam(model.parameters(), lr=1e-3)\n",
        "    criterion = nn.L1Loss(reduction='sum').cuda()\n",
        "    history = dict(train=[])\n",
        "\n",
        "    for epoch in range(n_epochs):\n",
        "        model = model.train()\n",
        "\n",
        "        train_losses = []\n",
        "        for seq_true in train_dataset:\n",
        "            optimizer.zero_grad()\n",
        "\n",
        "            seq_true = seq_true.float().cuda()\n",
        "            seq_pred = model(seq_true)\n",
        "\n",
        "            loss = criterion(seq_pred.reshape(1,-1,1), seq_true)\n",
        "\n",
        "            loss.backward()\n",
        "            optimizer.step()\n",
        "\n",
        "            train_losses.append(loss.item())\n",
        "\n",
        "        train_loss = np.mean(train_losses)\n",
        "\n",
        "        history['train'].append(train_loss)\n",
        "\n",
        "        best_model_wts = copy.deepcopy(model.state_dict())\n",
        "        if (epoch+1) % 100 == 0:\n",
        "            print(f'Epoch {epoch+1}: train loss {train_loss}')\n",
        "\n",
        "    model.load_state_dict(best_model_wts)\n",
        "\n",
        "    plt.rcParams[\"figure.figsize\"] = (10,6)\n",
        "    ax = plt.figure().gca()\n",
        "    ax.plot(history['train'])\n",
        "    plt.ylabel('Loss')\n",
        "    plt.xlabel('Epochs')\n",
        "    plt.title('Loss over training epochs')\n",
        "    plt.show()\n",
        "    return model.eval(), history"
      ],
      "execution_count": 92,
      "outputs": []
    },
    {
      "cell_type": "code",
      "metadata": {
        "colab_type": "code",
        "id": "Ec3trbQyX_i3",
        "colab": {
          "base_uri": "https://localhost:8080/",
          "height": 896
        },
        "outputId": "a6a84120-0efe-49ee-fda7-ce01ce0c52cf"
      },
      "source": [
        "model, history = train_model(model1, train_loader, 3000)"
      ],
      "execution_count": 93,
      "outputs": [
        {
          "output_type": "stream",
          "text": [
            "Epoch 100: train loss 1.097280421040275\n",
            "Epoch 200: train loss 0.3688692098314112\n",
            "Epoch 300: train loss 0.5005883791229941\n",
            "Epoch 400: train loss 0.4327593825080178\n",
            "Epoch 500: train loss 0.1751724420623346\n",
            "Epoch 600: train loss 0.36428718946196814\n",
            "Epoch 700: train loss 0.2631590569561178\n",
            "Epoch 800: train loss 0.3126449693333019\n",
            "Epoch 900: train loss 0.2448304837400263\n",
            "Epoch 1000: train loss 0.2337399341843345\n",
            "Epoch 1100: train loss 0.2966229712421244\n",
            "Epoch 1200: train loss 0.19876207546754318\n",
            "Epoch 1300: train loss 0.23599895631725137\n",
            "Epoch 1400: train loss 0.16751580143516714\n",
            "Epoch 1500: train loss 0.13821154697374863\n",
            "Epoch 1600: train loss 0.17965203794566068\n",
            "Epoch 1700: train loss 0.19296438721093265\n",
            "Epoch 1800: train loss 0.153555459596894\n",
            "Epoch 1900: train loss 0.14929735660552979\n",
            "Epoch 2000: train loss 0.1019280505451289\n",
            "Epoch 2100: train loss 0.08576504750685258\n",
            "Epoch 2200: train loss 0.10265220295299184\n",
            "Epoch 2300: train loss 0.10857315022837032\n",
            "Epoch 2400: train loss 0.14046824791214682\n",
            "Epoch 2500: train loss 0.10378049652684819\n",
            "Epoch 2600: train loss 0.11123798550529913\n",
            "Epoch 2700: train loss 0.14992458441040732\n",
            "Epoch 2800: train loss 0.09834990921345624\n",
            "Epoch 2900: train loss 0.11381685936992819\n",
            "Epoch 3000: train loss 0.10821092839945447\n"
          ],
          "name": "stdout"
        },
        {
          "output_type": "display_data",
          "data": {
            "image/png": "[encoded data removed]",
            "text/plain": [
              "<Figure size 720x432 with 1 Axes>"
            ]
          },
          "metadata": {
            "tags": [],
            "needs_background": "light"
          }
        }
      ]
    },
    {
      "cell_type": "code",
      "metadata": {
        "colab_type": "code",
        "id": "DZbVnS_sX_i5",
        "colab": {}
      },
      "source": [
        "def predict_test(data, model, scaler):\n",
        "    temp_model = model.eval()\n",
        "    row = torch.from_numpy(data).float()\n",
        "    yhat = temp_model(row.cuda())\n",
        "    yhat = yhat.cpu().detach().numpy()\n",
        "    yhat = scaler.inverse_transform(yhat).reshape(-1,1)\n",
        "    pred = pd.DataFrame(np.concatenate((yhat, data.reshape(-1,1)), axis = 1), columns = ['yhat','actual'])\n",
        "\n",
        "    return(pred)"
      ],
      "execution_count": 94,
      "outputs": []
    },
    {
      "cell_type": "code",
      "metadata": {
        "colab_type": "code",
        "id": "1N_TIKfBX_i6",
        "colab": {
          "base_uri": "https://localhost:8080/",
          "height": 230
        },
        "outputId": "471ca197-e435-4983-9945-c934f9a8e557"
      },
      "source": [
        "pred = predict_test(test_data.reshape(1,-1,1), model, scaler)\n",
        "print(pred)"
      ],
      "execution_count": 95,
      "outputs": [
        {
          "output_type": "stream",
          "text": [
            "          yhat  actual\n",
            "0   342.177490   417.0\n",
            "1   302.870148   391.0\n",
            "2   353.250031   419.0\n",
            "3   337.124451   461.0\n",
            "4   400.316315   472.0\n",
            "5   470.684631   535.0\n",
            "6   539.604431   622.0\n",
            "7   479.346649   606.0\n",
            "8   363.219177   508.0\n",
            "9   375.736816   461.0\n",
            "10  416.987152   390.0\n",
            "11  481.708221   432.0\n"
          ],
          "name": "stdout"
        }
      ]
    },
    {
      "cell_type": "code",
      "metadata": {
        "colab_type": "code",
        "id": "_GtOX7ldX_i8",
        "colab": {
          "base_uri": "https://localhost:8080/",
          "height": 372
        },
        "outputId": "296faf66-9f45-48ec-eb36-f7e46f7087d7"
      },
      "source": [
        "plt.plot(pred.iloc[:,0], label = 'yhat')\n",
        "plt.plot(pred.iloc[:,1], label = 'Actual')\n",
        "plt.legend()\n",
        "plt.show()"
      ],
      "execution_count": 96,
      "outputs": [
        {
          "output_type": "display_data",
          "data": {
            "image/png": "[encoded data removed]",
            "text/plain": [
              "<Figure size 720x432 with 1 Axes>"
            ]
          },
          "metadata": {
            "tags": [],
            "needs_background": "light"
          }
        }
      ]
    },
    {
      "cell_type": "code",
      "metadata": {
        "colab_type": "code",
        "id": "D5lplt3uX_i9",
        "colab": {}
      },
      "source": [
        ""
      ],
      "execution_count": null,
      "outputs": []
    }
  ]
}